{
  "nbformat": 4,
  "nbformat_minor": 0,
  "metadata": {
    "colab": {
      "name": "run_file.ipynb",
      "provenance": [],
      "collapsed_sections": [],
      "toc_visible": true
    },
    "kernelspec": {
      "name": "python3",
      "display_name": "Python 3"
    }
  },
  "cells": [
    {
      "cell_type": "markdown",
      "metadata": {
        "id": "BsE_7Ms6BcaU",
        "colab_type": "text"
      },
      "source": [
        "# Command to run the Deep Reinforcement Learning trader"
      ]
    },
    {
      "cell_type": "markdown",
      "metadata": {
        "id": "ThryYvD8DTg4",
        "colab_type": "text"
      },
      "source": [
        "## Train Model"
      ]
    },
    {
      "cell_type": "code",
      "metadata": {
        "id": "2aOUiuGhBlkt",
        "colab_type": "code",
        "colab": {}
      },
      "source": [
        "!python rl_trader.py -m train && python plot_rl_rewards.py -m train"
      ],
      "execution_count": 0,
      "outputs": []
    },
    {
      "cell_type": "markdown",
      "metadata": {
        "id": "ERLsDe6xDVDn",
        "colab_type": "text"
      },
      "source": [
        "## Test Model"
      ]
    },
    {
      "cell_type": "code",
      "metadata": {
        "id": "ID7hsGwTBxGb",
        "colab_type": "code",
        "colab": {}
      },
      "source": [
        "!python rl_trader.py -m test && python plot_rl_rewards.py -m test"
      ],
      "execution_count": 0,
      "outputs": []
    }
  ]
}