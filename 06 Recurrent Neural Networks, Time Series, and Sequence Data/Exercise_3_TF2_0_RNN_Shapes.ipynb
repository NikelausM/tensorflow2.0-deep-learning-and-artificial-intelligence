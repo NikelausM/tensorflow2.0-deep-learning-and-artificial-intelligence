{
  "nbformat": 4,
  "nbformat_minor": 0,
  "metadata": {
    "colab": {
      "name": "TF2.0 RNN Shapes.ipynb",
      "provenance": [],
      "collapsed_sections": []
    },
    "kernelspec": {
      "name": "python3",
      "display_name": "Python 3"
    }
  },
  "cells": [
    {
      "cell_type": "code",
      "metadata": {
        "id": "yBHIiTrWr-g4",
        "colab_type": "code",
        "colab": {
          "base_uri": "https://localhost:8080/",
          "height": 148
        },
        "outputId": "7d827621-4010-4942-a874-f49577a25fa5"
      },
      "source": [
        "# Install TensorFlow\n",
        "#!pip install tensorflow\n",
        "\n",
        "try:\n",
        "  %tensorflow_version 2.x  # Colab only.\n",
        "except Exception:\n",
        "  pass\n",
        "\n",
        "import tensorflow as tf\n",
        "print(tf.__version__)"
      ],
      "execution_count": 130,
      "outputs": [
        {
          "output_type": "stream",
          "text": [
            "`%tensorflow_version` only switches the major version: 1.x or 2.x.\n",
            "You set: `2.x  # Colab only.`. This will be interpreted as: `2.x`.\n",
            "\n",
            "\n",
            "TensorFlow is already loaded. Please restart the runtime to change versions.\n",
            "2.2.0\n"
          ],
          "name": "stdout"
        }
      ]
    },
    {
      "cell_type": "code",
      "metadata": {
        "id": "gkwAbIhFsM-0",
        "colab_type": "code",
        "colab": {}
      },
      "source": [
        "from tensorflow.keras.layers import Input, Dense, SimpleRNN\n",
        "from tensorflow.keras.models import Model\n",
        "from tensorflow.keras.optimizers import SGD, Adam\n",
        "\n",
        "import numpy as np\n",
        "import pandas as pd\n",
        "import matplotlib.pyplot as plt"
      ],
      "execution_count": 0,
      "outputs": []
    },
    {
      "cell_type": "markdown",
      "metadata": {
        "id": "K5jxJaVcsQUu",
        "colab_type": "text"
      },
      "source": [
        "# Create Data"
      ]
    },
    {
      "cell_type": "code",
      "metadata": {
        "id": "Diuc4yZIsTqo",
        "colab_type": "code",
        "colab": {}
      },
      "source": [
        "N = 20 # Number of samples\n",
        "T = 10 # Length of sequence\n",
        "D = 3 # Number of features\n",
        "M = 5 # Number neurons in hidden layer\n",
        "K = 2 # Number of outputs\n",
        "X = np.random.randn(N, T, D)"
      ],
      "execution_count": 0,
      "outputs": []
    },
    {
      "cell_type": "markdown",
      "metadata": {
        "id": "RaIXUIQUscel",
        "colab_type": "text"
      },
      "source": [
        "# Build Model"
      ]
    },
    {
      "cell_type": "code",
      "metadata": {
        "id": "7yoWR0SgsgrA",
        "colab_type": "code",
        "colab": {}
      },
      "source": [
        "i = Input(shape=(T, D))\n",
        "x = SimpleRNN(M)(i)\n",
        "x = Dense(K)(x)\n",
        "\n",
        "model = Model(i, x)"
      ],
      "execution_count": 0,
      "outputs": []
    },
    {
      "cell_type": "code",
      "metadata": {
        "id": "3vzK_cxou7p2",
        "colab_type": "code",
        "colab": {
          "base_uri": "https://localhost:8080/",
          "height": 294
        },
        "outputId": "2c33ca03-68ea-40b9-d091-de41e89f20c1"
      },
      "source": [
        "print(model.summary())"
      ],
      "execution_count": 134,
      "outputs": [
        {
          "output_type": "stream",
          "text": [
            "Model: \"model_11\"\n",
            "_________________________________________________________________\n",
            "Layer (type)                 Output Shape              Param #   \n",
            "=================================================================\n",
            "input_13 (InputLayer)        [(None, 10, 3)]           0         \n",
            "_________________________________________________________________\n",
            "simple_rnn_12 (SimpleRNN)    (None, 5)                 45        \n",
            "_________________________________________________________________\n",
            "dense_11 (Dense)             (None, 2)                 12        \n",
            "=================================================================\n",
            "Total params: 57\n",
            "Trainable params: 57\n",
            "Non-trainable params: 0\n",
            "_________________________________________________________________\n",
            "None\n"
          ],
          "name": "stdout"
        }
      ]
    },
    {
      "cell_type": "markdown",
      "metadata": {
        "id": "xO76d_isvLpr",
        "colab_type": "text"
      },
      "source": [
        "# Make Model Prediction"
      ]
    },
    {
      "cell_type": "code",
      "metadata": {
        "id": "5UrcbHfFvS2_",
        "colab_type": "code",
        "colab": {
          "base_uri": "https://localhost:8080/",
          "height": 35
        },
        "outputId": "901ce3a4-6508-4ac2-9a1e-c11cce2ae14c"
      },
      "source": [
        "Yhat_model = model.predict(X)\n",
        "Yhat_model[0]"
      ],
      "execution_count": 135,
      "outputs": [
        {
          "output_type": "execute_result",
          "data": {
            "text/plain": [
              "array([-0.7152962,  0.7136456], dtype=float32)"
            ]
          },
          "metadata": {
            "tags": []
          },
          "execution_count": 135
        }
      ]
    },
    {
      "cell_type": "markdown",
      "metadata": {
        "id": "xkKY5P50vWTQ",
        "colab_type": "text"
      },
      "source": [
        "# Make Manual Prediction"
      ]
    },
    {
      "cell_type": "code",
      "metadata": {
        "id": "aYBSUXGezxKi",
        "colab_type": "code",
        "colab": {
          "base_uri": "https://localhost:8080/",
          "height": 35
        },
        "outputId": "82f6eb09-da20-48d3-9b9a-61a89cd94e6d"
      },
      "source": [
        "a, b, c = model.layers[1].get_weights()\n",
        "print(a.shape, b.shape, c.shape)"
      ],
      "execution_count": 136,
      "outputs": [
        {
          "output_type": "stream",
          "text": [
            "(3, 5) (5, 5) (5,)\n"
          ],
          "name": "stdout"
        }
      ]
    },
    {
      "cell_type": "code",
      "metadata": {
        "id": "CdygsA-svmQp",
        "colab_type": "code",
        "colab": {}
      },
      "source": [
        "W_xh, W_hh, b_h = model.layers[1].get_weights()\n",
        "W_o, b_o = model.layers[2].get_weights()"
      ],
      "execution_count": 0,
      "outputs": []
    },
    {
      "cell_type": "code",
      "metadata": {
        "id": "UJpeJ50QwBok",
        "colab_type": "code",
        "colab": {
          "base_uri": "https://localhost:8080/",
          "height": 35
        },
        "outputId": "d035e3c7-3a0e-47c5-f911-41873c773679"
      },
      "source": [
        "h_tminus1 = np.zeros(M) # initial hidden state with M hidden \n",
        "x = X[0] # the only sample\n",
        "Yhats_manual = [] # where we store the outputs\n",
        "\n",
        "for t in range(T):\n",
        "  h_t = np.tanh(x[t].dot(W_xh) + h_tminus1.dot(W_hh) + b_h) # tanh activation function for SimpleRNN hidden layer\n",
        "  yhat_t = h_t.dot(W_o) + b_o # no activation function for output layer\n",
        "  Yhats_manual.append(yhat_t)\n",
        "\n",
        "  h_tminus1 = h_t\n",
        "\n",
        "print(Yhats_manual[-1])"
      ],
      "execution_count": 138,
      "outputs": [
        {
          "output_type": "stream",
          "text": [
            "[-0.71529617  0.7136455 ]\n"
          ],
          "name": "stdout"
        }
      ]
    },
    {
      "cell_type": "code",
      "metadata": {
        "id": "oFRjJekwwWOI",
        "colab_type": "code",
        "colab": {
          "base_uri": "https://localhost:8080/",
          "height": 35
        },
        "outputId": "fda07ad6-666f-4634-cb6b-20ea2ab0996e"
      },
      "source": [
        "if(np.all(np.isclose(Yhat_model[0], Yhats_manual[-1], rtol=1e-05, atol=1e-08, equal_nan=False) == True)):\n",
        "  print(\"Model calculations and manual calculations match\")\n",
        "else:\n",
        "  print(\"Model calculations and manual don't calculations match\")"
      ],
      "execution_count": 139,
      "outputs": [
        {
          "output_type": "stream",
          "text": [
            "Model calculations and manual calculations match\n"
          ],
          "name": "stdout"
        }
      ]
    },
    {
      "cell_type": "code",
      "metadata": {
        "id": "lfZM1hje0Zrq",
        "colab_type": "code",
        "colab": {}
      },
      "source": [
        ""
      ],
      "execution_count": 0,
      "outputs": []
    }
  ]
}