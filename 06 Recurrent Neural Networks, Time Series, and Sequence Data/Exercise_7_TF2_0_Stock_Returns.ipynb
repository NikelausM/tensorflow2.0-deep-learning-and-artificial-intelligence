{
  "nbformat": 4,
  "nbformat_minor": 0,
  "metadata": {
    "colab": {
      "name": "Exercise_7_TF2.0_Stock_Returns.ipynb",
      "provenance": [],
      "collapsed_sections": [],
      "toc_visible": true
    },
    "kernelspec": {
      "name": "python3",
      "display_name": "Python 3"
    }
  },
  "cells": [
    {
      "cell_type": "code",
      "metadata": {
        "id": "wsYwFNm1RS_S",
        "colab_type": "code",
        "colab": {
          "base_uri": "https://localhost:8080/",
          "height": 128
        },
        "outputId": "f5b70c26-7b1e-480b-8b51-6037491014a5"
      },
      "source": [
        "# Install TensorFlow\n",
        "#!pip install tensorflow\n",
        "\n",
        "try:\n",
        "  %tensorflow_version 2.x  # Colab only.\n",
        "except Exception:\n",
        "  pass\n",
        "\n",
        "import tensorflow as tf\n",
        "print(tf.__version__)"
      ],
      "execution_count": 192,
      "outputs": [
        {
          "output_type": "stream",
          "text": [
            "`%tensorflow_version` only switches the major version: 1.x or 2.x.\n",
            "You set: `2.x  # Colab only.`. This will be interpreted as: `2.x`.\n",
            "\n",
            "\n",
            "TensorFlow is already loaded. Please restart the runtime to change versions.\n",
            "2.2.0\n"
          ],
          "name": "stdout"
        }
      ]
    },
    {
      "cell_type": "code",
      "metadata": {
        "id": "KFphs8m6RhqO",
        "colab_type": "code",
        "colab": {}
      },
      "source": [
        "# More imports\n",
        "from tensorflow.keras.layers import Input, LSTM, GRU, SimpleRNN, Dense, GlobalMaxPool1D\n",
        "from tensorflow.keras.models import Model\n",
        "from tensorflow.keras.optimizers import SGD, Adam\n",
        "\n",
        "import numpy as np\n",
        "import pandas as pd\n",
        "import matplotlib.pyplot as plt\n",
        "from sklearn.preprocessing import StandardScaler"
      ],
      "execution_count": 0,
      "outputs": []
    },
    {
      "cell_type": "markdown",
      "metadata": {
        "id": "3BA705YmRjWX",
        "colab_type": "text"
      },
      "source": [
        "# Load Data"
      ]
    },
    {
      "cell_type": "code",
      "metadata": {
        "id": "BKw-spFRRkdD",
        "colab_type": "code",
        "colab": {}
      },
      "source": [
        "df = pd.read_csv('https://raw.githubusercontent.com/lazyprogrammer/machine_learning_examples/master/tf2.0/sbux.csv')"
      ],
      "execution_count": 0,
      "outputs": []
    },
    {
      "cell_type": "code",
      "metadata": {
        "id": "sTiEfG9US1YU",
        "colab_type": "code",
        "colab": {}
      },
      "source": [
        "series = df['close'].values.reshape(-1,1)"
      ],
      "execution_count": 0,
      "outputs": []
    },
    {
      "cell_type": "markdown",
      "metadata": {
        "id": "k-Vu_LZiSKAj",
        "colab_type": "text"
      },
      "source": [
        "# Data Preprocessing"
      ]
    },
    {
      "cell_type": "markdown",
      "metadata": {
        "id": "sGEnAgdtSM8V",
        "colab_type": "text"
      },
      "source": [
        "## Normalize Data"
      ]
    },
    {
      "cell_type": "code",
      "metadata": {
        "id": "Ri42L5NfSSnQ",
        "colab_type": "code",
        "colab": {}
      },
      "source": [
        "scaler = StandardScaler()\n",
        "scaler.fit(series[:len(series) // 2])\n",
        "series = scaler.transform(series).flatten()"
      ],
      "execution_count": 0,
      "outputs": []
    },
    {
      "cell_type": "markdown",
      "metadata": {
        "id": "1_tTSleDST7b",
        "colab_type": "text"
      },
      "source": [
        "## Create Prediction Data"
      ]
    },
    {
      "cell_type": "code",
      "metadata": {
        "id": "GE9UfL3jSUTF",
        "colab_type": "code",
        "colab": {}
      },
      "source": [
        "N = len(series)\n",
        "T = 10 # 10 previous time steps to predict the next time step\n",
        "D = 1 # 1 numeric feature\n",
        "X = []# Using fixed size numpy arrays would probably be better\n",
        "Y = []\n",
        "\n",
        "# Final target index: len(series) - 1\n",
        "# Final t: len(series) - T - 1\n",
        "# Final target index: Final t + T\n",
        "# If we plug in value of little t ...\n",
        "# Final target index: [len(series) - T - 1] + T\n",
        "# Final target index: len(series) - 1\n",
        "for t in range(len(series) - T): # 0 to len(series) - T - 1\n",
        "  x = series[t:T+t] # t to t + T - 1\n",
        "  X.append(x)\n",
        "  y = series[t+T] # t + T\n",
        "  Y.append(y)\n",
        "\n",
        "X = np.array(X).reshape(-1, T, D) # N x T x D\n",
        "Y = np.array(Y)\n",
        "N = len(X)\n",
        "\n",
        "X_train = X[:-N//2]\n",
        "X_test = X[-N//2:]\n",
        "Y_train = Y[:-N//2]\n",
        "Y_test = Y[-N//2:]"
      ],
      "execution_count": 0,
      "outputs": []
    },
    {
      "cell_type": "markdown",
      "metadata": {
        "id": "9V6WAWwUS5hM",
        "colab_type": "text"
      },
      "source": [
        "# Build LSTM Regression Model for Closing Price"
      ]
    },
    {
      "cell_type": "code",
      "metadata": {
        "id": "q1jZERTy9rxZ",
        "colab_type": "code",
        "colab": {}
      },
      "source": [
        "i = Input(shape=(T, D))\n",
        "x = LSTM(10)(i)\n",
        "x = Dense(1)(x) # No activation function for regression\n",
        "\n",
        "model = Model(i, x)\n",
        "\n",
        "model.compile(optimizer=Adam(lr=0.1),\n",
        "              loss='mse',\n",
        "              metrics=['accuracy'])\n"
      ],
      "execution_count": 0,
      "outputs": []
    },
    {
      "cell_type": "code",
      "metadata": {
        "id": "Fwf13In6909S",
        "colab_type": "code",
        "outputId": "73750a3d-a65f-4611-8c88-997fd05e7b94",
        "colab": {
          "base_uri": "https://localhost:8080/",
          "height": 294
        }
      },
      "source": [
        "print(model.summary())"
      ],
      "execution_count": 199,
      "outputs": [
        {
          "output_type": "stream",
          "text": [
            "Model: \"model_9\"\n",
            "_________________________________________________________________\n",
            "Layer (type)                 Output Shape              Param #   \n",
            "=================================================================\n",
            "input_10 (InputLayer)        [(None, 10, 1)]           0         \n",
            "_________________________________________________________________\n",
            "lstm_9 (LSTM)                (None, 10)                480       \n",
            "_________________________________________________________________\n",
            "dense_9 (Dense)              (None, 1)                 11        \n",
            "=================================================================\n",
            "Total params: 491\n",
            "Trainable params: 491\n",
            "Non-trainable params: 0\n",
            "_________________________________________________________________\n",
            "None\n"
          ],
          "name": "stdout"
        }
      ]
    },
    {
      "cell_type": "code",
      "metadata": {
        "id": "YMj1Ccu-91hi",
        "colab_type": "code",
        "outputId": "24574d05-edcf-4aca-bc1d-eacf1f4c8d2d",
        "colab": {
          "base_uri": "https://localhost:8080/",
          "height": 1000
        }
      },
      "source": [
        "r = model.fit(X_train, Y_train,\n",
        "              validation_data = (X_test, Y_test), \n",
        "              epochs=100)"
      ],
      "execution_count": 200,
      "outputs": [
        {
          "output_type": "stream",
          "text": [
            "Epoch 1/100\n",
            "20/20 [==============================] - 0s 25ms/step - loss: 0.1837 - accuracy: 0.0000e+00 - val_loss: 0.3022 - val_accuracy: 0.0000e+00\n",
            "Epoch 2/100\n",
            "20/20 [==============================] - 0s 7ms/step - loss: 0.0193 - accuracy: 0.0000e+00 - val_loss: 0.0435 - val_accuracy: 0.0000e+00\n",
            "Epoch 3/100\n",
            "20/20 [==============================] - 0s 7ms/step - loss: 0.0085 - accuracy: 0.0000e+00 - val_loss: 0.0250 - val_accuracy: 0.0000e+00\n",
            "Epoch 4/100\n",
            "20/20 [==============================] - 0s 7ms/step - loss: 0.0060 - accuracy: 0.0000e+00 - val_loss: 0.0346 - val_accuracy: 0.0000e+00\n",
            "Epoch 5/100\n",
            "20/20 [==============================] - 0s 7ms/step - loss: 0.0064 - accuracy: 0.0000e+00 - val_loss: 0.0192 - val_accuracy: 0.0000e+00\n",
            "Epoch 6/100\n",
            "20/20 [==============================] - 0s 7ms/step - loss: 0.0064 - accuracy: 0.0000e+00 - val_loss: 0.0185 - val_accuracy: 0.0000e+00\n",
            "Epoch 7/100\n",
            "20/20 [==============================] - 0s 7ms/step - loss: 0.0065 - accuracy: 0.0000e+00 - val_loss: 0.0257 - val_accuracy: 0.0000e+00\n",
            "Epoch 8/100\n",
            "20/20 [==============================] - 0s 7ms/step - loss: 0.0061 - accuracy: 0.0000e+00 - val_loss: 0.0656 - val_accuracy: 0.0000e+00\n",
            "Epoch 9/100\n",
            "20/20 [==============================] - 0s 7ms/step - loss: 0.0060 - accuracy: 0.0000e+00 - val_loss: 0.0188 - val_accuracy: 0.0000e+00\n",
            "Epoch 10/100\n",
            "20/20 [==============================] - 0s 8ms/step - loss: 0.0053 - accuracy: 0.0000e+00 - val_loss: 0.0175 - val_accuracy: 0.0000e+00\n",
            "Epoch 11/100\n",
            "20/20 [==============================] - 0s 7ms/step - loss: 0.0053 - accuracy: 0.0000e+00 - val_loss: 0.0271 - val_accuracy: 0.0000e+00\n",
            "Epoch 12/100\n",
            "20/20 [==============================] - 0s 7ms/step - loss: 0.0066 - accuracy: 0.0000e+00 - val_loss: 0.0168 - val_accuracy: 0.0000e+00\n",
            "Epoch 13/100\n",
            "20/20 [==============================] - 0s 7ms/step - loss: 0.0056 - accuracy: 0.0000e+00 - val_loss: 0.0161 - val_accuracy: 0.0000e+00\n",
            "Epoch 14/100\n",
            "20/20 [==============================] - 0s 7ms/step - loss: 0.0055 - accuracy: 0.0000e+00 - val_loss: 0.0172 - val_accuracy: 0.0000e+00\n",
            "Epoch 15/100\n",
            "20/20 [==============================] - 0s 7ms/step - loss: 0.0057 - accuracy: 0.0000e+00 - val_loss: 0.0151 - val_accuracy: 0.0000e+00\n",
            "Epoch 16/100\n",
            "20/20 [==============================] - 0s 8ms/step - loss: 0.0061 - accuracy: 0.0000e+00 - val_loss: 0.0378 - val_accuracy: 0.0000e+00\n",
            "Epoch 17/100\n",
            "20/20 [==============================] - 0s 7ms/step - loss: 0.0063 - accuracy: 0.0000e+00 - val_loss: 0.0359 - val_accuracy: 0.0000e+00\n",
            "Epoch 18/100\n",
            "20/20 [==============================] - 0s 7ms/step - loss: 0.0057 - accuracy: 0.0000e+00 - val_loss: 0.0225 - val_accuracy: 0.0000e+00\n",
            "Epoch 19/100\n",
            "20/20 [==============================] - 0s 8ms/step - loss: 0.0053 - accuracy: 0.0000e+00 - val_loss: 0.0278 - val_accuracy: 0.0000e+00\n",
            "Epoch 20/100\n",
            "20/20 [==============================] - 0s 7ms/step - loss: 0.0077 - accuracy: 0.0000e+00 - val_loss: 0.0223 - val_accuracy: 0.0000e+00\n",
            "Epoch 21/100\n",
            "20/20 [==============================] - 0s 8ms/step - loss: 0.0058 - accuracy: 0.0000e+00 - val_loss: 0.0439 - val_accuracy: 0.0000e+00\n",
            "Epoch 22/100\n",
            "20/20 [==============================] - 0s 7ms/step - loss: 0.0057 - accuracy: 0.0000e+00 - val_loss: 0.0213 - val_accuracy: 0.0000e+00\n",
            "Epoch 23/100\n",
            "20/20 [==============================] - 0s 7ms/step - loss: 0.0061 - accuracy: 0.0000e+00 - val_loss: 0.0255 - val_accuracy: 0.0000e+00\n",
            "Epoch 24/100\n",
            "20/20 [==============================] - 0s 7ms/step - loss: 0.0055 - accuracy: 0.0000e+00 - val_loss: 0.0171 - val_accuracy: 0.0000e+00\n",
            "Epoch 25/100\n",
            "20/20 [==============================] - 0s 7ms/step - loss: 0.0058 - accuracy: 0.0000e+00 - val_loss: 0.0202 - val_accuracy: 0.0000e+00\n",
            "Epoch 26/100\n",
            "20/20 [==============================] - 0s 7ms/step - loss: 0.0052 - accuracy: 0.0000e+00 - val_loss: 0.0225 - val_accuracy: 0.0000e+00\n",
            "Epoch 27/100\n",
            "20/20 [==============================] - 0s 8ms/step - loss: 0.0052 - accuracy: 0.0000e+00 - val_loss: 0.0178 - val_accuracy: 0.0000e+00\n",
            "Epoch 28/100\n",
            "20/20 [==============================] - 0s 7ms/step - loss: 0.0053 - accuracy: 0.0000e+00 - val_loss: 0.0202 - val_accuracy: 0.0000e+00\n",
            "Epoch 29/100\n",
            "20/20 [==============================] - 0s 7ms/step - loss: 0.0054 - accuracy: 0.0000e+00 - val_loss: 0.0158 - val_accuracy: 0.0000e+00\n",
            "Epoch 30/100\n",
            "20/20 [==============================] - 0s 7ms/step - loss: 0.0056 - accuracy: 0.0000e+00 - val_loss: 0.0166 - val_accuracy: 0.0000e+00\n",
            "Epoch 31/100\n",
            "20/20 [==============================] - 0s 7ms/step - loss: 0.0052 - accuracy: 0.0000e+00 - val_loss: 0.0194 - val_accuracy: 0.0000e+00\n",
            "Epoch 32/100\n",
            "20/20 [==============================] - 0s 7ms/step - loss: 0.0057 - accuracy: 0.0000e+00 - val_loss: 0.0161 - val_accuracy: 0.0000e+00\n",
            "Epoch 33/100\n",
            "20/20 [==============================] - 0s 7ms/step - loss: 0.0065 - accuracy: 0.0000e+00 - val_loss: 0.0170 - val_accuracy: 0.0000e+00\n",
            "Epoch 34/100\n",
            "20/20 [==============================] - 0s 7ms/step - loss: 0.0059 - accuracy: 0.0000e+00 - val_loss: 0.0166 - val_accuracy: 0.0000e+00\n",
            "Epoch 35/100\n",
            "20/20 [==============================] - 0s 7ms/step - loss: 0.0067 - accuracy: 0.0000e+00 - val_loss: 0.0306 - val_accuracy: 0.0000e+00\n",
            "Epoch 36/100\n",
            "20/20 [==============================] - 0s 7ms/step - loss: 0.0058 - accuracy: 0.0000e+00 - val_loss: 0.0662 - val_accuracy: 0.0000e+00\n",
            "Epoch 37/100\n",
            "20/20 [==============================] - 0s 7ms/step - loss: 0.0057 - accuracy: 0.0000e+00 - val_loss: 0.0158 - val_accuracy: 0.0000e+00\n",
            "Epoch 38/100\n",
            "20/20 [==============================] - 0s 7ms/step - loss: 0.0054 - accuracy: 0.0000e+00 - val_loss: 0.0305 - val_accuracy: 0.0000e+00\n",
            "Epoch 39/100\n",
            "20/20 [==============================] - 0s 7ms/step - loss: 0.0055 - accuracy: 0.0000e+00 - val_loss: 0.0293 - val_accuracy: 0.0000e+00\n",
            "Epoch 40/100\n",
            "20/20 [==============================] - 0s 7ms/step - loss: 0.0061 - accuracy: 0.0000e+00 - val_loss: 0.0267 - val_accuracy: 0.0000e+00\n",
            "Epoch 41/100\n",
            "20/20 [==============================] - 0s 7ms/step - loss: 0.0065 - accuracy: 0.0000e+00 - val_loss: 0.0208 - val_accuracy: 0.0000e+00\n",
            "Epoch 42/100\n",
            "20/20 [==============================] - 0s 7ms/step - loss: 0.0068 - accuracy: 0.0000e+00 - val_loss: 0.0638 - val_accuracy: 0.0000e+00\n",
            "Epoch 43/100\n",
            "20/20 [==============================] - 0s 7ms/step - loss: 0.0087 - accuracy: 0.0000e+00 - val_loss: 0.0452 - val_accuracy: 0.0000e+00\n",
            "Epoch 44/100\n",
            "20/20 [==============================] - 0s 7ms/step - loss: 0.0071 - accuracy: 0.0000e+00 - val_loss: 0.0205 - val_accuracy: 0.0000e+00\n",
            "Epoch 45/100\n",
            "20/20 [==============================] - 0s 7ms/step - loss: 0.0053 - accuracy: 0.0000e+00 - val_loss: 0.0172 - val_accuracy: 0.0000e+00\n",
            "Epoch 46/100\n",
            "20/20 [==============================] - 0s 7ms/step - loss: 0.0083 - accuracy: 0.0000e+00 - val_loss: 0.0255 - val_accuracy: 0.0000e+00\n",
            "Epoch 47/100\n",
            "20/20 [==============================] - 0s 7ms/step - loss: 0.0059 - accuracy: 0.0000e+00 - val_loss: 0.0278 - val_accuracy: 0.0000e+00\n",
            "Epoch 48/100\n",
            "20/20 [==============================] - 0s 7ms/step - loss: 0.0056 - accuracy: 0.0000e+00 - val_loss: 0.0201 - val_accuracy: 0.0000e+00\n",
            "Epoch 49/100\n",
            "20/20 [==============================] - 0s 7ms/step - loss: 0.0061 - accuracy: 0.0000e+00 - val_loss: 0.0191 - val_accuracy: 0.0000e+00\n",
            "Epoch 50/100\n",
            "20/20 [==============================] - 0s 7ms/step - loss: 0.0058 - accuracy: 0.0000e+00 - val_loss: 0.0156 - val_accuracy: 0.0000e+00\n",
            "Epoch 51/100\n",
            "20/20 [==============================] - 0s 7ms/step - loss: 0.0058 - accuracy: 0.0000e+00 - val_loss: 0.0275 - val_accuracy: 0.0000e+00\n",
            "Epoch 52/100\n",
            "20/20 [==============================] - 0s 7ms/step - loss: 0.0063 - accuracy: 0.0000e+00 - val_loss: 0.0297 - val_accuracy: 0.0000e+00\n",
            "Epoch 53/100\n",
            "20/20 [==============================] - 0s 7ms/step - loss: 0.0058 - accuracy: 0.0000e+00 - val_loss: 0.0307 - val_accuracy: 0.0000e+00\n",
            "Epoch 54/100\n",
            "20/20 [==============================] - 0s 7ms/step - loss: 0.0056 - accuracy: 0.0000e+00 - val_loss: 0.0275 - val_accuracy: 0.0000e+00\n",
            "Epoch 55/100\n",
            "20/20 [==============================] - 0s 7ms/step - loss: 0.0069 - accuracy: 0.0000e+00 - val_loss: 0.0294 - val_accuracy: 0.0000e+00\n",
            "Epoch 56/100\n",
            "20/20 [==============================] - 0s 7ms/step - loss: 0.0071 - accuracy: 0.0000e+00 - val_loss: 0.0253 - val_accuracy: 0.0000e+00\n",
            "Epoch 57/100\n",
            "20/20 [==============================] - 0s 8ms/step - loss: 0.0055 - accuracy: 0.0000e+00 - val_loss: 0.0157 - val_accuracy: 0.0000e+00\n",
            "Epoch 58/100\n",
            "20/20 [==============================] - 0s 7ms/step - loss: 0.0055 - accuracy: 0.0000e+00 - val_loss: 0.0160 - val_accuracy: 0.0000e+00\n",
            "Epoch 59/100\n",
            "20/20 [==============================] - 0s 7ms/step - loss: 0.0059 - accuracy: 0.0000e+00 - val_loss: 0.0329 - val_accuracy: 0.0000e+00\n",
            "Epoch 60/100\n",
            "20/20 [==============================] - 0s 7ms/step - loss: 0.0054 - accuracy: 0.0000e+00 - val_loss: 0.0240 - val_accuracy: 0.0000e+00\n",
            "Epoch 61/100\n",
            "20/20 [==============================] - 0s 7ms/step - loss: 0.0066 - accuracy: 0.0000e+00 - val_loss: 0.0233 - val_accuracy: 0.0000e+00\n",
            "Epoch 62/100\n",
            "20/20 [==============================] - 0s 7ms/step - loss: 0.0072 - accuracy: 0.0000e+00 - val_loss: 0.0129 - val_accuracy: 0.0000e+00\n",
            "Epoch 63/100\n",
            "20/20 [==============================] - 0s 7ms/step - loss: 0.0060 - accuracy: 0.0000e+00 - val_loss: 0.0160 - val_accuracy: 0.0000e+00\n",
            "Epoch 64/100\n",
            "20/20 [==============================] - 0s 7ms/step - loss: 0.0057 - accuracy: 0.0000e+00 - val_loss: 0.0141 - val_accuracy: 0.0000e+00\n",
            "Epoch 65/100\n",
            "20/20 [==============================] - 0s 7ms/step - loss: 0.0067 - accuracy: 0.0000e+00 - val_loss: 0.0165 - val_accuracy: 0.0000e+00\n",
            "Epoch 66/100\n",
            "20/20 [==============================] - 0s 8ms/step - loss: 0.0052 - accuracy: 0.0000e+00 - val_loss: 0.0290 - val_accuracy: 0.0000e+00\n",
            "Epoch 67/100\n",
            "20/20 [==============================] - 0s 7ms/step - loss: 0.0073 - accuracy: 0.0000e+00 - val_loss: 0.0463 - val_accuracy: 0.0000e+00\n",
            "Epoch 68/100\n",
            "20/20 [==============================] - 0s 7ms/step - loss: 0.0070 - accuracy: 0.0000e+00 - val_loss: 0.0235 - val_accuracy: 0.0000e+00\n",
            "Epoch 69/100\n",
            "20/20 [==============================] - 0s 7ms/step - loss: 0.0058 - accuracy: 0.0000e+00 - val_loss: 0.0310 - val_accuracy: 0.0000e+00\n",
            "Epoch 70/100\n",
            "20/20 [==============================] - 0s 7ms/step - loss: 0.0054 - accuracy: 0.0000e+00 - val_loss: 0.0182 - val_accuracy: 0.0000e+00\n",
            "Epoch 71/100\n",
            "20/20 [==============================] - 0s 7ms/step - loss: 0.0054 - accuracy: 0.0000e+00 - val_loss: 0.0141 - val_accuracy: 0.0000e+00\n",
            "Epoch 72/100\n",
            "20/20 [==============================] - 0s 7ms/step - loss: 0.0052 - accuracy: 0.0000e+00 - val_loss: 0.0156 - val_accuracy: 0.0000e+00\n",
            "Epoch 73/100\n",
            "20/20 [==============================] - 0s 7ms/step - loss: 0.0057 - accuracy: 0.0000e+00 - val_loss: 0.0191 - val_accuracy: 0.0000e+00\n",
            "Epoch 74/100\n",
            "20/20 [==============================] - 0s 7ms/step - loss: 0.0054 - accuracy: 0.0000e+00 - val_loss: 0.0197 - val_accuracy: 0.0000e+00\n",
            "Epoch 75/100\n",
            "20/20 [==============================] - 0s 7ms/step - loss: 0.0055 - accuracy: 0.0000e+00 - val_loss: 0.0306 - val_accuracy: 0.0000e+00\n",
            "Epoch 76/100\n",
            "20/20 [==============================] - 0s 7ms/step - loss: 0.0059 - accuracy: 0.0000e+00 - val_loss: 0.0225 - val_accuracy: 0.0000e+00\n",
            "Epoch 77/100\n",
            "20/20 [==============================] - 0s 7ms/step - loss: 0.0064 - accuracy: 0.0000e+00 - val_loss: 0.0312 - val_accuracy: 0.0000e+00\n",
            "Epoch 78/100\n",
            "20/20 [==============================] - 0s 7ms/step - loss: 0.0057 - accuracy: 0.0000e+00 - val_loss: 0.0154 - val_accuracy: 0.0000e+00\n",
            "Epoch 79/100\n",
            "20/20 [==============================] - 0s 8ms/step - loss: 0.0054 - accuracy: 0.0000e+00 - val_loss: 0.0165 - val_accuracy: 0.0000e+00\n",
            "Epoch 80/100\n",
            "20/20 [==============================] - 0s 8ms/step - loss: 0.0057 - accuracy: 0.0000e+00 - val_loss: 0.0131 - val_accuracy: 0.0000e+00\n",
            "Epoch 81/100\n",
            "20/20 [==============================] - 0s 7ms/step - loss: 0.0050 - accuracy: 0.0000e+00 - val_loss: 0.0138 - val_accuracy: 0.0000e+00\n",
            "Epoch 82/100\n",
            "20/20 [==============================] - 0s 7ms/step - loss: 0.0050 - accuracy: 0.0000e+00 - val_loss: 0.0176 - val_accuracy: 0.0000e+00\n",
            "Epoch 83/100\n",
            "20/20 [==============================] - 0s 7ms/step - loss: 0.0058 - accuracy: 0.0000e+00 - val_loss: 0.0207 - val_accuracy: 0.0000e+00\n",
            "Epoch 84/100\n",
            "20/20 [==============================] - 0s 8ms/step - loss: 0.0058 - accuracy: 0.0000e+00 - val_loss: 0.0182 - val_accuracy: 0.0000e+00\n",
            "Epoch 85/100\n",
            "20/20 [==============================] - 0s 8ms/step - loss: 0.0063 - accuracy: 0.0000e+00 - val_loss: 0.0221 - val_accuracy: 0.0000e+00\n",
            "Epoch 86/100\n",
            "20/20 [==============================] - 0s 7ms/step - loss: 0.0054 - accuracy: 0.0000e+00 - val_loss: 0.0172 - val_accuracy: 0.0000e+00\n",
            "Epoch 87/100\n",
            "20/20 [==============================] - 0s 7ms/step - loss: 0.0058 - accuracy: 0.0000e+00 - val_loss: 0.0139 - val_accuracy: 0.0000e+00\n",
            "Epoch 88/100\n",
            "20/20 [==============================] - 0s 7ms/step - loss: 0.0073 - accuracy: 0.0000e+00 - val_loss: 0.0279 - val_accuracy: 0.0000e+00\n",
            "Epoch 89/100\n",
            "20/20 [==============================] - 0s 9ms/step - loss: 0.0067 - accuracy: 0.0000e+00 - val_loss: 0.0230 - val_accuracy: 0.0000e+00\n",
            "Epoch 90/100\n",
            "20/20 [==============================] - 0s 7ms/step - loss: 0.0062 - accuracy: 0.0000e+00 - val_loss: 0.0230 - val_accuracy: 0.0000e+00\n",
            "Epoch 91/100\n",
            "20/20 [==============================] - 0s 7ms/step - loss: 0.0057 - accuracy: 0.0000e+00 - val_loss: 0.0261 - val_accuracy: 0.0000e+00\n",
            "Epoch 92/100\n",
            "20/20 [==============================] - 0s 7ms/step - loss: 0.0053 - accuracy: 0.0000e+00 - val_loss: 0.0157 - val_accuracy: 0.0000e+00\n",
            "Epoch 93/100\n",
            "20/20 [==============================] - 0s 7ms/step - loss: 0.0066 - accuracy: 0.0000e+00 - val_loss: 0.0135 - val_accuracy: 0.0000e+00\n",
            "Epoch 94/100\n",
            "20/20 [==============================] - 0s 7ms/step - loss: 0.0057 - accuracy: 0.0000e+00 - val_loss: 0.0208 - val_accuracy: 0.0000e+00\n",
            "Epoch 95/100\n",
            "20/20 [==============================] - 0s 7ms/step - loss: 0.0071 - accuracy: 0.0000e+00 - val_loss: 0.0205 - val_accuracy: 0.0000e+00\n",
            "Epoch 96/100\n",
            "20/20 [==============================] - 0s 7ms/step - loss: 0.0057 - accuracy: 0.0000e+00 - val_loss: 0.0193 - val_accuracy: 0.0000e+00\n",
            "Epoch 97/100\n",
            "20/20 [==============================] - 0s 7ms/step - loss: 0.0058 - accuracy: 0.0000e+00 - val_loss: 0.0161 - val_accuracy: 0.0000e+00\n",
            "Epoch 98/100\n",
            "20/20 [==============================] - 0s 7ms/step - loss: 0.0063 - accuracy: 0.0000e+00 - val_loss: 0.0295 - val_accuracy: 0.0000e+00\n",
            "Epoch 99/100\n",
            "20/20 [==============================] - 0s 7ms/step - loss: 0.0060 - accuracy: 0.0000e+00 - val_loss: 0.0157 - val_accuracy: 0.0000e+00\n",
            "Epoch 100/100\n",
            "20/20 [==============================] - 0s 7ms/step - loss: 0.0050 - accuracy: 0.0000e+00 - val_loss: 0.0178 - val_accuracy: 0.0000e+00\n"
          ],
          "name": "stdout"
        }
      ]
    },
    {
      "cell_type": "markdown",
      "metadata": {
        "id": "Vh1OFENh92qh",
        "colab_type": "text"
      },
      "source": [
        "# Evaluate LSTM Regression Model for Closing Price"
      ]
    },
    {
      "cell_type": "code",
      "metadata": {
        "colab_type": "code",
        "outputId": "ce6a52f1-3092-4c00-e8ce-b0f3d56b5e36",
        "id": "EWJ3oppX-S8Q",
        "colab": {
          "base_uri": "https://localhost:8080/",
          "height": 313
        }
      },
      "source": [
        "# Plot the loss\n",
        "plt.plot(r.history['loss'], label='loss')\n",
        "plt.plot(r.history['val_loss'], label='val_loss')\n",
        "plt.title(\"Loss and Validation Loss vs. Epoch\")\n",
        "plt.ylabel('Loss')\n",
        "plt.xlabel('Epoch')\n",
        "plt.legend()"
      ],
      "execution_count": 201,
      "outputs": [
        {
          "output_type": "execute_result",
          "data": {
            "text/plain": [
              "<matplotlib.legend.Legend at 0x7fed5ee23080>"
            ]
          },
          "metadata": {
            "tags": []
          },
          "execution_count": 201
        },
        {
          "output_type": "display_data",
          "data": {
            "image/png": "[encoded data removed]",
            "text/plain": [
              "<Figure size 432x288 with 1 Axes>"
            ]
          },
          "metadata": {
            "tags": [],
            "needs_background": "light"
          }
        }
      ]
    },
    {
      "cell_type": "code",
      "metadata": {
        "id": "KcI8gdDTUHJF",
        "colab_type": "code",
        "colab": {}
      },
      "source": [
        "# Full Data single step forecast (wrong way)\n",
        "predictions = model.predict(X)"
      ],
      "execution_count": 0,
      "outputs": []
    },
    {
      "cell_type": "code",
      "metadata": {
        "id": "X6b2G6ctUKSU",
        "colab_type": "code",
        "colab": {
          "base_uri": "https://localhost:8080/",
          "height": 313
        },
        "outputId": "58b47648-0cfe-42ea-a684-0a1c35cb54db"
      },
      "source": [
        "plt.plot(Y, label='forecast target')\n",
        "plt.plot(predictions, label='forecast prediction')\n",
        "plt.title(\"Full Data Single Step Forecast\")\n",
        "plt.ylabel('Closing Price')\n",
        "plt.xlabel('Time')\n",
        "plt.legend()"
      ],
      "execution_count": 203,
      "outputs": [
        {
          "output_type": "execute_result",
          "data": {
            "text/plain": [
              "<matplotlib.legend.Legend at 0x7fed5b026898>"
            ]
          },
          "metadata": {
            "tags": []
          },
          "execution_count": 203
        },
        {
          "output_type": "display_data",
          "data": {
            "image/png": "[encoded data removed]",
            "text/plain": [
              "<Figure size 432x288 with 1 Axes>"
            ]
          },
          "metadata": {
            "tags": [],
            "needs_background": "light"
          }
        }
      ]
    },
    {
      "cell_type": "code",
      "metadata": {
        "id": "-PpZYbmHfUY9",
        "colab_type": "code",
        "colab": {}
      },
      "source": [
        "# Single step forecast (wrong way)\n",
        "predictions_test = []\n",
        "i = -N//2\n",
        "while (len(predictions_test) < len(Y_test)):\n",
        "  p = model.predict(X[i].reshape(1, -1))[0,0]\n",
        "  i += 1\n",
        "\n",
        "  predictions_test.append(p)"
      ],
      "execution_count": 0,
      "outputs": []
    },
    {
      "cell_type": "code",
      "metadata": {
        "id": "3gEn6VyqgZYl",
        "colab_type": "code",
        "outputId": "6b430349-51af-431d-d157-912d5df4adb1",
        "colab": {
          "base_uri": "https://localhost:8080/",
          "height": 313
        }
      },
      "source": [
        "plt.plot(Y_test, label='forecast target')\n",
        "plt.plot(predictions_test, label='forecast prediction')\n",
        "plt.title(\"Validation Data Single Step Forecast\")\n",
        "plt.ylabel('Closing Price')\n",
        "plt.xlabel('Time')\n",
        "plt.legend()"
      ],
      "execution_count": 205,
      "outputs": [
        {
          "output_type": "execute_result",
          "data": {
            "text/plain": [
              "<matplotlib.legend.Legend at 0x7fed60e78128>"
            ]
          },
          "metadata": {
            "tags": []
          },
          "execution_count": 205
        },
        {
          "output_type": "display_data",
          "data": {
            "image/png": "[encoded data removed]",
            "text/plain": [
              "<Figure size 432x288 with 1 Axes>"
            ]
          },
          "metadata": {
            "tags": [],
            "needs_background": "light"
          }
        }
      ]
    },
    {
      "cell_type": "code",
      "metadata": {
        "id": "Uo8gBCibilFG",
        "colab_type": "code",
        "colab": {}
      },
      "source": [
        "# Multi step forecast - uses predictions for making future predictions\n",
        "predictions_test = []\n",
        "\n",
        "# Last train input\n",
        "x_last = X[-N//2]\n",
        "\n",
        "while (len(predictions_test) < len(Y_test)):\n",
        "  p = model.predict(x_last.reshape(1, -1))[0,0]\n",
        "  i += 1\n",
        "\n",
        "  predictions_test.append(p)\n",
        "\n",
        "  # Shift x_last vector of T values by 1 value to the left\n",
        "  x_last = np.roll(x_last, -1)\n",
        "  # Make last x_last element the prediction\n",
        "  x_last[-1] = p"
      ],
      "execution_count": 0,
      "outputs": []
    },
    {
      "cell_type": "code",
      "metadata": {
        "id": "2R_5NYJ6kBpK",
        "colab_type": "code",
        "outputId": "dd5c7398-7795-4c88-deb9-14a2288e2bdf",
        "colab": {
          "base_uri": "https://localhost:8080/",
          "height": 313
        }
      },
      "source": [
        "plt.plot(Y_test, label='forecast target')\n",
        "plt.plot(predictions_test, label='forecast prediction')\n",
        "plt.title(\"Validation Data Multi Step Forecast\")\n",
        "plt.ylabel('Closing Price')\n",
        "plt.xlabel('Time')\n",
        "plt.legend()\n",
        "# Multi-step forecast is not good"
      ],
      "execution_count": 207,
      "outputs": [
        {
          "output_type": "execute_result",
          "data": {
            "text/plain": [
              "<matplotlib.legend.Legend at 0x7fed60900e80>"
            ]
          },
          "metadata": {
            "tags": []
          },
          "execution_count": 207
        },
        {
          "output_type": "display_data",
          "data": {
            "image/png": "[encoded data removed]",
            "text/plain": [
              "<Figure size 432x288 with 1 Axes>"
            ]
          },
          "metadata": {
            "tags": [],
            "needs_background": "light"
          }
        }
      ]
    },
    {
      "cell_type": "markdown",
      "metadata": {
        "id": "YEMbvO9AWDod",
        "colab_type": "text"
      },
      "source": [
        "# Data Reprocessing for Stock Return"
      ]
    },
    {
      "cell_type": "code",
      "metadata": {
        "id": "Q3G1GFXHT4Mf",
        "colab_type": "code",
        "colab": {}
      },
      "source": [
        "# calculate returns by first shifting the data\n",
        "df['PrevClose'] = df['close'].shift(1) # move everything up 1"
      ],
      "execution_count": 0,
      "outputs": []
    },
    {
      "cell_type": "code",
      "metadata": {
        "id": "L0RD-E8iWA8j",
        "colab_type": "code",
        "colab": {
          "base_uri": "https://localhost:8080/",
          "height": 206
        },
        "outputId": "3dc7f124-a6f2-43f3-b635-becf183e7ae8"
      },
      "source": [
        "df.head()"
      ],
      "execution_count": 209,
      "outputs": [
        {
          "output_type": "execute_result",
          "data": {
            "text/html": [
              "<div>\n",
              "<style scoped>\n",
              "    .dataframe tbody tr th:only-of-type {\n",
              "        vertical-align: middle;\n",
              "    }\n",
              "\n",
              "    .dataframe tbody tr th {\n",
              "        vertical-align: top;\n",
              "    }\n",
              "\n",
              "    .dataframe thead th {\n",
              "        text-align: right;\n",
              "    }\n",
              "</style>\n",
              "<table border=\"1\" class=\"dataframe\">\n",
              "  <thead>\n",
              "    <tr style=\"text-align: right;\">\n",
              "      <th></th>\n",
              "      <th>date</th>\n",
              "      <th>open</th>\n",
              "      <th>high</th>\n",
              "      <th>low</th>\n",
              "      <th>close</th>\n",
              "      <th>volume</th>\n",
              "      <th>Name</th>\n",
              "      <th>PrevClose</th>\n",
              "    </tr>\n",
              "  </thead>\n",
              "  <tbody>\n",
              "    <tr>\n",
              "      <th>0</th>\n",
              "      <td>2013-02-08</td>\n",
              "      <td>27.920</td>\n",
              "      <td>28.325</td>\n",
              "      <td>27.920</td>\n",
              "      <td>28.185</td>\n",
              "      <td>7146296</td>\n",
              "      <td>SBUX</td>\n",
              "      <td>NaN</td>\n",
              "    </tr>\n",
              "    <tr>\n",
              "      <th>1</th>\n",
              "      <td>2013-02-11</td>\n",
              "      <td>28.260</td>\n",
              "      <td>28.260</td>\n",
              "      <td>27.930</td>\n",
              "      <td>28.070</td>\n",
              "      <td>5457354</td>\n",
              "      <td>SBUX</td>\n",
              "      <td>28.185</td>\n",
              "    </tr>\n",
              "    <tr>\n",
              "      <th>2</th>\n",
              "      <td>2013-02-12</td>\n",
              "      <td>28.000</td>\n",
              "      <td>28.275</td>\n",
              "      <td>27.975</td>\n",
              "      <td>28.130</td>\n",
              "      <td>8665592</td>\n",
              "      <td>SBUX</td>\n",
              "      <td>28.070</td>\n",
              "    </tr>\n",
              "    <tr>\n",
              "      <th>3</th>\n",
              "      <td>2013-02-13</td>\n",
              "      <td>28.230</td>\n",
              "      <td>28.230</td>\n",
              "      <td>27.750</td>\n",
              "      <td>27.915</td>\n",
              "      <td>7022056</td>\n",
              "      <td>SBUX</td>\n",
              "      <td>28.130</td>\n",
              "    </tr>\n",
              "    <tr>\n",
              "      <th>4</th>\n",
              "      <td>2013-02-14</td>\n",
              "      <td>27.765</td>\n",
              "      <td>27.905</td>\n",
              "      <td>27.675</td>\n",
              "      <td>27.775</td>\n",
              "      <td>8899188</td>\n",
              "      <td>SBUX</td>\n",
              "      <td>27.915</td>\n",
              "    </tr>\n",
              "  </tbody>\n",
              "</table>\n",
              "</div>"
            ],
            "text/plain": [
              "         date    open    high     low   close   volume  Name  PrevClose\n",
              "0  2013-02-08  27.920  28.325  27.920  28.185  7146296  SBUX        NaN\n",
              "1  2013-02-11  28.260  28.260  27.930  28.070  5457354  SBUX     28.185\n",
              "2  2013-02-12  28.000  28.275  27.975  28.130  8665592  SBUX     28.070\n",
              "3  2013-02-13  28.230  28.230  27.750  27.915  7022056  SBUX     28.130\n",
              "4  2013-02-14  27.765  27.905  27.675  27.775  8899188  SBUX     27.915"
            ]
          },
          "metadata": {
            "tags": []
          },
          "execution_count": 209
        }
      ]
    },
    {
      "cell_type": "code",
      "metadata": {
        "id": "lCO9I20SWB9Z",
        "colab_type": "code",
        "colab": {}
      },
      "source": [
        "df['Return'] = (df['close'] - df['PrevClose']) / df['PrevClose']"
      ],
      "execution_count": 0,
      "outputs": []
    },
    {
      "cell_type": "code",
      "metadata": {
        "id": "NBTSv3D6WSJ6",
        "colab_type": "code",
        "colab": {
          "base_uri": "https://localhost:8080/",
          "height": 283
        },
        "outputId": "6861d4d7-c7a3-43e8-ea10-547a87e0d1d7"
      },
      "source": [
        "df['Return'].hist()"
      ],
      "execution_count": 211,
      "outputs": [
        {
          "output_type": "execute_result",
          "data": {
            "text/plain": [
              "<matplotlib.axes._subplots.AxesSubplot at 0x7fed5da8f9e8>"
            ]
          },
          "metadata": {
            "tags": []
          },
          "execution_count": 211
        },
        {
          "output_type": "display_data",
          "data": {
            "image/png": "[encoded data removed]",
            "text/plain": [
              "<Figure size 432x288 with 1 Axes>"
            ]
          },
          "metadata": {
            "tags": [],
            "needs_background": "light"
          }
        }
      ]
    },
    {
      "cell_type": "markdown",
      "metadata": {
        "id": "YUHbxBEgWUtq",
        "colab_type": "text"
      },
      "source": [
        "## Normalize Data"
      ]
    },
    {
      "cell_type": "code",
      "metadata": {
        "id": "1oqFcIo0Wfr1",
        "colab_type": "code",
        "colab": {
          "base_uri": "https://localhost:8080/",
          "height": 54
        },
        "outputId": "0d8ae223-a0f2-4c8d-8f2b-b8a741874ac3"
      },
      "source": [
        "series = df['Return'].values[1:].reshape(-1,1) # Use only return values for regression\n",
        "\n",
        "scaler = StandardScaler()\n",
        "scaler.fit(series[:len(series) // 2])\n",
        "series = scaler.transform(series).flatten()\n",
        "series"
      ],
      "execution_count": 212,
      "outputs": [
        {
          "output_type": "execute_result",
          "data": {
            "text/plain": [
              "array([-0.43811722,  0.08061497, -0.73536414, ..., -1.71332483,\n",
              "        1.30572463, -1.82299002])"
            ]
          },
          "metadata": {
            "tags": []
          },
          "execution_count": 212
        }
      ]
    },
    {
      "cell_type": "code",
      "metadata": {
        "id": "27JIqzwC6SOp",
        "colab_type": "code",
        "colab": {}
      },
      "source": [
        "T = 10 # 10 previous time steps to predict the next time step\n",
        "D = 1 # 1 numeric feature\n",
        "X = []# Using fixed size numpy arrays would probably be better\n",
        "Y = []\n",
        "\n",
        "# Final target index: len(series) - 1\n",
        "# Final t: len(series) - T - 1\n",
        "# Final target index: Final t + T\n",
        "# If we plug in value of little t ...\n",
        "# Final target index: [len(series) - T - 1] + T\n",
        "# Final target index: len(series) - 1\n",
        "for t in range(len(series) - T): # 0 to len(series) - T - 1\n",
        "  x = series[t:T+t] # t to t + T - 1\n",
        "  X.append(x)\n",
        "  y = series[t+T] # t + T\n",
        "  Y.append(y)\n",
        "\n",
        "X = np.array(X).reshape(-1, T, D) # N x T x D\n",
        "Y = np.array(Y)\n",
        "N = len(X)\n",
        "\n",
        "X_train = X[:-N//2]\n",
        "X_test = X[-N//2:]\n",
        "Y_train = Y[:-N//2]\n",
        "Y_test = Y[-N//2:]"
      ],
      "execution_count": 0,
      "outputs": []
    },
    {
      "cell_type": "markdown",
      "metadata": {
        "colab_type": "text",
        "id": "7Cy5-QkIYLoy"
      },
      "source": [
        "# Build LSTM Regression Model for Return"
      ]
    },
    {
      "cell_type": "code",
      "metadata": {
        "colab_type": "code",
        "id": "CTdwxOhNYLo9",
        "colab": {}
      },
      "source": [
        "i = Input(shape=(T, D))\n",
        "x = LSTM(10)(i)\n",
        "x = Dense(1)(x) # No activation function for regression\n",
        "\n",
        "model = Model(i, x)\n",
        "\n",
        "model.compile(optimizer=Adam(lr=0.1),\n",
        "              loss='mse',\n",
        "              metrics=['accuracy'])\n"
      ],
      "execution_count": 0,
      "outputs": []
    },
    {
      "cell_type": "code",
      "metadata": {
        "colab_type": "code",
        "outputId": "b29215df-9f7f-4927-c17b-551f2c9032fe",
        "id": "C_8t_zx8YLpO",
        "colab": {
          "base_uri": "https://localhost:8080/",
          "height": 294
        }
      },
      "source": [
        "print(model.summary())"
      ],
      "execution_count": 215,
      "outputs": [
        {
          "output_type": "stream",
          "text": [
            "Model: \"model_10\"\n",
            "_________________________________________________________________\n",
            "Layer (type)                 Output Shape              Param #   \n",
            "=================================================================\n",
            "input_11 (InputLayer)        [(None, 10, 1)]           0         \n",
            "_________________________________________________________________\n",
            "lstm_10 (LSTM)               (None, 10)                480       \n",
            "_________________________________________________________________\n",
            "dense_10 (Dense)             (None, 1)                 11        \n",
            "=================================================================\n",
            "Total params: 491\n",
            "Trainable params: 491\n",
            "Non-trainable params: 0\n",
            "_________________________________________________________________\n",
            "None\n"
          ],
          "name": "stdout"
        }
      ]
    },
    {
      "cell_type": "code",
      "metadata": {
        "colab_type": "code",
        "outputId": "3d43eae3-7f5b-45d0-b8c6-cd69b3427e7f",
        "id": "1htFdV8_YLpW",
        "colab": {
          "base_uri": "https://localhost:8080/",
          "height": 1000
        }
      },
      "source": [
        "r = model.fit(X_train, Y_train,\n",
        "              validation_data = (X_test, Y_test), \n",
        "              epochs=100)"
      ],
      "execution_count": 216,
      "outputs": [
        {
          "output_type": "stream",
          "text": [
            "Epoch 1/100\n",
            "20/20 [==============================] - 0s 25ms/step - loss: 1.0158 - accuracy: 0.0000e+00 - val_loss: 1.1831 - val_accuracy: 0.0000e+00\n",
            "Epoch 2/100\n",
            "20/20 [==============================] - 0s 7ms/step - loss: 1.0045 - accuracy: 0.0000e+00 - val_loss: 1.1572 - val_accuracy: 0.0000e+00\n",
            "Epoch 3/100\n",
            "20/20 [==============================] - 0s 7ms/step - loss: 0.9963 - accuracy: 0.0000e+00 - val_loss: 1.1589 - val_accuracy: 0.0000e+00\n",
            "Epoch 4/100\n",
            "20/20 [==============================] - 0s 7ms/step - loss: 0.9965 - accuracy: 0.0000e+00 - val_loss: 1.1443 - val_accuracy: 0.0000e+00\n",
            "Epoch 5/100\n",
            "20/20 [==============================] - 0s 7ms/step - loss: 0.9858 - accuracy: 0.0000e+00 - val_loss: 1.1734 - val_accuracy: 0.0000e+00\n",
            "Epoch 6/100\n",
            "20/20 [==============================] - 0s 8ms/step - loss: 0.9958 - accuracy: 0.0000e+00 - val_loss: 1.1500 - val_accuracy: 0.0000e+00\n",
            "Epoch 7/100\n",
            "20/20 [==============================] - 0s 7ms/step - loss: 1.0068 - accuracy: 0.0000e+00 - val_loss: 1.1463 - val_accuracy: 0.0000e+00\n",
            "Epoch 8/100\n",
            "20/20 [==============================] - 0s 7ms/step - loss: 0.9963 - accuracy: 0.0000e+00 - val_loss: 1.1625 - val_accuracy: 0.0000e+00\n",
            "Epoch 9/100\n",
            "20/20 [==============================] - 0s 7ms/step - loss: 0.9796 - accuracy: 0.0000e+00 - val_loss: 1.1511 - val_accuracy: 0.0000e+00\n",
            "Epoch 10/100\n",
            "20/20 [==============================] - 0s 7ms/step - loss: 1.0023 - accuracy: 0.0000e+00 - val_loss: 1.1773 - val_accuracy: 0.0000e+00\n",
            "Epoch 11/100\n",
            "20/20 [==============================] - 0s 7ms/step - loss: 0.9771 - accuracy: 0.0000e+00 - val_loss: 1.1479 - val_accuracy: 0.0000e+00\n",
            "Epoch 12/100\n",
            "20/20 [==============================] - 0s 7ms/step - loss: 1.0057 - accuracy: 0.0000e+00 - val_loss: 1.1920 - val_accuracy: 0.0000e+00\n",
            "Epoch 13/100\n",
            "20/20 [==============================] - 0s 7ms/step - loss: 0.9767 - accuracy: 0.0000e+00 - val_loss: 1.1516 - val_accuracy: 0.0000e+00\n",
            "Epoch 14/100\n",
            "20/20 [==============================] - 0s 7ms/step - loss: 0.9854 - accuracy: 0.0000e+00 - val_loss: 1.1836 - val_accuracy: 0.0000e+00\n",
            "Epoch 15/100\n",
            "20/20 [==============================] - 0s 7ms/step - loss: 0.9680 - accuracy: 0.0000e+00 - val_loss: 1.2001 - val_accuracy: 0.0000e+00\n",
            "Epoch 16/100\n",
            "20/20 [==============================] - 0s 7ms/step - loss: 0.9844 - accuracy: 0.0000e+00 - val_loss: 1.1381 - val_accuracy: 0.0000e+00\n",
            "Epoch 17/100\n",
            "20/20 [==============================] - 0s 8ms/step - loss: 0.9934 - accuracy: 0.0000e+00 - val_loss: 1.1760 - val_accuracy: 0.0000e+00\n",
            "Epoch 18/100\n",
            "20/20 [==============================] - 0s 8ms/step - loss: 0.9794 - accuracy: 0.0000e+00 - val_loss: 1.1770 - val_accuracy: 0.0000e+00\n",
            "Epoch 19/100\n",
            "20/20 [==============================] - 0s 7ms/step - loss: 0.9719 - accuracy: 0.0000e+00 - val_loss: 1.1769 - val_accuracy: 0.0000e+00\n",
            "Epoch 20/100\n",
            "20/20 [==============================] - 0s 7ms/step - loss: 0.9536 - accuracy: 0.0000e+00 - val_loss: 1.1832 - val_accuracy: 0.0000e+00\n",
            "Epoch 21/100\n",
            "20/20 [==============================] - 0s 7ms/step - loss: 0.9441 - accuracy: 0.0000e+00 - val_loss: 1.2471 - val_accuracy: 0.0000e+00\n",
            "Epoch 22/100\n",
            "20/20 [==============================] - 0s 7ms/step - loss: 0.9720 - accuracy: 0.0000e+00 - val_loss: 1.1724 - val_accuracy: 0.0000e+00\n",
            "Epoch 23/100\n",
            "20/20 [==============================] - 0s 7ms/step - loss: 0.9806 - accuracy: 0.0000e+00 - val_loss: 1.1737 - val_accuracy: 0.0000e+00\n",
            "Epoch 24/100\n",
            "20/20 [==============================] - 0s 7ms/step - loss: 0.9716 - accuracy: 0.0000e+00 - val_loss: 1.1725 - val_accuracy: 0.0000e+00\n",
            "Epoch 25/100\n",
            "20/20 [==============================] - 0s 7ms/step - loss: 0.9666 - accuracy: 0.0000e+00 - val_loss: 1.2624 - val_accuracy: 0.0000e+00\n",
            "Epoch 26/100\n",
            "20/20 [==============================] - 0s 7ms/step - loss: 0.9702 - accuracy: 0.0000e+00 - val_loss: 1.1932 - val_accuracy: 0.0000e+00\n",
            "Epoch 27/100\n",
            "20/20 [==============================] - 0s 7ms/step - loss: 0.9452 - accuracy: 0.0000e+00 - val_loss: 1.2621 - val_accuracy: 0.0000e+00\n",
            "Epoch 28/100\n",
            "20/20 [==============================] - 0s 7ms/step - loss: 0.9470 - accuracy: 0.0000e+00 - val_loss: 1.2168 - val_accuracy: 0.0000e+00\n",
            "Epoch 29/100\n",
            "20/20 [==============================] - 0s 7ms/step - loss: 0.9511 - accuracy: 0.0000e+00 - val_loss: 1.2439 - val_accuracy: 0.0000e+00\n",
            "Epoch 30/100\n",
            "20/20 [==============================] - 0s 7ms/step - loss: 0.9346 - accuracy: 0.0000e+00 - val_loss: 1.1806 - val_accuracy: 0.0000e+00\n",
            "Epoch 31/100\n",
            "20/20 [==============================] - 0s 7ms/step - loss: 0.9511 - accuracy: 0.0000e+00 - val_loss: 1.2312 - val_accuracy: 0.0000e+00\n",
            "Epoch 32/100\n",
            "20/20 [==============================] - 0s 7ms/step - loss: 0.9416 - accuracy: 0.0000e+00 - val_loss: 1.2080 - val_accuracy: 0.0000e+00\n",
            "Epoch 33/100\n",
            "20/20 [==============================] - 0s 7ms/step - loss: 0.9560 - accuracy: 0.0000e+00 - val_loss: 1.2241 - val_accuracy: 0.0000e+00\n",
            "Epoch 34/100\n",
            "20/20 [==============================] - 0s 7ms/step - loss: 0.9449 - accuracy: 0.0000e+00 - val_loss: 1.2028 - val_accuracy: 0.0000e+00\n",
            "Epoch 35/100\n",
            "20/20 [==============================] - 0s 7ms/step - loss: 0.9293 - accuracy: 0.0000e+00 - val_loss: 1.2742 - val_accuracy: 0.0000e+00\n",
            "Epoch 36/100\n",
            "20/20 [==============================] - 0s 7ms/step - loss: 0.9215 - accuracy: 0.0000e+00 - val_loss: 1.2413 - val_accuracy: 0.0000e+00\n",
            "Epoch 37/100\n",
            "20/20 [==============================] - 0s 7ms/step - loss: 0.9102 - accuracy: 0.0000e+00 - val_loss: 1.2434 - val_accuracy: 0.0000e+00\n",
            "Epoch 38/100\n",
            "20/20 [==============================] - 0s 8ms/step - loss: 0.9120 - accuracy: 0.0000e+00 - val_loss: 1.2015 - val_accuracy: 0.0000e+00\n",
            "Epoch 39/100\n",
            "20/20 [==============================] - 0s 7ms/step - loss: 0.9223 - accuracy: 0.0000e+00 - val_loss: 1.2239 - val_accuracy: 0.0000e+00\n",
            "Epoch 40/100\n",
            "20/20 [==============================] - 0s 7ms/step - loss: 0.9178 - accuracy: 0.0000e+00 - val_loss: 1.2892 - val_accuracy: 0.0000e+00\n",
            "Epoch 41/100\n",
            "20/20 [==============================] - 0s 7ms/step - loss: 0.9535 - accuracy: 0.0000e+00 - val_loss: 1.1886 - val_accuracy: 0.0000e+00\n",
            "Epoch 42/100\n",
            "20/20 [==============================] - 0s 7ms/step - loss: 0.9257 - accuracy: 0.0000e+00 - val_loss: 1.3210 - val_accuracy: 0.0000e+00\n",
            "Epoch 43/100\n",
            "20/20 [==============================] - 0s 7ms/step - loss: 0.9000 - accuracy: 0.0000e+00 - val_loss: 1.2662 - val_accuracy: 0.0000e+00\n",
            "Epoch 44/100\n",
            "20/20 [==============================] - 0s 7ms/step - loss: 0.9167 - accuracy: 0.0000e+00 - val_loss: 1.2809 - val_accuracy: 0.0000e+00\n",
            "Epoch 45/100\n",
            "20/20 [==============================] - 0s 8ms/step - loss: 0.9008 - accuracy: 0.0000e+00 - val_loss: 1.2370 - val_accuracy: 0.0000e+00\n",
            "Epoch 46/100\n",
            "20/20 [==============================] - 0s 7ms/step - loss: 0.8855 - accuracy: 0.0000e+00 - val_loss: 1.2573 - val_accuracy: 0.0000e+00\n",
            "Epoch 47/100\n",
            "20/20 [==============================] - 0s 8ms/step - loss: 0.8847 - accuracy: 0.0000e+00 - val_loss: 1.3858 - val_accuracy: 0.0000e+00\n",
            "Epoch 48/100\n",
            "20/20 [==============================] - 0s 7ms/step - loss: 0.9279 - accuracy: 0.0000e+00 - val_loss: 1.2079 - val_accuracy: 0.0000e+00\n",
            "Epoch 49/100\n",
            "20/20 [==============================] - 0s 7ms/step - loss: 0.8838 - accuracy: 0.0000e+00 - val_loss: 1.3061 - val_accuracy: 0.0000e+00\n",
            "Epoch 50/100\n",
            "20/20 [==============================] - 0s 7ms/step - loss: 0.8593 - accuracy: 0.0000e+00 - val_loss: 1.2466 - val_accuracy: 0.0000e+00\n",
            "Epoch 51/100\n",
            "20/20 [==============================] - 0s 7ms/step - loss: 0.8814 - accuracy: 0.0000e+00 - val_loss: 1.2566 - val_accuracy: 0.0000e+00\n",
            "Epoch 52/100\n",
            "20/20 [==============================] - 0s 7ms/step - loss: 0.9419 - accuracy: 0.0000e+00 - val_loss: 1.2236 - val_accuracy: 0.0000e+00\n",
            "Epoch 53/100\n",
            "20/20 [==============================] - 0s 7ms/step - loss: 0.9187 - accuracy: 0.0000e+00 - val_loss: 1.3303 - val_accuracy: 0.0000e+00\n",
            "Epoch 54/100\n",
            "20/20 [==============================] - 0s 7ms/step - loss: 0.8947 - accuracy: 0.0000e+00 - val_loss: 1.2705 - val_accuracy: 0.0000e+00\n",
            "Epoch 55/100\n",
            "20/20 [==============================] - 0s 7ms/step - loss: 0.8762 - accuracy: 0.0000e+00 - val_loss: 1.3156 - val_accuracy: 0.0000e+00\n",
            "Epoch 56/100\n",
            "20/20 [==============================] - 0s 7ms/step - loss: 0.8784 - accuracy: 0.0000e+00 - val_loss: 1.3041 - val_accuracy: 0.0000e+00\n",
            "Epoch 57/100\n",
            "20/20 [==============================] - 0s 8ms/step - loss: 0.8664 - accuracy: 0.0000e+00 - val_loss: 1.2987 - val_accuracy: 0.0000e+00\n",
            "Epoch 58/100\n",
            "20/20 [==============================] - 0s 7ms/step - loss: 0.8668 - accuracy: 0.0000e+00 - val_loss: 1.2899 - val_accuracy: 0.0000e+00\n",
            "Epoch 59/100\n",
            "20/20 [==============================] - 0s 7ms/step - loss: 0.8695 - accuracy: 0.0000e+00 - val_loss: 1.2084 - val_accuracy: 0.0000e+00\n",
            "Epoch 60/100\n",
            "20/20 [==============================] - 0s 7ms/step - loss: 0.8760 - accuracy: 0.0000e+00 - val_loss: 1.2122 - val_accuracy: 0.0000e+00\n",
            "Epoch 61/100\n",
            "20/20 [==============================] - 0s 7ms/step - loss: 0.8808 - accuracy: 0.0000e+00 - val_loss: 1.2744 - val_accuracy: 0.0000e+00\n",
            "Epoch 62/100\n",
            "20/20 [==============================] - 0s 7ms/step - loss: 0.8802 - accuracy: 0.0000e+00 - val_loss: 1.2804 - val_accuracy: 0.0000e+00\n",
            "Epoch 63/100\n",
            "20/20 [==============================] - 0s 7ms/step - loss: 0.8627 - accuracy: 0.0000e+00 - val_loss: 1.2541 - val_accuracy: 0.0000e+00\n",
            "Epoch 64/100\n",
            "20/20 [==============================] - 0s 8ms/step - loss: 0.9013 - accuracy: 0.0000e+00 - val_loss: 1.3349 - val_accuracy: 0.0000e+00\n",
            "Epoch 65/100\n",
            "20/20 [==============================] - 0s 7ms/step - loss: 0.8643 - accuracy: 0.0000e+00 - val_loss: 1.3115 - val_accuracy: 0.0000e+00\n",
            "Epoch 66/100\n",
            "20/20 [==============================] - 0s 8ms/step - loss: 0.8457 - accuracy: 0.0000e+00 - val_loss: 1.2569 - val_accuracy: 0.0000e+00\n",
            "Epoch 67/100\n",
            "20/20 [==============================] - 0s 7ms/step - loss: 0.8373 - accuracy: 0.0000e+00 - val_loss: 1.3170 - val_accuracy: 0.0000e+00\n",
            "Epoch 68/100\n",
            "20/20 [==============================] - 0s 7ms/step - loss: 0.8249 - accuracy: 0.0000e+00 - val_loss: 1.2733 - val_accuracy: 0.0000e+00\n",
            "Epoch 69/100\n",
            "20/20 [==============================] - 0s 7ms/step - loss: 0.8523 - accuracy: 0.0000e+00 - val_loss: 1.2802 - val_accuracy: 0.0000e+00\n",
            "Epoch 70/100\n",
            "20/20 [==============================] - 0s 7ms/step - loss: 0.8668 - accuracy: 0.0000e+00 - val_loss: 1.2460 - val_accuracy: 0.0000e+00\n",
            "Epoch 71/100\n",
            "20/20 [==============================] - 0s 7ms/step - loss: 0.8687 - accuracy: 0.0000e+00 - val_loss: 1.3466 - val_accuracy: 0.0000e+00\n",
            "Epoch 72/100\n",
            "20/20 [==============================] - 0s 7ms/step - loss: 0.8562 - accuracy: 0.0000e+00 - val_loss: 1.2805 - val_accuracy: 0.0000e+00\n",
            "Epoch 73/100\n",
            "20/20 [==============================] - 0s 7ms/step - loss: 0.8495 - accuracy: 0.0000e+00 - val_loss: 1.2296 - val_accuracy: 0.0000e+00\n",
            "Epoch 74/100\n",
            "20/20 [==============================] - 0s 7ms/step - loss: 0.8549 - accuracy: 0.0000e+00 - val_loss: 1.2806 - val_accuracy: 0.0000e+00\n",
            "Epoch 75/100\n",
            "20/20 [==============================] - 0s 8ms/step - loss: 0.8311 - accuracy: 0.0000e+00 - val_loss: 1.3299 - val_accuracy: 0.0000e+00\n",
            "Epoch 76/100\n",
            "20/20 [==============================] - 0s 7ms/step - loss: 0.8260 - accuracy: 0.0000e+00 - val_loss: 1.3886 - val_accuracy: 0.0000e+00\n",
            "Epoch 77/100\n",
            "20/20 [==============================] - 0s 7ms/step - loss: 0.8685 - accuracy: 0.0000e+00 - val_loss: 1.2684 - val_accuracy: 0.0000e+00\n",
            "Epoch 78/100\n",
            "20/20 [==============================] - 0s 8ms/step - loss: 0.8263 - accuracy: 0.0000e+00 - val_loss: 1.5066 - val_accuracy: 0.0000e+00\n",
            "Epoch 79/100\n",
            "20/20 [==============================] - 0s 7ms/step - loss: 0.9606 - accuracy: 0.0000e+00 - val_loss: 1.2711 - val_accuracy: 0.0000e+00\n",
            "Epoch 80/100\n",
            "20/20 [==============================] - 0s 7ms/step - loss: 1.0140 - accuracy: 0.0000e+00 - val_loss: 1.2619 - val_accuracy: 0.0000e+00\n",
            "Epoch 81/100\n",
            "20/20 [==============================] - 0s 7ms/step - loss: 0.9805 - accuracy: 0.0000e+00 - val_loss: 1.1919 - val_accuracy: 0.0000e+00\n",
            "Epoch 82/100\n",
            "20/20 [==============================] - 0s 7ms/step - loss: 0.9387 - accuracy: 0.0000e+00 - val_loss: 1.2620 - val_accuracy: 0.0000e+00\n",
            "Epoch 83/100\n",
            "20/20 [==============================] - 0s 7ms/step - loss: 0.9277 - accuracy: 0.0000e+00 - val_loss: 1.2528 - val_accuracy: 0.0000e+00\n",
            "Epoch 84/100\n",
            "20/20 [==============================] - 0s 7ms/step - loss: 0.8995 - accuracy: 0.0000e+00 - val_loss: 1.2393 - val_accuracy: 0.0000e+00\n",
            "Epoch 85/100\n",
            "20/20 [==============================] - 0s 8ms/step - loss: 0.9012 - accuracy: 0.0000e+00 - val_loss: 1.2310 - val_accuracy: 0.0000e+00\n",
            "Epoch 86/100\n",
            "20/20 [==============================] - 0s 8ms/step - loss: 0.8677 - accuracy: 0.0000e+00 - val_loss: 1.2261 - val_accuracy: 0.0000e+00\n",
            "Epoch 87/100\n",
            "20/20 [==============================] - 0s 7ms/step - loss: 0.9291 - accuracy: 0.0000e+00 - val_loss: 1.1828 - val_accuracy: 0.0000e+00\n",
            "Epoch 88/100\n",
            "20/20 [==============================] - 0s 7ms/step - loss: 0.9777 - accuracy: 0.0000e+00 - val_loss: 1.1654 - val_accuracy: 0.0000e+00\n",
            "Epoch 89/100\n",
            "20/20 [==============================] - 0s 7ms/step - loss: 0.9842 - accuracy: 0.0000e+00 - val_loss: 1.1640 - val_accuracy: 0.0000e+00\n",
            "Epoch 90/100\n",
            "20/20 [==============================] - 0s 8ms/step - loss: 0.9547 - accuracy: 0.0000e+00 - val_loss: 1.1874 - val_accuracy: 0.0000e+00\n",
            "Epoch 91/100\n",
            "20/20 [==============================] - 0s 8ms/step - loss: 0.9371 - accuracy: 0.0000e+00 - val_loss: 1.2469 - val_accuracy: 0.0000e+00\n",
            "Epoch 92/100\n",
            "20/20 [==============================] - 0s 7ms/step - loss: 0.8946 - accuracy: 0.0000e+00 - val_loss: 1.2336 - val_accuracy: 0.0000e+00\n",
            "Epoch 93/100\n",
            "20/20 [==============================] - 0s 7ms/step - loss: 0.9749 - accuracy: 0.0000e+00 - val_loss: 1.2646 - val_accuracy: 0.0000e+00\n",
            "Epoch 94/100\n",
            "20/20 [==============================] - 0s 8ms/step - loss: 0.9955 - accuracy: 0.0000e+00 - val_loss: 1.2461 - val_accuracy: 0.0000e+00\n",
            "Epoch 95/100\n",
            "20/20 [==============================] - 0s 7ms/step - loss: 0.9742 - accuracy: 0.0000e+00 - val_loss: 1.2340 - val_accuracy: 0.0000e+00\n",
            "Epoch 96/100\n",
            "20/20 [==============================] - 0s 7ms/step - loss: 0.9355 - accuracy: 0.0000e+00 - val_loss: 1.2420 - val_accuracy: 0.0000e+00\n",
            "Epoch 97/100\n",
            "20/20 [==============================] - 0s 8ms/step - loss: 0.9967 - accuracy: 0.0000e+00 - val_loss: 1.2741 - val_accuracy: 0.0000e+00\n",
            "Epoch 98/100\n",
            "20/20 [==============================] - 0s 7ms/step - loss: 0.9730 - accuracy: 0.0000e+00 - val_loss: 1.2430 - val_accuracy: 0.0000e+00\n",
            "Epoch 99/100\n",
            "20/20 [==============================] - 0s 7ms/step - loss: 0.9383 - accuracy: 0.0000e+00 - val_loss: 1.2494 - val_accuracy: 0.0000e+00\n",
            "Epoch 100/100\n",
            "20/20 [==============================] - 0s 7ms/step - loss: 0.9407 - accuracy: 0.0000e+00 - val_loss: 1.2726 - val_accuracy: 0.0000e+00\n"
          ],
          "name": "stdout"
        }
      ]
    },
    {
      "cell_type": "markdown",
      "metadata": {
        "colab_type": "text",
        "id": "AJzXNGkEYLpd"
      },
      "source": [
        "# Evaluate LSTM Regression Model for Return"
      ]
    },
    {
      "cell_type": "code",
      "metadata": {
        "colab_type": "code",
        "outputId": "38000020-6d12-4a46-adb5-44e77bde6982",
        "id": "fwSJPIL_YLpe",
        "colab": {
          "base_uri": "https://localhost:8080/",
          "height": 313
        }
      },
      "source": [
        "# Plot the loss\n",
        "plt.plot(r.history['loss'], label='loss')\n",
        "plt.plot(r.history['val_loss'], label='val_loss')\n",
        "plt.title(\"Loss and Validation Loss vs. Epoch\")\n",
        "plt.ylabel('Loss')\n",
        "plt.xlabel('Epoch')\n",
        "plt.legend()"
      ],
      "execution_count": 217,
      "outputs": [
        {
          "output_type": "execute_result",
          "data": {
            "text/plain": [
              "<matplotlib.legend.Legend at 0x7fed5b050668>"
            ]
          },
          "metadata": {
            "tags": []
          },
          "execution_count": 217
        },
        {
          "output_type": "display_data",
          "data": {
            "image/png": "[encoded data removed]",
            "text/plain": [
              "<Figure size 432x288 with 1 Axes>"
            ]
          },
          "metadata": {
            "tags": [],
            "needs_background": "light"
          }
        }
      ]
    },
    {
      "cell_type": "code",
      "metadata": {
        "colab_type": "code",
        "id": "U1LxyN39YLpj",
        "colab": {}
      },
      "source": [
        "# Full Data single step forecast (wrong way)\n",
        "predictions = model.predict(X)"
      ],
      "execution_count": 0,
      "outputs": []
    },
    {
      "cell_type": "code",
      "metadata": {
        "colab_type": "code",
        "outputId": "83cafa32-2edc-4a86-8d9b-079eb42c7b4a",
        "id": "0poqOJr1YLpo",
        "colab": {
          "base_uri": "https://localhost:8080/",
          "height": 313
        }
      },
      "source": [
        "plt.plot(Y, label='forecast target')\n",
        "plt.plot(predictions, label='forecast prediction')\n",
        "plt.title(\"Full Data Single Step Forecast\")\n",
        "plt.ylabel('Return')\n",
        "plt.xlabel('Time')\n",
        "plt.legend()"
      ],
      "execution_count": 219,
      "outputs": [
        {
          "output_type": "execute_result",
          "data": {
            "text/plain": [
              "<matplotlib.legend.Legend at 0x7fed5d4370f0>"
            ]
          },
          "metadata": {
            "tags": []
          },
          "execution_count": 219
        },
        {
          "output_type": "display_data",
          "data": {
            "image/png": "[encoded data removed]",
            "text/plain": [
              "<Figure size 432x288 with 1 Axes>"
            ]
          },
          "metadata": {
            "tags": [],
            "needs_background": "light"
          }
        }
      ]
    },
    {
      "cell_type": "code",
      "metadata": {
        "colab_type": "code",
        "id": "_5v7SntjYLps",
        "colab": {}
      },
      "source": [
        "# Single step forecast (wrong way)\n",
        "predictions_test = []\n",
        "i = -N//2\n",
        "while (len(predictions_test) < len(Y_test)):\n",
        "  p = model.predict(X[i].reshape(1, -1))[0,0]\n",
        "  i += 1\n",
        "\n",
        "  predictions_test.append(p)"
      ],
      "execution_count": 0,
      "outputs": []
    },
    {
      "cell_type": "code",
      "metadata": {
        "colab_type": "code",
        "outputId": "9e9def51-02a9-4a9d-e072-6a49c8722ade",
        "id": "zr-eg-fVYLpw",
        "colab": {
          "base_uri": "https://localhost:8080/",
          "height": 313
        }
      },
      "source": [
        "plt.plot(Y_test, label='forecast target')\n",
        "plt.plot(predictions_test, label='forecast prediction')\n",
        "plt.title(\"Validation Data Single Step Forecast\")\n",
        "plt.ylabel('Return')\n",
        "plt.xlabel('Time')\n",
        "plt.legend()"
      ],
      "execution_count": 221,
      "outputs": [
        {
          "output_type": "execute_result",
          "data": {
            "text/plain": [
              "<matplotlib.legend.Legend at 0x7fed5d2aa2e8>"
            ]
          },
          "metadata": {
            "tags": []
          },
          "execution_count": 221
        },
        {
          "output_type": "display_data",
          "data": {
            "image/png": "[encoded data removed]",
            "text/plain": [
              "<Figure size 432x288 with 1 Axes>"
            ]
          },
          "metadata": {
            "tags": [],
            "needs_background": "light"
          }
        }
      ]
    },
    {
      "cell_type": "code",
      "metadata": {
        "colab_type": "code",
        "id": "iL8uNvuIYLpz",
        "colab": {}
      },
      "source": [
        "# Multi step forecast - uses predictions for making future predictions\n",
        "predictions_test = []\n",
        "\n",
        "# Last train input\n",
        "x_last = X[-N//2]\n",
        "\n",
        "while (len(predictions_test) < len(Y_test)):\n",
        "  p = model.predict(x_last.reshape(1, -1))[0,0]\n",
        "  i += 1\n",
        "\n",
        "  predictions_test.append(p)\n",
        "\n",
        "  # Shift x_last vector of T values by 1 value to the left\n",
        "  x_last = np.roll(x_last, -1)\n",
        "  # Make last x_last element the prediction\n",
        "  x_last[-1] = p"
      ],
      "execution_count": 0,
      "outputs": []
    },
    {
      "cell_type": "code",
      "metadata": {
        "colab_type": "code",
        "outputId": "af33e008-18c8-4bc5-e6c5-8e34ab072e1c",
        "id": "vIEpEfW4YLp2",
        "colab": {
          "base_uri": "https://localhost:8080/",
          "height": 313
        }
      },
      "source": [
        "plt.plot(Y_test, label='forecast target')\n",
        "plt.plot(predictions_test, label='forecast prediction')\n",
        "plt.title(\"Validation Data Multi Step Forecast\")\n",
        "plt.ylabel('Return')\n",
        "plt.xlabel('Time')\n",
        "plt.legend()\n",
        "# Multi-step forecast is not good"
      ],
      "execution_count": 223,
      "outputs": [
        {
          "output_type": "execute_result",
          "data": {
            "text/plain": [
              "<matplotlib.legend.Legend at 0x7fed5b059668>"
            ]
          },
          "metadata": {
            "tags": []
          },
          "execution_count": 223
        },
        {
          "output_type": "display_data",
          "data": {
            "image/png": "[encoded data removed]",
            "text/plain": [
              "<Figure size 432x288 with 1 Axes>"
            ]
          },
          "metadata": {
            "tags": [],
            "needs_background": "light"
          }
        }
      ]
    },
    {
      "cell_type": "markdown",
      "metadata": {
        "id": "vQQSIw8TbR3L",
        "colab_type": "text"
      },
      "source": [
        "# Data Preprocessing of All Numeric Features\n",
        "\n"
      ]
    },
    {
      "cell_type": "code",
      "metadata": {
        "id": "mZEBS6jgXlTI",
        "colab_type": "code",
        "colab": {}
      },
      "source": [
        "input_data = df._get_numeric_data().drop(['PrevClose', 'Return'], axis=1).values\n",
        "targets = df['Return'].values"
      ],
      "execution_count": 0,
      "outputs": []
    },
    {
      "cell_type": "code",
      "metadata": {
        "id": "NuW5_tFsajdQ",
        "colab_type": "code",
        "colab": {}
      },
      "source": [
        "T = 10 # Length of time sequence\n",
        "D = input_data.shape[1] # Number of features\n",
        "N = len(input_data) - T # Number of samples"
      ],
      "execution_count": 0,
      "outputs": []
    },
    {
      "cell_type": "markdown",
      "metadata": {
        "id": "xFQ3aNJ_bI5e",
        "colab_type": "text"
      },
      "source": [
        "## Normalize Data"
      ]
    },
    {
      "cell_type": "code",
      "metadata": {
        "id": "i5RW9XdJbpj9",
        "colab_type": "code",
        "colab": {}
      },
      "source": [
        "N_train = len(input_data) * 2 // 3\n",
        "scaler = StandardScaler()\n",
        "scaler.fit(input_data[:N_train + T -1])\n",
        "input_data = scaler.transform(input_data)"
      ],
      "execution_count": 0,
      "outputs": []
    },
    {
      "cell_type": "markdown",
      "metadata": {
        "id": "eDOUdNPBb8QP",
        "colab_type": "text"
      },
      "source": [
        "## Set Up Training and Testing Data"
      ]
    },
    {
      "cell_type": "code",
      "metadata": {
        "id": "XseSxEkFeNQs",
        "colab_type": "code",
        "colab": {}
      },
      "source": [
        "# Training data\n",
        "X_train = np.zeros((N_train, T, D))\n",
        "Y_train = np.zeros(N_train)\n",
        "\n",
        "for t in range(N_train):\n",
        "  X_train[t,:,:] = input_data[t:t+T]\n",
        "  Y_train[t] = (targets[t+T] > 0) # binary classification"
      ],
      "execution_count": 0,
      "outputs": []
    },
    {
      "cell_type": "code",
      "metadata": {
        "id": "hlRB37qbeZcU",
        "colab_type": "code",
        "colab": {}
      },
      "source": [
        "# Testing data\n",
        "X_test = np.zeros((N - N_train, T, D))\n",
        "Y_test = np.zeros(N - N_train)\n",
        "\n",
        "for u in range(N - N_train):\n",
        "  t = u + N_train\n",
        "  X_test[u,:,:] = input_data[t:t+T]\n",
        "  Y_test[u] = (targets[t+T] > 0) # binary classification"
      ],
      "execution_count": 0,
      "outputs": []
    },
    {
      "cell_type": "markdown",
      "metadata": {
        "id": "xgqSmiWkfh3P",
        "colab_type": "text"
      },
      "source": [
        "# Build LSTM Binary Classification Model for Decrease/Increase of Return\n",
        "\n"
      ]
    },
    {
      "cell_type": "code",
      "metadata": {
        "id": "x_Qo6f6Uft1f",
        "colab_type": "code",
        "colab": {}
      },
      "source": [
        "i = Input(shape=(T,D))\n",
        "x = LSTM(40, activation='relu')(i)\n",
        "x = Dense(1, activation = 'sigmoid')(x)\n",
        "\n",
        "model = Model(i, x)\n",
        "\n",
        "model.compile(optimizer=Adam(lr=0.001),\n",
        "              loss='binary_crossentropy',\n",
        "              metrics=['accuracy'])"
      ],
      "execution_count": 0,
      "outputs": []
    },
    {
      "cell_type": "code",
      "metadata": {
        "id": "ZEgjdq6lgLTJ",
        "colab_type": "code",
        "colab": {
          "base_uri": "https://localhost:8080/",
          "height": 294
        },
        "outputId": "edf099c3-05f1-481a-ce46-139eb922bd4b"
      },
      "source": [
        "print(model.summary())"
      ],
      "execution_count": 237,
      "outputs": [
        {
          "output_type": "stream",
          "text": [
            "Model: \"model_12\"\n",
            "_________________________________________________________________\n",
            "Layer (type)                 Output Shape              Param #   \n",
            "=================================================================\n",
            "input_13 (InputLayer)        [(None, 10, 5)]           0         \n",
            "_________________________________________________________________\n",
            "lstm_12 (LSTM)               (None, 40)                7360      \n",
            "_________________________________________________________________\n",
            "dense_12 (Dense)             (None, 1)                 41        \n",
            "=================================================================\n",
            "Total params: 7,401\n",
            "Trainable params: 7,401\n",
            "Non-trainable params: 0\n",
            "_________________________________________________________________\n",
            "None\n"
          ],
          "name": "stdout"
        }
      ]
    },
    {
      "cell_type": "code",
      "metadata": {
        "id": "sng6fnX1gND5",
        "colab_type": "code",
        "colab": {
          "base_uri": "https://localhost:8080/",
          "height": 1000
        },
        "outputId": "d3136f6d-0203-4829-b549-fa95aaaf96dd"
      },
      "source": [
        "r = model.fit(X_train, Y_train,\n",
        "              validation_data = (X_test, Y_test),\n",
        "              batch_size = 64,\n",
        "              epochs = 350)"
      ],
      "execution_count": 238,
      "outputs": [
        {
          "output_type": "stream",
          "text": [
            "Epoch 1/350\n",
            "14/14 [==============================] - 0s 20ms/step - loss: 0.7013 - accuracy: 0.4875 - val_loss: 0.7007 - val_accuracy: 0.4854\n",
            "Epoch 2/350\n",
            "14/14 [==============================] - 0s 8ms/step - loss: 0.6943 - accuracy: 0.5161 - val_loss: 0.6984 - val_accuracy: 0.4854\n",
            "Epoch 3/350\n",
            "14/14 [==============================] - 0s 8ms/step - loss: 0.6921 - accuracy: 0.5256 - val_loss: 0.6941 - val_accuracy: 0.4951\n",
            "Epoch 4/350\n",
            "14/14 [==============================] - 0s 9ms/step - loss: 0.6929 - accuracy: 0.5256 - val_loss: 0.6935 - val_accuracy: 0.4902\n",
            "Epoch 5/350\n",
            "14/14 [==============================] - 0s 8ms/step - loss: 0.6919 - accuracy: 0.5268 - val_loss: 0.6941 - val_accuracy: 0.4927\n",
            "Epoch 6/350\n",
            "14/14 [==============================] - 0s 9ms/step - loss: 0.6905 - accuracy: 0.5375 - val_loss: 0.6943 - val_accuracy: 0.5000\n",
            "Epoch 7/350\n",
            "14/14 [==============================] - 0s 8ms/step - loss: 0.6903 - accuracy: 0.5447 - val_loss: 0.6910 - val_accuracy: 0.5317\n",
            "Epoch 8/350\n",
            "14/14 [==============================] - 0s 8ms/step - loss: 0.6903 - accuracy: 0.5364 - val_loss: 0.6934 - val_accuracy: 0.5098\n",
            "Epoch 9/350\n",
            "14/14 [==============================] - 0s 8ms/step - loss: 0.6897 - accuracy: 0.5328 - val_loss: 0.6973 - val_accuracy: 0.4902\n",
            "Epoch 10/350\n",
            "14/14 [==============================] - 0s 8ms/step - loss: 0.6889 - accuracy: 0.5423 - val_loss: 0.6944 - val_accuracy: 0.5073\n",
            "Epoch 11/350\n",
            "14/14 [==============================] - 0s 9ms/step - loss: 0.6887 - accuracy: 0.5650 - val_loss: 0.6935 - val_accuracy: 0.5073\n",
            "Epoch 12/350\n",
            "14/14 [==============================] - 0s 8ms/step - loss: 0.6884 - accuracy: 0.5352 - val_loss: 0.6940 - val_accuracy: 0.5073\n",
            "Epoch 13/350\n",
            "14/14 [==============================] - 0s 9ms/step - loss: 0.6871 - accuracy: 0.5697 - val_loss: 0.6903 - val_accuracy: 0.5439\n",
            "Epoch 14/350\n",
            "14/14 [==============================] - 0s 8ms/step - loss: 0.6871 - accuracy: 0.5554 - val_loss: 0.6916 - val_accuracy: 0.5244\n",
            "Epoch 15/350\n",
            "14/14 [==============================] - 0s 8ms/step - loss: 0.6883 - accuracy: 0.5328 - val_loss: 0.6904 - val_accuracy: 0.5341\n",
            "Epoch 16/350\n",
            "14/14 [==============================] - 0s 9ms/step - loss: 0.6876 - accuracy: 0.5435 - val_loss: 0.6903 - val_accuracy: 0.5415\n",
            "Epoch 17/350\n",
            "14/14 [==============================] - 0s 9ms/step - loss: 0.6866 - accuracy: 0.5721 - val_loss: 0.6898 - val_accuracy: 0.5561\n",
            "Epoch 18/350\n",
            "14/14 [==============================] - 0s 8ms/step - loss: 0.6872 - accuracy: 0.5483 - val_loss: 0.6896 - val_accuracy: 0.5488\n",
            "Epoch 19/350\n",
            "14/14 [==============================] - 0s 9ms/step - loss: 0.6851 - accuracy: 0.5530 - val_loss: 0.6992 - val_accuracy: 0.5049\n",
            "Epoch 20/350\n",
            "14/14 [==============================] - 0s 8ms/step - loss: 0.6860 - accuracy: 0.5566 - val_loss: 0.7002 - val_accuracy: 0.5073\n",
            "Epoch 21/350\n",
            "14/14 [==============================] - 0s 9ms/step - loss: 0.6854 - accuracy: 0.5590 - val_loss: 0.6990 - val_accuracy: 0.5024\n",
            "Epoch 22/350\n",
            "14/14 [==============================] - 0s 8ms/step - loss: 0.6850 - accuracy: 0.5435 - val_loss: 0.6941 - val_accuracy: 0.5049\n",
            "Epoch 23/350\n",
            "14/14 [==============================] - 0s 9ms/step - loss: 0.6843 - accuracy: 0.5781 - val_loss: 0.6943 - val_accuracy: 0.5024\n",
            "Epoch 24/350\n",
            "14/14 [==============================] - 0s 8ms/step - loss: 0.6842 - accuracy: 0.5757 - val_loss: 0.6937 - val_accuracy: 0.5098\n",
            "Epoch 25/350\n",
            "14/14 [==============================] - 0s 9ms/step - loss: 0.6844 - accuracy: 0.5673 - val_loss: 0.6941 - val_accuracy: 0.5317\n",
            "Epoch 26/350\n",
            "14/14 [==============================] - 0s 8ms/step - loss: 0.6868 - accuracy: 0.5602 - val_loss: 0.6893 - val_accuracy: 0.5463\n",
            "Epoch 27/350\n",
            "14/14 [==============================] - 0s 10ms/step - loss: 0.6832 - accuracy: 0.5709 - val_loss: 0.6969 - val_accuracy: 0.5024\n",
            "Epoch 28/350\n",
            "14/14 [==============================] - 0s 9ms/step - loss: 0.6843 - accuracy: 0.5566 - val_loss: 0.6965 - val_accuracy: 0.5024\n",
            "Epoch 29/350\n",
            "14/14 [==============================] - 0s 9ms/step - loss: 0.6834 - accuracy: 0.5471 - val_loss: 0.6933 - val_accuracy: 0.5098\n",
            "Epoch 30/350\n",
            "14/14 [==============================] - 0s 9ms/step - loss: 0.6820 - accuracy: 0.5638 - val_loss: 0.6921 - val_accuracy: 0.5171\n",
            "Epoch 31/350\n",
            "14/14 [==============================] - 0s 8ms/step - loss: 0.6828 - accuracy: 0.5578 - val_loss: 0.6953 - val_accuracy: 0.5146\n",
            "Epoch 32/350\n",
            "14/14 [==============================] - 0s 8ms/step - loss: 0.6847 - accuracy: 0.5483 - val_loss: 0.7050 - val_accuracy: 0.5024\n",
            "Epoch 33/350\n",
            "14/14 [==============================] - 0s 9ms/step - loss: 0.6831 - accuracy: 0.5662 - val_loss: 0.6901 - val_accuracy: 0.5512\n",
            "Epoch 34/350\n",
            "14/14 [==============================] - 0s 8ms/step - loss: 0.6819 - accuracy: 0.5709 - val_loss: 0.6955 - val_accuracy: 0.5171\n",
            "Epoch 35/350\n",
            "14/14 [==============================] - 0s 9ms/step - loss: 0.6816 - accuracy: 0.5685 - val_loss: 0.7057 - val_accuracy: 0.4976\n",
            "Epoch 36/350\n",
            "14/14 [==============================] - 0s 8ms/step - loss: 0.6822 - accuracy: 0.5685 - val_loss: 0.7006 - val_accuracy: 0.4976\n",
            "Epoch 37/350\n",
            "14/14 [==============================] - 0s 8ms/step - loss: 0.6805 - accuracy: 0.5721 - val_loss: 0.6965 - val_accuracy: 0.5122\n",
            "Epoch 38/350\n",
            "14/14 [==============================] - 0s 8ms/step - loss: 0.6789 - accuracy: 0.5805 - val_loss: 0.6918 - val_accuracy: 0.5341\n",
            "Epoch 39/350\n",
            "14/14 [==============================] - 0s 9ms/step - loss: 0.6795 - accuracy: 0.5757 - val_loss: 0.7067 - val_accuracy: 0.4951\n",
            "Epoch 40/350\n",
            "14/14 [==============================] - 0s 8ms/step - loss: 0.6784 - accuracy: 0.5912 - val_loss: 0.7023 - val_accuracy: 0.5073\n",
            "Epoch 41/350\n",
            "14/14 [==============================] - 0s 8ms/step - loss: 0.6793 - accuracy: 0.5495 - val_loss: 0.7161 - val_accuracy: 0.5293\n",
            "Epoch 42/350\n",
            "14/14 [==============================] - 0s 8ms/step - loss: 0.6790 - accuracy: 0.5518 - val_loss: 0.7003 - val_accuracy: 0.5122\n",
            "Epoch 43/350\n",
            "14/14 [==============================] - 0s 9ms/step - loss: 0.6807 - accuracy: 0.5733 - val_loss: 0.7085 - val_accuracy: 0.5073\n",
            "Epoch 44/350\n",
            "14/14 [==============================] - 0s 9ms/step - loss: 0.6754 - accuracy: 0.5876 - val_loss: 0.7134 - val_accuracy: 0.5244\n",
            "Epoch 45/350\n",
            "14/14 [==============================] - 0s 8ms/step - loss: 0.6765 - accuracy: 0.5614 - val_loss: 0.7228 - val_accuracy: 0.5122\n",
            "Epoch 46/350\n",
            "14/14 [==============================] - 0s 9ms/step - loss: 0.6773 - accuracy: 0.5816 - val_loss: 0.7247 - val_accuracy: 0.5146\n",
            "Epoch 47/350\n",
            "14/14 [==============================] - 0s 8ms/step - loss: 0.6748 - accuracy: 0.5757 - val_loss: 0.7313 - val_accuracy: 0.4829\n",
            "Epoch 48/350\n",
            "14/14 [==============================] - 0s 10ms/step - loss: 0.6762 - accuracy: 0.5852 - val_loss: 0.7287 - val_accuracy: 0.5024\n",
            "Epoch 49/350\n",
            "14/14 [==============================] - 0s 8ms/step - loss: 0.6737 - accuracy: 0.5745 - val_loss: 0.7196 - val_accuracy: 0.5000\n",
            "Epoch 50/350\n",
            "14/14 [==============================] - 0s 9ms/step - loss: 0.6769 - accuracy: 0.5685 - val_loss: 0.7441 - val_accuracy: 0.5171\n",
            "Epoch 51/350\n",
            "14/14 [==============================] - 0s 9ms/step - loss: 0.6772 - accuracy: 0.5638 - val_loss: 0.7191 - val_accuracy: 0.5098\n",
            "Epoch 52/350\n",
            "14/14 [==============================] - 0s 9ms/step - loss: 0.6733 - accuracy: 0.5864 - val_loss: 0.7271 - val_accuracy: 0.5000\n",
            "Epoch 53/350\n",
            "14/14 [==============================] - 0s 8ms/step - loss: 0.6730 - accuracy: 0.5912 - val_loss: 0.7695 - val_accuracy: 0.5171\n",
            "Epoch 54/350\n",
            "14/14 [==============================] - 0s 8ms/step - loss: 0.6726 - accuracy: 0.5983 - val_loss: 0.7539 - val_accuracy: 0.5098\n",
            "Epoch 55/350\n",
            "14/14 [==============================] - 0s 8ms/step - loss: 0.6704 - accuracy: 0.5936 - val_loss: 0.7824 - val_accuracy: 0.4976\n",
            "Epoch 56/350\n",
            "14/14 [==============================] - 0s 8ms/step - loss: 0.6763 - accuracy: 0.5864 - val_loss: 0.8234 - val_accuracy: 0.5171\n",
            "Epoch 57/350\n",
            "14/14 [==============================] - 0s 9ms/step - loss: 0.6711 - accuracy: 0.5733 - val_loss: 0.7202 - val_accuracy: 0.4878\n",
            "Epoch 58/350\n",
            "14/14 [==============================] - 0s 8ms/step - loss: 0.6764 - accuracy: 0.5709 - val_loss: 0.7287 - val_accuracy: 0.4951\n",
            "Epoch 59/350\n",
            "14/14 [==============================] - 0s 8ms/step - loss: 0.6693 - accuracy: 0.5840 - val_loss: 0.7690 - val_accuracy: 0.5024\n",
            "Epoch 60/350\n",
            "14/14 [==============================] - 0s 9ms/step - loss: 0.6709 - accuracy: 0.5840 - val_loss: 0.7580 - val_accuracy: 0.4927\n",
            "Epoch 61/350\n",
            "14/14 [==============================] - 0s 9ms/step - loss: 0.6689 - accuracy: 0.5995 - val_loss: 0.7398 - val_accuracy: 0.4927\n",
            "Epoch 62/350\n",
            "14/14 [==============================] - 0s 9ms/step - loss: 0.6698 - accuracy: 0.5924 - val_loss: 0.7194 - val_accuracy: 0.4829\n",
            "Epoch 63/350\n",
            "14/14 [==============================] - 0s 8ms/step - loss: 0.6683 - accuracy: 0.5876 - val_loss: 0.7620 - val_accuracy: 0.5098\n",
            "Epoch 64/350\n",
            "14/14 [==============================] - 0s 8ms/step - loss: 0.6707 - accuracy: 0.5876 - val_loss: 0.7361 - val_accuracy: 0.4902\n",
            "Epoch 65/350\n",
            "14/14 [==============================] - 0s 9ms/step - loss: 0.6671 - accuracy: 0.5840 - val_loss: 0.7281 - val_accuracy: 0.4829\n",
            "Epoch 66/350\n",
            "14/14 [==============================] - 0s 8ms/step - loss: 0.6666 - accuracy: 0.5840 - val_loss: 0.7671 - val_accuracy: 0.5000\n",
            "Epoch 67/350\n",
            "14/14 [==============================] - 0s 9ms/step - loss: 0.6645 - accuracy: 0.6067 - val_loss: 0.7581 - val_accuracy: 0.4927\n",
            "Epoch 68/350\n",
            "14/14 [==============================] - 0s 8ms/step - loss: 0.6629 - accuracy: 0.5971 - val_loss: 0.7698 - val_accuracy: 0.4927\n",
            "Epoch 69/350\n",
            "14/14 [==============================] - 0s 8ms/step - loss: 0.6649 - accuracy: 0.5995 - val_loss: 0.7927 - val_accuracy: 0.4829\n",
            "Epoch 70/350\n",
            "14/14 [==============================] - 0s 8ms/step - loss: 0.6718 - accuracy: 0.5781 - val_loss: 0.7148 - val_accuracy: 0.5195\n",
            "Epoch 71/350\n",
            "14/14 [==============================] - 0s 8ms/step - loss: 0.6714 - accuracy: 0.5959 - val_loss: 0.7086 - val_accuracy: 0.5049\n",
            "Epoch 72/350\n",
            "14/14 [==============================] - 0s 9ms/step - loss: 0.6650 - accuracy: 0.6007 - val_loss: 0.7090 - val_accuracy: 0.4878\n",
            "Epoch 73/350\n",
            "14/14 [==============================] - 0s 8ms/step - loss: 0.6647 - accuracy: 0.6067 - val_loss: 0.7165 - val_accuracy: 0.4976\n",
            "Epoch 74/350\n",
            "14/14 [==============================] - 0s 9ms/step - loss: 0.6700 - accuracy: 0.5733 - val_loss: 0.7148 - val_accuracy: 0.4951\n",
            "Epoch 75/350\n",
            "14/14 [==============================] - 0s 8ms/step - loss: 0.6626 - accuracy: 0.6019 - val_loss: 0.7213 - val_accuracy: 0.4951\n",
            "Epoch 76/350\n",
            "14/14 [==============================] - 0s 9ms/step - loss: 0.6625 - accuracy: 0.6007 - val_loss: 0.7298 - val_accuracy: 0.4951\n",
            "Epoch 77/350\n",
            "14/14 [==============================] - 0s 8ms/step - loss: 0.6597 - accuracy: 0.6150 - val_loss: 0.7405 - val_accuracy: 0.4854\n",
            "Epoch 78/350\n",
            "14/14 [==============================] - 0s 9ms/step - loss: 0.6583 - accuracy: 0.5948 - val_loss: 0.7712 - val_accuracy: 0.5146\n",
            "Epoch 79/350\n",
            "14/14 [==============================] - 0s 9ms/step - loss: 0.6630 - accuracy: 0.5995 - val_loss: 0.7694 - val_accuracy: 0.5146\n",
            "Epoch 80/350\n",
            "14/14 [==============================] - 0s 9ms/step - loss: 0.6563 - accuracy: 0.5995 - val_loss: 0.7620 - val_accuracy: 0.4854\n",
            "Epoch 81/350\n",
            "14/14 [==============================] - 0s 9ms/step - loss: 0.6566 - accuracy: 0.5971 - val_loss: 0.7767 - val_accuracy: 0.5024\n",
            "Epoch 82/350\n",
            "14/14 [==============================] - 0s 9ms/step - loss: 0.6565 - accuracy: 0.5995 - val_loss: 0.7882 - val_accuracy: 0.4902\n",
            "Epoch 83/350\n",
            "14/14 [==============================] - 0s 9ms/step - loss: 0.6524 - accuracy: 0.6019 - val_loss: 0.7715 - val_accuracy: 0.4829\n",
            "Epoch 84/350\n",
            "14/14 [==============================] - 0s 9ms/step - loss: 0.6531 - accuracy: 0.6067 - val_loss: 0.7647 - val_accuracy: 0.4854\n",
            "Epoch 85/350\n",
            "14/14 [==============================] - 0s 9ms/step - loss: 0.6491 - accuracy: 0.6246 - val_loss: 0.7780 - val_accuracy: 0.4756\n",
            "Epoch 86/350\n",
            "14/14 [==============================] - 0s 9ms/step - loss: 0.6468 - accuracy: 0.6222 - val_loss: 0.7967 - val_accuracy: 0.4732\n",
            "Epoch 87/350\n",
            "14/14 [==============================] - 0s 8ms/step - loss: 0.6456 - accuracy: 0.6138 - val_loss: 0.7732 - val_accuracy: 0.4902\n",
            "Epoch 88/350\n",
            "14/14 [==============================] - 0s 8ms/step - loss: 0.6470 - accuracy: 0.6234 - val_loss: 0.8053 - val_accuracy: 0.4805\n",
            "Epoch 89/350\n",
            "14/14 [==============================] - 0s 9ms/step - loss: 0.6431 - accuracy: 0.6162 - val_loss: 0.7446 - val_accuracy: 0.4927\n",
            "Epoch 90/350\n",
            "14/14 [==============================] - 0s 9ms/step - loss: 0.6536 - accuracy: 0.6103 - val_loss: 0.7763 - val_accuracy: 0.4707\n",
            "Epoch 91/350\n",
            "14/14 [==============================] - 0s 8ms/step - loss: 0.6463 - accuracy: 0.6043 - val_loss: 0.8134 - val_accuracy: 0.4780\n",
            "Epoch 92/350\n",
            "14/14 [==============================] - 0s 8ms/step - loss: 0.6474 - accuracy: 0.6210 - val_loss: 0.7755 - val_accuracy: 0.4878\n",
            "Epoch 93/350\n",
            "14/14 [==============================] - 0s 8ms/step - loss: 0.6413 - accuracy: 0.6198 - val_loss: 0.7862 - val_accuracy: 0.4732\n",
            "Epoch 94/350\n",
            "14/14 [==============================] - 0s 8ms/step - loss: 0.6402 - accuracy: 0.6222 - val_loss: 0.7375 - val_accuracy: 0.4780\n",
            "Epoch 95/350\n",
            "14/14 [==============================] - 0s 11ms/step - loss: 0.6425 - accuracy: 0.6067 - val_loss: 0.7744 - val_accuracy: 0.4756\n",
            "Epoch 96/350\n",
            "14/14 [==============================] - 0s 9ms/step - loss: 0.6644 - accuracy: 0.5971 - val_loss: 0.7472 - val_accuracy: 0.4976\n",
            "Epoch 97/350\n",
            "14/14 [==============================] - 0s 8ms/step - loss: 0.6564 - accuracy: 0.6031 - val_loss: 0.7199 - val_accuracy: 0.4976\n",
            "Epoch 98/350\n",
            "14/14 [==============================] - 0s 9ms/step - loss: 0.6506 - accuracy: 0.6055 - val_loss: 0.7094 - val_accuracy: 0.4902\n",
            "Epoch 99/350\n",
            "14/14 [==============================] - 0s 8ms/step - loss: 0.6484 - accuracy: 0.6103 - val_loss: 0.7128 - val_accuracy: 0.4878\n",
            "Epoch 100/350\n",
            "14/14 [==============================] - 0s 9ms/step - loss: 0.6490 - accuracy: 0.6126 - val_loss: 0.7173 - val_accuracy: 0.4902\n",
            "Epoch 101/350\n",
            "14/14 [==============================] - 0s 9ms/step - loss: 0.6435 - accuracy: 0.6091 - val_loss: 0.7169 - val_accuracy: 0.4829\n",
            "Epoch 102/350\n",
            "14/14 [==============================] - 0s 9ms/step - loss: 0.6414 - accuracy: 0.6126 - val_loss: 0.7398 - val_accuracy: 0.4902\n",
            "Epoch 103/350\n",
            "14/14 [==============================] - 0s 8ms/step - loss: 0.6426 - accuracy: 0.6222 - val_loss: 0.7296 - val_accuracy: 0.4976\n",
            "Epoch 104/350\n",
            "14/14 [==============================] - 0s 9ms/step - loss: 0.6376 - accuracy: 0.6222 - val_loss: 0.7400 - val_accuracy: 0.4805\n",
            "Epoch 105/350\n",
            "14/14 [==============================] - 0s 10ms/step - loss: 0.6341 - accuracy: 0.6281 - val_loss: 0.7426 - val_accuracy: 0.4780\n",
            "Epoch 106/350\n",
            "14/14 [==============================] - 0s 9ms/step - loss: 0.6357 - accuracy: 0.6210 - val_loss: 0.7779 - val_accuracy: 0.5049\n",
            "Epoch 107/350\n",
            "14/14 [==============================] - 0s 8ms/step - loss: 0.6358 - accuracy: 0.6246 - val_loss: 0.7545 - val_accuracy: 0.4902\n",
            "Epoch 108/350\n",
            "14/14 [==============================] - 0s 8ms/step - loss: 0.6325 - accuracy: 0.6353 - val_loss: 0.7835 - val_accuracy: 0.4854\n",
            "Epoch 109/350\n",
            "14/14 [==============================] - 0s 9ms/step - loss: 0.6347 - accuracy: 0.6305 - val_loss: 0.7793 - val_accuracy: 0.4415\n",
            "Epoch 110/350\n",
            "14/14 [==============================] - 0s 8ms/step - loss: 0.6311 - accuracy: 0.6246 - val_loss: 0.7852 - val_accuracy: 0.4756\n",
            "Epoch 111/350\n",
            "14/14 [==============================] - 0s 8ms/step - loss: 0.6341 - accuracy: 0.6198 - val_loss: 0.7817 - val_accuracy: 0.4780\n",
            "Epoch 112/350\n",
            "14/14 [==============================] - 0s 9ms/step - loss: 0.6305 - accuracy: 0.6198 - val_loss: 0.7812 - val_accuracy: 0.4537\n",
            "Epoch 113/350\n",
            "14/14 [==============================] - 0s 9ms/step - loss: 0.6281 - accuracy: 0.6246 - val_loss: 0.7571 - val_accuracy: 0.4634\n",
            "Epoch 114/350\n",
            "14/14 [==============================] - 0s 9ms/step - loss: 0.6431 - accuracy: 0.6103 - val_loss: 0.7871 - val_accuracy: 0.4902\n",
            "Epoch 115/350\n",
            "14/14 [==============================] - 0s 8ms/step - loss: 0.6346 - accuracy: 0.6138 - val_loss: 0.8020 - val_accuracy: 0.4976\n",
            "Epoch 116/350\n",
            "14/14 [==============================] - 0s 9ms/step - loss: 0.6278 - accuracy: 0.6246 - val_loss: 0.8151 - val_accuracy: 0.4780\n",
            "Epoch 117/350\n",
            "14/14 [==============================] - 0s 8ms/step - loss: 0.6240 - accuracy: 0.6281 - val_loss: 0.8080 - val_accuracy: 0.4927\n",
            "Epoch 118/350\n",
            "14/14 [==============================] - 0s 8ms/step - loss: 0.6204 - accuracy: 0.6305 - val_loss: 0.8259 - val_accuracy: 0.4756\n",
            "Epoch 119/350\n",
            "14/14 [==============================] - 0s 9ms/step - loss: 0.6148 - accuracy: 0.6353 - val_loss: 0.8186 - val_accuracy: 0.4634\n",
            "Epoch 120/350\n",
            "14/14 [==============================] - 0s 9ms/step - loss: 0.6160 - accuracy: 0.6377 - val_loss: 0.8289 - val_accuracy: 0.4829\n",
            "Epoch 121/350\n",
            "14/14 [==============================] - 0s 9ms/step - loss: 0.6203 - accuracy: 0.6353 - val_loss: 0.8116 - val_accuracy: 0.4683\n",
            "Epoch 122/350\n",
            "14/14 [==============================] - 0s 9ms/step - loss: 0.6144 - accuracy: 0.6460 - val_loss: 0.8091 - val_accuracy: 0.4707\n",
            "Epoch 123/350\n",
            "14/14 [==============================] - 0s 9ms/step - loss: 0.6125 - accuracy: 0.6377 - val_loss: 0.8387 - val_accuracy: 0.4634\n",
            "Epoch 124/350\n",
            "14/14 [==============================] - 0s 8ms/step - loss: 0.6118 - accuracy: 0.6365 - val_loss: 0.8184 - val_accuracy: 0.4878\n",
            "Epoch 125/350\n",
            "14/14 [==============================] - 0s 8ms/step - loss: 0.6135 - accuracy: 0.6377 - val_loss: 0.7947 - val_accuracy: 0.4976\n",
            "Epoch 126/350\n",
            "14/14 [==============================] - 0s 8ms/step - loss: 0.6070 - accuracy: 0.6424 - val_loss: 0.8783 - val_accuracy: 0.4927\n",
            "Epoch 127/350\n",
            "14/14 [==============================] - 0s 9ms/step - loss: 0.6073 - accuracy: 0.6317 - val_loss: 0.8632 - val_accuracy: 0.4732\n",
            "Epoch 128/350\n",
            "14/14 [==============================] - 0s 8ms/step - loss: 0.6083 - accuracy: 0.6353 - val_loss: 0.8565 - val_accuracy: 0.4805\n",
            "Epoch 129/350\n",
            "14/14 [==============================] - 0s 9ms/step - loss: 0.6053 - accuracy: 0.6353 - val_loss: 0.9058 - val_accuracy: 0.4683\n",
            "Epoch 130/350\n",
            "14/14 [==============================] - 0s 8ms/step - loss: 0.6073 - accuracy: 0.6424 - val_loss: 0.8615 - val_accuracy: 0.4732\n",
            "Epoch 131/350\n",
            "14/14 [==============================] - 0s 8ms/step - loss: 0.5985 - accuracy: 0.6460 - val_loss: 0.8877 - val_accuracy: 0.4732\n",
            "Epoch 132/350\n",
            "14/14 [==============================] - 0s 9ms/step - loss: 0.6022 - accuracy: 0.6412 - val_loss: 0.9045 - val_accuracy: 0.4707\n",
            "Epoch 133/350\n",
            "14/14 [==============================] - 0s 9ms/step - loss: 0.5986 - accuracy: 0.6436 - val_loss: 0.8778 - val_accuracy: 0.4683\n",
            "Epoch 134/350\n",
            "14/14 [==============================] - 0s 8ms/step - loss: 0.5961 - accuracy: 0.6544 - val_loss: 0.9222 - val_accuracy: 0.4854\n",
            "Epoch 135/350\n",
            "14/14 [==============================] - 0s 9ms/step - loss: 0.5934 - accuracy: 0.6567 - val_loss: 0.9203 - val_accuracy: 0.4707\n",
            "Epoch 136/350\n",
            "14/14 [==============================] - 0s 9ms/step - loss: 0.5875 - accuracy: 0.6591 - val_loss: 0.9052 - val_accuracy: 0.4732\n",
            "Epoch 137/350\n",
            "14/14 [==============================] - 0s 8ms/step - loss: 0.5881 - accuracy: 0.6532 - val_loss: 0.8569 - val_accuracy: 0.4683\n",
            "Epoch 138/350\n",
            "14/14 [==============================] - 0s 8ms/step - loss: 0.5980 - accuracy: 0.6579 - val_loss: 0.8173 - val_accuracy: 0.4610\n",
            "Epoch 139/350\n",
            "14/14 [==============================] - 0s 8ms/step - loss: 0.5904 - accuracy: 0.6400 - val_loss: 0.8074 - val_accuracy: 0.4683\n",
            "Epoch 140/350\n",
            "14/14 [==============================] - 0s 8ms/step - loss: 0.5788 - accuracy: 0.6508 - val_loss: 0.9615 - val_accuracy: 0.4634\n",
            "Epoch 141/350\n",
            "14/14 [==============================] - 0s 9ms/step - loss: 0.5860 - accuracy: 0.6567 - val_loss: 0.8520 - val_accuracy: 0.4732\n",
            "Epoch 142/350\n",
            "14/14 [==============================] - 0s 9ms/step - loss: 0.6237 - accuracy: 0.6603 - val_loss: 0.8176 - val_accuracy: 0.4805\n",
            "Epoch 143/350\n",
            "14/14 [==============================] - 0s 8ms/step - loss: 0.6097 - accuracy: 0.6412 - val_loss: 0.8123 - val_accuracy: 0.4756\n",
            "Epoch 144/350\n",
            "14/14 [==============================] - 0s 9ms/step - loss: 0.5969 - accuracy: 0.6639 - val_loss: 0.8133 - val_accuracy: 0.4610\n",
            "Epoch 145/350\n",
            "14/14 [==============================] - 0s 8ms/step - loss: 0.5895 - accuracy: 0.6496 - val_loss: 0.8353 - val_accuracy: 0.4732\n",
            "Epoch 146/350\n",
            "14/14 [==============================] - 0s 8ms/step - loss: 0.5805 - accuracy: 0.6520 - val_loss: 0.8614 - val_accuracy: 0.4390\n",
            "Epoch 147/350\n",
            "14/14 [==============================] - 0s 8ms/step - loss: 0.5768 - accuracy: 0.6567 - val_loss: 0.8954 - val_accuracy: 0.4415\n",
            "Epoch 148/350\n",
            "14/14 [==============================] - 0s 8ms/step - loss: 0.6446 - accuracy: 0.6389 - val_loss: 0.8416 - val_accuracy: 0.4512\n",
            "Epoch 149/350\n",
            "14/14 [==============================] - 0s 8ms/step - loss: 0.6601 - accuracy: 0.6174 - val_loss: 0.7556 - val_accuracy: 0.4878\n",
            "Epoch 150/350\n",
            "14/14 [==============================] - 0s 9ms/step - loss: 0.6331 - accuracy: 0.6257 - val_loss: 0.7880 - val_accuracy: 0.4805\n",
            "Epoch 151/350\n",
            "14/14 [==============================] - 0s 9ms/step - loss: 0.6220 - accuracy: 0.6293 - val_loss: 0.8168 - val_accuracy: 0.4732\n",
            "Epoch 152/350\n",
            "14/14 [==============================] - 0s 9ms/step - loss: 0.6392 - accuracy: 0.6269 - val_loss: 0.8025 - val_accuracy: 0.5098\n",
            "Epoch 153/350\n",
            "14/14 [==============================] - 0s 8ms/step - loss: 0.6202 - accuracy: 0.6412 - val_loss: 0.7732 - val_accuracy: 0.4805\n",
            "Epoch 154/350\n",
            "14/14 [==============================] - 0s 9ms/step - loss: 0.6168 - accuracy: 0.6329 - val_loss: 0.7863 - val_accuracy: 0.4732\n",
            "Epoch 155/350\n",
            "14/14 [==============================] - 0s 8ms/step - loss: 0.6132 - accuracy: 0.6400 - val_loss: 0.8035 - val_accuracy: 0.4732\n",
            "Epoch 156/350\n",
            "14/14 [==============================] - 0s 9ms/step - loss: 0.6063 - accuracy: 0.6377 - val_loss: 0.8295 - val_accuracy: 0.4902\n",
            "Epoch 157/350\n",
            "14/14 [==============================] - 0s 8ms/step - loss: 0.6059 - accuracy: 0.6496 - val_loss: 0.8310 - val_accuracy: 0.4756\n",
            "Epoch 158/350\n",
            "14/14 [==============================] - 0s 9ms/step - loss: 0.6026 - accuracy: 0.6436 - val_loss: 0.8206 - val_accuracy: 0.4951\n",
            "Epoch 159/350\n",
            "14/14 [==============================] - 0s 8ms/step - loss: 0.5999 - accuracy: 0.6460 - val_loss: 0.8398 - val_accuracy: 0.4951\n",
            "Epoch 160/350\n",
            "14/14 [==============================] - 0s 9ms/step - loss: 0.5930 - accuracy: 0.6496 - val_loss: 0.8504 - val_accuracy: 0.5000\n",
            "Epoch 161/350\n",
            "14/14 [==============================] - 0s 9ms/step - loss: 0.5940 - accuracy: 0.6496 - val_loss: 0.8374 - val_accuracy: 0.4878\n",
            "Epoch 162/350\n",
            "14/14 [==============================] - 0s 8ms/step - loss: 0.5934 - accuracy: 0.6448 - val_loss: 0.8377 - val_accuracy: 0.4805\n",
            "Epoch 163/350\n",
            "14/14 [==============================] - 0s 8ms/step - loss: 0.5894 - accuracy: 0.6544 - val_loss: 0.8368 - val_accuracy: 0.5000\n",
            "Epoch 164/350\n",
            "14/14 [==============================] - 0s 8ms/step - loss: 0.5887 - accuracy: 0.6615 - val_loss: 0.8464 - val_accuracy: 0.5098\n",
            "Epoch 165/350\n",
            "14/14 [==============================] - 0s 9ms/step - loss: 0.5861 - accuracy: 0.6532 - val_loss: 0.8813 - val_accuracy: 0.4951\n",
            "Epoch 166/350\n",
            "14/14 [==============================] - 0s 8ms/step - loss: 0.5858 - accuracy: 0.6532 - val_loss: 0.8310 - val_accuracy: 0.4902\n",
            "Epoch 167/350\n",
            "14/14 [==============================] - 0s 8ms/step - loss: 0.5801 - accuracy: 0.6555 - val_loss: 0.8541 - val_accuracy: 0.4854\n",
            "Epoch 168/350\n",
            "14/14 [==============================] - 0s 9ms/step - loss: 0.5785 - accuracy: 0.6615 - val_loss: 0.8546 - val_accuracy: 0.4878\n",
            "Epoch 169/350\n",
            "14/14 [==============================] - 0s 9ms/step - loss: 0.5857 - accuracy: 0.6269 - val_loss: 0.8666 - val_accuracy: 0.5024\n",
            "Epoch 170/350\n",
            "14/14 [==============================] - 0s 9ms/step - loss: 0.5747 - accuracy: 0.6627 - val_loss: 0.8612 - val_accuracy: 0.4927\n",
            "Epoch 171/350\n",
            "14/14 [==============================] - 0s 8ms/step - loss: 0.5774 - accuracy: 0.6591 - val_loss: 0.8757 - val_accuracy: 0.4951\n",
            "Epoch 172/350\n",
            "14/14 [==============================] - 0s 8ms/step - loss: 0.5701 - accuracy: 0.6710 - val_loss: 0.8822 - val_accuracy: 0.4829\n",
            "Epoch 173/350\n",
            "14/14 [==============================] - 0s 8ms/step - loss: 0.5721 - accuracy: 0.6615 - val_loss: 0.8563 - val_accuracy: 0.4829\n",
            "Epoch 174/350\n",
            "14/14 [==============================] - 0s 9ms/step - loss: 0.5683 - accuracy: 0.6675 - val_loss: 0.8982 - val_accuracy: 0.4732\n",
            "Epoch 175/350\n",
            "14/14 [==============================] - 0s 9ms/step - loss: 0.5730 - accuracy: 0.6675 - val_loss: 0.8771 - val_accuracy: 0.4878\n",
            "Epoch 176/350\n",
            "14/14 [==============================] - 0s 8ms/step - loss: 0.5697 - accuracy: 0.6698 - val_loss: 0.8978 - val_accuracy: 0.4683\n",
            "Epoch 177/350\n",
            "14/14 [==============================] - 0s 9ms/step - loss: 0.5647 - accuracy: 0.6734 - val_loss: 0.8937 - val_accuracy: 0.4854\n",
            "Epoch 178/350\n",
            "14/14 [==============================] - 0s 8ms/step - loss: 0.5634 - accuracy: 0.6782 - val_loss: 0.8959 - val_accuracy: 0.4537\n",
            "Epoch 179/350\n",
            "14/14 [==============================] - 0s 9ms/step - loss: 0.5583 - accuracy: 0.6770 - val_loss: 0.9028 - val_accuracy: 0.4756\n",
            "Epoch 180/350\n",
            "14/14 [==============================] - 0s 9ms/step - loss: 0.5515 - accuracy: 0.6770 - val_loss: 0.9082 - val_accuracy: 0.4805\n",
            "Epoch 181/350\n",
            "14/14 [==============================] - 0s 9ms/step - loss: 0.5564 - accuracy: 0.6675 - val_loss: 0.9253 - val_accuracy: 0.4732\n",
            "Epoch 182/350\n",
            "14/14 [==============================] - 0s 8ms/step - loss: 0.5555 - accuracy: 0.6758 - val_loss: 0.9019 - val_accuracy: 0.4463\n",
            "Epoch 183/350\n",
            "14/14 [==============================] - 0s 9ms/step - loss: 0.5508 - accuracy: 0.6806 - val_loss: 0.9457 - val_accuracy: 0.4610\n",
            "Epoch 184/350\n",
            "14/14 [==============================] - 0s 10ms/step - loss: 0.5485 - accuracy: 0.6889 - val_loss: 1.0343 - val_accuracy: 0.4512\n",
            "Epoch 185/350\n",
            "14/14 [==============================] - 0s 8ms/step - loss: 0.5474 - accuracy: 0.6746 - val_loss: 0.9653 - val_accuracy: 0.4488\n",
            "Epoch 186/350\n",
            "14/14 [==============================] - 0s 8ms/step - loss: 0.5684 - accuracy: 0.6710 - val_loss: 0.9945 - val_accuracy: 0.4610\n",
            "Epoch 187/350\n",
            "14/14 [==============================] - 0s 9ms/step - loss: 0.5745 - accuracy: 0.6615 - val_loss: 0.9546 - val_accuracy: 0.4634\n",
            "Epoch 188/350\n",
            "14/14 [==============================] - 0s 8ms/step - loss: 0.5676 - accuracy: 0.6675 - val_loss: 1.0279 - val_accuracy: 0.4634\n",
            "Epoch 189/350\n",
            "14/14 [==============================] - 0s 9ms/step - loss: 0.5662 - accuracy: 0.6663 - val_loss: 1.0707 - val_accuracy: 0.4683\n",
            "Epoch 190/350\n",
            "14/14 [==============================] - 0s 8ms/step - loss: 0.5624 - accuracy: 0.6770 - val_loss: 1.1054 - val_accuracy: 0.4707\n",
            "Epoch 191/350\n",
            "14/14 [==============================] - 0s 9ms/step - loss: 0.5592 - accuracy: 0.6687 - val_loss: 1.1322 - val_accuracy: 0.5000\n",
            "Epoch 192/350\n",
            "14/14 [==============================] - 0s 9ms/step - loss: 0.5564 - accuracy: 0.6782 - val_loss: 1.1821 - val_accuracy: 0.4659\n",
            "Epoch 193/350\n",
            "14/14 [==============================] - 0s 9ms/step - loss: 0.5504 - accuracy: 0.6770 - val_loss: 1.2550 - val_accuracy: 0.4854\n",
            "Epoch 194/350\n",
            "14/14 [==============================] - 0s 9ms/step - loss: 0.5612 - accuracy: 0.6758 - val_loss: 1.1552 - val_accuracy: 0.4902\n",
            "Epoch 195/350\n",
            "14/14 [==============================] - 0s 9ms/step - loss: 0.5494 - accuracy: 0.6841 - val_loss: 1.1069 - val_accuracy: 0.4659\n",
            "Epoch 196/350\n",
            "14/14 [==============================] - 0s 8ms/step - loss: 0.5420 - accuracy: 0.6782 - val_loss: 1.1357 - val_accuracy: 0.4951\n",
            "Epoch 197/350\n",
            "14/14 [==============================] - 0s 9ms/step - loss: 0.5305 - accuracy: 0.6901 - val_loss: 1.1705 - val_accuracy: 0.4732\n",
            "Epoch 198/350\n",
            "14/14 [==============================] - 0s 9ms/step - loss: 0.5266 - accuracy: 0.6937 - val_loss: 1.2198 - val_accuracy: 0.4780\n",
            "Epoch 199/350\n",
            "14/14 [==============================] - 0s 8ms/step - loss: 0.5175 - accuracy: 0.7056 - val_loss: 1.2252 - val_accuracy: 0.4927\n",
            "Epoch 200/350\n",
            "14/14 [==============================] - 0s 8ms/step - loss: 0.5142 - accuracy: 0.7163 - val_loss: 1.2903 - val_accuracy: 0.4756\n",
            "Epoch 201/350\n",
            "14/14 [==============================] - 0s 8ms/step - loss: 0.5205 - accuracy: 0.7020 - val_loss: 1.3294 - val_accuracy: 0.5049\n",
            "Epoch 202/350\n",
            "14/14 [==============================] - 0s 9ms/step - loss: 0.5770 - accuracy: 0.6973 - val_loss: 1.1325 - val_accuracy: 0.4805\n",
            "Epoch 203/350\n",
            "14/14 [==============================] - 0s 9ms/step - loss: 0.6593 - accuracy: 0.6770 - val_loss: 0.9341 - val_accuracy: 0.4854\n",
            "Epoch 204/350\n",
            "14/14 [==============================] - 0s 9ms/step - loss: 0.5858 - accuracy: 0.6722 - val_loss: 0.8382 - val_accuracy: 0.4854\n",
            "Epoch 205/350\n",
            "14/14 [==============================] - 0s 9ms/step - loss: 0.5534 - accuracy: 0.6794 - val_loss: 0.8140 - val_accuracy: 0.4878\n",
            "Epoch 206/350\n",
            "14/14 [==============================] - 0s 9ms/step - loss: 0.5386 - accuracy: 0.6925 - val_loss: 0.8290 - val_accuracy: 0.4927\n",
            "Epoch 207/350\n",
            "14/14 [==============================] - 0s 9ms/step - loss: 0.5318 - accuracy: 0.7008 - val_loss: 0.8673 - val_accuracy: 0.4780\n",
            "Epoch 208/350\n",
            "14/14 [==============================] - 0s 9ms/step - loss: 0.5269 - accuracy: 0.7008 - val_loss: 0.8852 - val_accuracy: 0.4878\n",
            "Epoch 209/350\n",
            "14/14 [==============================] - 0s 9ms/step - loss: 0.5263 - accuracy: 0.7104 - val_loss: 0.8694 - val_accuracy: 0.5000\n",
            "Epoch 210/350\n",
            "14/14 [==============================] - 0s 9ms/step - loss: 0.5196 - accuracy: 0.7020 - val_loss: 0.8809 - val_accuracy: 0.4829\n",
            "Epoch 211/350\n",
            "14/14 [==============================] - 0s 8ms/step - loss: 0.5164 - accuracy: 0.7056 - val_loss: 0.8989 - val_accuracy: 0.4805\n",
            "Epoch 212/350\n",
            "14/14 [==============================] - 0s 9ms/step - loss: 0.5201 - accuracy: 0.7128 - val_loss: 0.9170 - val_accuracy: 0.4854\n",
            "Epoch 213/350\n",
            "14/14 [==============================] - 0s 9ms/step - loss: 0.5181 - accuracy: 0.7080 - val_loss: 0.9046 - val_accuracy: 0.4805\n",
            "Epoch 214/350\n",
            "14/14 [==============================] - 0s 9ms/step - loss: 0.5126 - accuracy: 0.7104 - val_loss: 0.9724 - val_accuracy: 0.4732\n",
            "Epoch 215/350\n",
            "14/14 [==============================] - 0s 9ms/step - loss: 0.5109 - accuracy: 0.7139 - val_loss: 0.9678 - val_accuracy: 0.4829\n",
            "Epoch 216/350\n",
            "14/14 [==============================] - 0s 9ms/step - loss: 0.5079 - accuracy: 0.7104 - val_loss: 0.9645 - val_accuracy: 0.4878\n",
            "Epoch 217/350\n",
            "14/14 [==============================] - 0s 9ms/step - loss: 0.4996 - accuracy: 0.7271 - val_loss: 0.9875 - val_accuracy: 0.4780\n",
            "Epoch 218/350\n",
            "14/14 [==============================] - 0s 9ms/step - loss: 0.5096 - accuracy: 0.7116 - val_loss: 1.0196 - val_accuracy: 0.4707\n",
            "Epoch 219/350\n",
            "14/14 [==============================] - 0s 8ms/step - loss: 0.5003 - accuracy: 0.7199 - val_loss: 1.0322 - val_accuracy: 0.4780\n",
            "Epoch 220/350\n",
            "14/14 [==============================] - 0s 9ms/step - loss: 0.4963 - accuracy: 0.7092 - val_loss: 1.0365 - val_accuracy: 0.4805\n",
            "Epoch 221/350\n",
            "14/14 [==============================] - 0s 9ms/step - loss: 0.5245 - accuracy: 0.7116 - val_loss: 1.0173 - val_accuracy: 0.4829\n",
            "Epoch 222/350\n",
            "14/14 [==============================] - 0s 9ms/step - loss: 0.5608 - accuracy: 0.6973 - val_loss: 0.9844 - val_accuracy: 0.4634\n",
            "Epoch 223/350\n",
            "14/14 [==============================] - 0s 8ms/step - loss: 0.5302 - accuracy: 0.6961 - val_loss: 0.9873 - val_accuracy: 0.4780\n",
            "Epoch 224/350\n",
            "14/14 [==============================] - 0s 9ms/step - loss: 0.5237 - accuracy: 0.7163 - val_loss: 0.9982 - val_accuracy: 0.4756\n",
            "Epoch 225/350\n",
            "14/14 [==============================] - 0s 9ms/step - loss: 0.5123 - accuracy: 0.7068 - val_loss: 1.0218 - val_accuracy: 0.4805\n",
            "Epoch 226/350\n",
            "14/14 [==============================] - 0s 10ms/step - loss: 0.5084 - accuracy: 0.7199 - val_loss: 1.0328 - val_accuracy: 0.4732\n",
            "Epoch 227/350\n",
            "14/14 [==============================] - 0s 9ms/step - loss: 0.5017 - accuracy: 0.7128 - val_loss: 1.0552 - val_accuracy: 0.4732\n",
            "Epoch 228/350\n",
            "14/14 [==============================] - 0s 9ms/step - loss: 0.5021 - accuracy: 0.7116 - val_loss: 1.0439 - val_accuracy: 0.4805\n",
            "Epoch 229/350\n",
            "14/14 [==============================] - 0s 8ms/step - loss: 0.5063 - accuracy: 0.7008 - val_loss: 1.0305 - val_accuracy: 0.4756\n",
            "Epoch 230/350\n",
            "14/14 [==============================] - 0s 9ms/step - loss: 0.4944 - accuracy: 0.7247 - val_loss: 1.0724 - val_accuracy: 0.4780\n",
            "Epoch 231/350\n",
            "14/14 [==============================] - 0s 8ms/step - loss: 0.4888 - accuracy: 0.7211 - val_loss: 1.0956 - val_accuracy: 0.4805\n",
            "Epoch 232/350\n",
            "14/14 [==============================] - 0s 9ms/step - loss: 0.5031 - accuracy: 0.7151 - val_loss: 1.0505 - val_accuracy: 0.4659\n",
            "Epoch 233/350\n",
            "14/14 [==============================] - 0s 9ms/step - loss: 0.4934 - accuracy: 0.7330 - val_loss: 1.1111 - val_accuracy: 0.4683\n",
            "Epoch 234/350\n",
            "14/14 [==============================] - 0s 9ms/step - loss: 0.4938 - accuracy: 0.7306 - val_loss: 1.1180 - val_accuracy: 0.4829\n",
            "Epoch 235/350\n",
            "14/14 [==============================] - 0s 8ms/step - loss: 0.4857 - accuracy: 0.7318 - val_loss: 1.1393 - val_accuracy: 0.4878\n",
            "Epoch 236/350\n",
            "14/14 [==============================] - 0s 9ms/step - loss: 0.5127 - accuracy: 0.7175 - val_loss: 1.0732 - val_accuracy: 0.4878\n",
            "Epoch 237/350\n",
            "14/14 [==============================] - 0s 8ms/step - loss: 0.5254 - accuracy: 0.7211 - val_loss: 1.1282 - val_accuracy: 0.4951\n",
            "Epoch 238/350\n",
            "14/14 [==============================] - 0s 9ms/step - loss: 0.5094 - accuracy: 0.7116 - val_loss: 1.0520 - val_accuracy: 0.4878\n",
            "Epoch 239/350\n",
            "14/14 [==============================] - 0s 8ms/step - loss: 0.5063 - accuracy: 0.7235 - val_loss: 1.0314 - val_accuracy: 0.4659\n",
            "Epoch 240/350\n",
            "14/14 [==============================] - 0s 9ms/step - loss: 0.4977 - accuracy: 0.7259 - val_loss: 1.0124 - val_accuracy: 0.4780\n",
            "Epoch 241/350\n",
            "14/14 [==============================] - 0s 8ms/step - loss: 0.4874 - accuracy: 0.7294 - val_loss: 1.1133 - val_accuracy: 0.4756\n",
            "Epoch 242/350\n",
            "14/14 [==============================] - 0s 8ms/step - loss: 0.4766 - accuracy: 0.7402 - val_loss: 1.1110 - val_accuracy: 0.4707\n",
            "Epoch 243/350\n",
            "14/14 [==============================] - 0s 9ms/step - loss: 0.4741 - accuracy: 0.7449 - val_loss: 1.1460 - val_accuracy: 0.4732\n",
            "Epoch 244/350\n",
            "14/14 [==============================] - 0s 9ms/step - loss: 0.4739 - accuracy: 0.7390 - val_loss: 1.1159 - val_accuracy: 0.4561\n",
            "Epoch 245/350\n",
            "14/14 [==============================] - 0s 9ms/step - loss: 0.4729 - accuracy: 0.7366 - val_loss: 1.1458 - val_accuracy: 0.4756\n",
            "Epoch 246/350\n",
            "14/14 [==============================] - 0s 8ms/step - loss: 0.4729 - accuracy: 0.7330 - val_loss: 1.1587 - val_accuracy: 0.4585\n",
            "Epoch 247/350\n",
            "14/14 [==============================] - 0s 8ms/step - loss: 0.4694 - accuracy: 0.7354 - val_loss: 1.1826 - val_accuracy: 0.4707\n",
            "Epoch 248/350\n",
            "14/14 [==============================] - 0s 8ms/step - loss: 0.4655 - accuracy: 0.7378 - val_loss: 1.2239 - val_accuracy: 0.4732\n",
            "Epoch 249/350\n",
            "14/14 [==============================] - 0s 9ms/step - loss: 0.4695 - accuracy: 0.7330 - val_loss: 1.1812 - val_accuracy: 0.4780\n",
            "Epoch 250/350\n",
            "14/14 [==============================] - 0s 8ms/step - loss: 0.4705 - accuracy: 0.7485 - val_loss: 1.2484 - val_accuracy: 0.4756\n",
            "Epoch 251/350\n",
            "14/14 [==============================] - 0s 8ms/step - loss: 0.4750 - accuracy: 0.7235 - val_loss: 1.1966 - val_accuracy: 0.4878\n",
            "Epoch 252/350\n",
            "14/14 [==============================] - 0s 8ms/step - loss: 0.4791 - accuracy: 0.7271 - val_loss: 1.1987 - val_accuracy: 0.4537\n",
            "Epoch 253/350\n",
            "14/14 [==============================] - 0s 9ms/step - loss: 0.4689 - accuracy: 0.7426 - val_loss: 1.1891 - val_accuracy: 0.4878\n",
            "Epoch 254/350\n",
            "14/14 [==============================] - 0s 9ms/step - loss: 0.4789 - accuracy: 0.7402 - val_loss: 1.1422 - val_accuracy: 0.4951\n",
            "Epoch 255/350\n",
            "14/14 [==============================] - 0s 9ms/step - loss: 0.4653 - accuracy: 0.7449 - val_loss: 1.2188 - val_accuracy: 0.4707\n",
            "Epoch 256/350\n",
            "14/14 [==============================] - 0s 9ms/step - loss: 0.4530 - accuracy: 0.7592 - val_loss: 1.2628 - val_accuracy: 0.4780\n",
            "Epoch 257/350\n",
            "14/14 [==============================] - 0s 9ms/step - loss: 0.4512 - accuracy: 0.7652 - val_loss: 1.3324 - val_accuracy: 0.4780\n",
            "Epoch 258/350\n",
            "14/14 [==============================] - 0s 8ms/step - loss: 0.4558 - accuracy: 0.7557 - val_loss: 1.2188 - val_accuracy: 0.4780\n",
            "Epoch 259/350\n",
            "14/14 [==============================] - 0s 9ms/step - loss: 0.4831 - accuracy: 0.7616 - val_loss: 1.1543 - val_accuracy: 0.4537\n",
            "Epoch 260/350\n",
            "14/14 [==============================] - 0s 9ms/step - loss: 0.4867 - accuracy: 0.7354 - val_loss: 1.0632 - val_accuracy: 0.4585\n",
            "Epoch 261/350\n",
            "14/14 [==============================] - 0s 9ms/step - loss: 0.4649 - accuracy: 0.7569 - val_loss: 1.0304 - val_accuracy: 0.4927\n",
            "Epoch 262/350\n",
            "14/14 [==============================] - 0s 10ms/step - loss: 0.4589 - accuracy: 0.7521 - val_loss: 1.0629 - val_accuracy: 0.4683\n",
            "Epoch 263/350\n",
            "14/14 [==============================] - 0s 8ms/step - loss: 0.4710 - accuracy: 0.7461 - val_loss: 1.1477 - val_accuracy: 0.4585\n",
            "Epoch 264/350\n",
            "14/14 [==============================] - 0s 9ms/step - loss: 0.4510 - accuracy: 0.7604 - val_loss: 1.2367 - val_accuracy: 0.4732\n",
            "Epoch 265/350\n",
            "14/14 [==============================] - 0s 8ms/step - loss: 0.4486 - accuracy: 0.7592 - val_loss: 1.1741 - val_accuracy: 0.4951\n",
            "Epoch 266/350\n",
            "14/14 [==============================] - 0s 8ms/step - loss: 0.4598 - accuracy: 0.7485 - val_loss: 1.1982 - val_accuracy: 0.4659\n",
            "Epoch 267/350\n",
            "14/14 [==============================] - 0s 10ms/step - loss: 0.4390 - accuracy: 0.7676 - val_loss: 1.2534 - val_accuracy: 0.4756\n",
            "Epoch 268/350\n",
            "14/14 [==============================] - 0s 8ms/step - loss: 0.4395 - accuracy: 0.7640 - val_loss: 1.2947 - val_accuracy: 0.4805\n",
            "Epoch 269/350\n",
            "14/14 [==============================] - 0s 9ms/step - loss: 0.4419 - accuracy: 0.7592 - val_loss: 1.3514 - val_accuracy: 0.4707\n",
            "Epoch 270/350\n",
            "14/14 [==============================] - 0s 8ms/step - loss: 0.4361 - accuracy: 0.7676 - val_loss: 1.3857 - val_accuracy: 0.4683\n",
            "Epoch 271/350\n",
            "14/14 [==============================] - 0s 8ms/step - loss: 0.4456 - accuracy: 0.7580 - val_loss: 1.2715 - val_accuracy: 0.4683\n",
            "Epoch 272/350\n",
            "14/14 [==============================] - 0s 8ms/step - loss: 0.4450 - accuracy: 0.7592 - val_loss: 1.3001 - val_accuracy: 0.4878\n",
            "Epoch 273/350\n",
            "14/14 [==============================] - 0s 9ms/step - loss: 0.4405 - accuracy: 0.7533 - val_loss: 1.3054 - val_accuracy: 0.4707\n",
            "Epoch 274/350\n",
            "14/14 [==============================] - 0s 8ms/step - loss: 0.4594 - accuracy: 0.7461 - val_loss: 1.2395 - val_accuracy: 0.5024\n",
            "Epoch 275/350\n",
            "14/14 [==============================] - 0s 9ms/step - loss: 0.5052 - accuracy: 0.7414 - val_loss: 1.1235 - val_accuracy: 0.5024\n",
            "Epoch 276/350\n",
            "14/14 [==============================] - 0s 8ms/step - loss: 0.5074 - accuracy: 0.7092 - val_loss: 1.0175 - val_accuracy: 0.4902\n",
            "Epoch 277/350\n",
            "14/14 [==============================] - 0s 9ms/step - loss: 0.4950 - accuracy: 0.7259 - val_loss: 1.0740 - val_accuracy: 0.4902\n",
            "Epoch 278/350\n",
            "14/14 [==============================] - 0s 9ms/step - loss: 0.4822 - accuracy: 0.7342 - val_loss: 1.0046 - val_accuracy: 0.5000\n",
            "Epoch 279/350\n",
            "14/14 [==============================] - 0s 8ms/step - loss: 0.4712 - accuracy: 0.7366 - val_loss: 1.0310 - val_accuracy: 0.4756\n",
            "Epoch 280/350\n",
            "14/14 [==============================] - 0s 9ms/step - loss: 0.4636 - accuracy: 0.7378 - val_loss: 1.0624 - val_accuracy: 0.4756\n",
            "Epoch 281/350\n",
            "14/14 [==============================] - 0s 9ms/step - loss: 0.4549 - accuracy: 0.7461 - val_loss: 1.0876 - val_accuracy: 0.4707\n",
            "Epoch 282/350\n",
            "14/14 [==============================] - 0s 8ms/step - loss: 0.4492 - accuracy: 0.7628 - val_loss: 1.0613 - val_accuracy: 0.4732\n",
            "Epoch 283/350\n",
            "14/14 [==============================] - 0s 9ms/step - loss: 0.5225 - accuracy: 0.7211 - val_loss: 1.1966 - val_accuracy: 0.4829\n",
            "Epoch 284/350\n",
            "14/14 [==============================] - 0s 9ms/step - loss: 0.5502 - accuracy: 0.7223 - val_loss: 1.1415 - val_accuracy: 0.4780\n",
            "Epoch 285/350\n",
            "14/14 [==============================] - 0s 9ms/step - loss: 0.5101 - accuracy: 0.7282 - val_loss: 1.2723 - val_accuracy: 0.4805\n",
            "Epoch 286/350\n",
            "14/14 [==============================] - 0s 9ms/step - loss: 0.4911 - accuracy: 0.7294 - val_loss: 1.2836 - val_accuracy: 0.4805\n",
            "Epoch 287/350\n",
            "14/14 [==============================] - 0s 9ms/step - loss: 0.4821 - accuracy: 0.7414 - val_loss: 1.2349 - val_accuracy: 0.4878\n",
            "Epoch 288/350\n",
            "14/14 [==============================] - 0s 8ms/step - loss: 0.4666 - accuracy: 0.7521 - val_loss: 1.2309 - val_accuracy: 0.4976\n",
            "Epoch 289/350\n",
            "14/14 [==============================] - 0s 8ms/step - loss: 0.4546 - accuracy: 0.7485 - val_loss: 1.2566 - val_accuracy: 0.4756\n",
            "Epoch 290/350\n",
            "14/14 [==============================] - 0s 9ms/step - loss: 0.4478 - accuracy: 0.7604 - val_loss: 1.2579 - val_accuracy: 0.4780\n",
            "Epoch 291/350\n",
            "14/14 [==============================] - 0s 9ms/step - loss: 0.4460 - accuracy: 0.7592 - val_loss: 1.2882 - val_accuracy: 0.4732\n",
            "Epoch 292/350\n",
            "14/14 [==============================] - 0s 9ms/step - loss: 0.4499 - accuracy: 0.7497 - val_loss: 1.3807 - val_accuracy: 0.4756\n",
            "Epoch 293/350\n",
            "14/14 [==============================] - 0s 9ms/step - loss: 0.4417 - accuracy: 0.7592 - val_loss: 1.3736 - val_accuracy: 0.4756\n",
            "Epoch 294/350\n",
            "14/14 [==============================] - 0s 8ms/step - loss: 0.4680 - accuracy: 0.7306 - val_loss: 1.4551 - val_accuracy: 0.4927\n",
            "Epoch 295/350\n",
            "14/14 [==============================] - 0s 8ms/step - loss: 0.4546 - accuracy: 0.7545 - val_loss: 1.4534 - val_accuracy: 0.4829\n",
            "Epoch 296/350\n",
            "14/14 [==============================] - 0s 8ms/step - loss: 0.4544 - accuracy: 0.7592 - val_loss: 1.3423 - val_accuracy: 0.5024\n",
            "Epoch 297/350\n",
            "14/14 [==============================] - 0s 8ms/step - loss: 0.4828 - accuracy: 0.7390 - val_loss: 1.3312 - val_accuracy: 0.4829\n",
            "Epoch 298/350\n",
            "14/14 [==============================] - 0s 9ms/step - loss: 0.4650 - accuracy: 0.7497 - val_loss: 1.2374 - val_accuracy: 0.4854\n",
            "Epoch 299/350\n",
            "14/14 [==============================] - 0s 8ms/step - loss: 0.4673 - accuracy: 0.7449 - val_loss: 1.2797 - val_accuracy: 0.4927\n",
            "Epoch 300/350\n",
            "14/14 [==============================] - 0s 8ms/step - loss: 0.4590 - accuracy: 0.7426 - val_loss: 1.2194 - val_accuracy: 0.4976\n",
            "Epoch 301/350\n",
            "14/14 [==============================] - 0s 9ms/step - loss: 0.4425 - accuracy: 0.7485 - val_loss: 1.2554 - val_accuracy: 0.4756\n",
            "Epoch 302/350\n",
            "14/14 [==============================] - 0s 8ms/step - loss: 0.4327 - accuracy: 0.7604 - val_loss: 1.2692 - val_accuracy: 0.5073\n",
            "Epoch 303/350\n",
            "14/14 [==============================] - 0s 9ms/step - loss: 0.4238 - accuracy: 0.7712 - val_loss: 1.3578 - val_accuracy: 0.4951\n",
            "Epoch 304/350\n",
            "14/14 [==============================] - 0s 9ms/step - loss: 0.4215 - accuracy: 0.7747 - val_loss: 1.2931 - val_accuracy: 0.4829\n",
            "Epoch 305/350\n",
            "14/14 [==============================] - 0s 9ms/step - loss: 0.4214 - accuracy: 0.7735 - val_loss: 1.3551 - val_accuracy: 0.5073\n",
            "Epoch 306/350\n",
            "14/14 [==============================] - 0s 8ms/step - loss: 0.4214 - accuracy: 0.7759 - val_loss: 1.3377 - val_accuracy: 0.4951\n",
            "Epoch 307/350\n",
            "14/14 [==============================] - 0s 8ms/step - loss: 0.4138 - accuracy: 0.7795 - val_loss: 1.2986 - val_accuracy: 0.4902\n",
            "Epoch 308/350\n",
            "14/14 [==============================] - 0s 9ms/step - loss: 0.4188 - accuracy: 0.7807 - val_loss: 1.4250 - val_accuracy: 0.5024\n",
            "Epoch 309/350\n",
            "14/14 [==============================] - 0s 9ms/step - loss: 0.4088 - accuracy: 0.7795 - val_loss: 1.4399 - val_accuracy: 0.4927\n",
            "Epoch 310/350\n",
            "14/14 [==============================] - 0s 8ms/step - loss: 0.4192 - accuracy: 0.7712 - val_loss: 1.3096 - val_accuracy: 0.5000\n",
            "Epoch 311/350\n",
            "14/14 [==============================] - 0s 9ms/step - loss: 0.4225 - accuracy: 0.7712 - val_loss: 1.3204 - val_accuracy: 0.4976\n",
            "Epoch 312/350\n",
            "14/14 [==============================] - 0s 9ms/step - loss: 0.4924 - accuracy: 0.7497 - val_loss: 1.1439 - val_accuracy: 0.4683\n",
            "Epoch 313/350\n",
            "14/14 [==============================] - 0s 9ms/step - loss: 0.4686 - accuracy: 0.7735 - val_loss: 1.2272 - val_accuracy: 0.4732\n",
            "Epoch 314/350\n",
            "14/14 [==============================] - 0s 9ms/step - loss: 0.4358 - accuracy: 0.7664 - val_loss: 1.0636 - val_accuracy: 0.4512\n",
            "Epoch 315/350\n",
            "14/14 [==============================] - 0s 8ms/step - loss: 0.4161 - accuracy: 0.7783 - val_loss: 1.2571 - val_accuracy: 0.4902\n",
            "Epoch 316/350\n",
            "14/14 [==============================] - 0s 9ms/step - loss: 0.4039 - accuracy: 0.7843 - val_loss: 1.2781 - val_accuracy: 0.5000\n",
            "Epoch 317/350\n",
            "14/14 [==============================] - 0s 9ms/step - loss: 0.4018 - accuracy: 0.7926 - val_loss: 1.2851 - val_accuracy: 0.4878\n",
            "Epoch 318/350\n",
            "14/14 [==============================] - 0s 8ms/step - loss: 0.3974 - accuracy: 0.7902 - val_loss: 1.3588 - val_accuracy: 0.4902\n",
            "Epoch 319/350\n",
            "14/14 [==============================] - 0s 9ms/step - loss: 0.4024 - accuracy: 0.7914 - val_loss: 1.3796 - val_accuracy: 0.5122\n",
            "Epoch 320/350\n",
            "14/14 [==============================] - 0s 9ms/step - loss: 0.3958 - accuracy: 0.8021 - val_loss: 1.3711 - val_accuracy: 0.4902\n",
            "Epoch 321/350\n",
            "14/14 [==============================] - 0s 8ms/step - loss: 0.4111 - accuracy: 0.7819 - val_loss: 1.4475 - val_accuracy: 0.4976\n",
            "Epoch 322/350\n",
            "14/14 [==============================] - 0s 9ms/step - loss: 0.4012 - accuracy: 0.7855 - val_loss: 1.5796 - val_accuracy: 0.4951\n",
            "Epoch 323/350\n",
            "14/14 [==============================] - 0s 9ms/step - loss: 0.3924 - accuracy: 0.7938 - val_loss: 1.5366 - val_accuracy: 0.4951\n",
            "Epoch 324/350\n",
            "14/14 [==============================] - 0s 8ms/step - loss: 0.4061 - accuracy: 0.7867 - val_loss: 1.5345 - val_accuracy: 0.5024\n",
            "Epoch 325/350\n",
            "14/14 [==============================] - 0s 9ms/step - loss: 0.4130 - accuracy: 0.7759 - val_loss: 1.6047 - val_accuracy: 0.4976\n",
            "Epoch 326/350\n",
            "14/14 [==============================] - 0s 8ms/step - loss: 0.3915 - accuracy: 0.7962 - val_loss: 1.6077 - val_accuracy: 0.4976\n",
            "Epoch 327/350\n",
            "14/14 [==============================] - 0s 8ms/step - loss: 0.3871 - accuracy: 0.7819 - val_loss: 1.5631 - val_accuracy: 0.4927\n",
            "Epoch 328/350\n",
            "14/14 [==============================] - 0s 9ms/step - loss: 0.3838 - accuracy: 0.8057 - val_loss: 1.5247 - val_accuracy: 0.4878\n",
            "Epoch 329/350\n",
            "14/14 [==============================] - 0s 10ms/step - loss: 0.3861 - accuracy: 0.7974 - val_loss: 1.6652 - val_accuracy: 0.5073\n",
            "Epoch 330/350\n",
            "14/14 [==============================] - 0s 8ms/step - loss: 0.3818 - accuracy: 0.7986 - val_loss: 1.6156 - val_accuracy: 0.4976\n",
            "Epoch 331/350\n",
            "14/14 [==============================] - 0s 8ms/step - loss: 0.3800 - accuracy: 0.7986 - val_loss: 1.9391 - val_accuracy: 0.4805\n",
            "Epoch 332/350\n",
            "14/14 [==============================] - 0s 8ms/step - loss: 0.4625 - accuracy: 0.7807 - val_loss: 1.2219 - val_accuracy: 0.4854\n",
            "Epoch 333/350\n",
            "14/14 [==============================] - 0s 8ms/step - loss: 0.5464 - accuracy: 0.7282 - val_loss: 1.1356 - val_accuracy: 0.5024\n",
            "Epoch 334/350\n",
            "14/14 [==============================] - 0s 8ms/step - loss: 0.5307 - accuracy: 0.7426 - val_loss: 0.9390 - val_accuracy: 0.5000\n",
            "Epoch 335/350\n",
            "14/14 [==============================] - 0s 9ms/step - loss: 0.4842 - accuracy: 0.7306 - val_loss: 0.8596 - val_accuracy: 0.4878\n",
            "Epoch 336/350\n",
            "14/14 [==============================] - 0s 9ms/step - loss: 0.4598 - accuracy: 0.7616 - val_loss: 0.9070 - val_accuracy: 0.4951\n",
            "Epoch 337/350\n",
            "14/14 [==============================] - 0s 9ms/step - loss: 0.4350 - accuracy: 0.7664 - val_loss: 0.9551 - val_accuracy: 0.4902\n",
            "Epoch 338/350\n",
            "14/14 [==============================] - 0s 8ms/step - loss: 0.4293 - accuracy: 0.7616 - val_loss: 1.0119 - val_accuracy: 0.4878\n",
            "Epoch 339/350\n",
            "14/14 [==============================] - 0s 9ms/step - loss: 0.4219 - accuracy: 0.7747 - val_loss: 1.0844 - val_accuracy: 0.4854\n",
            "Epoch 340/350\n",
            "14/14 [==============================] - 0s 10ms/step - loss: 0.4153 - accuracy: 0.7783 - val_loss: 1.1260 - val_accuracy: 0.4854\n",
            "Epoch 341/350\n",
            "14/14 [==============================] - 0s 9ms/step - loss: 0.4103 - accuracy: 0.7890 - val_loss: 1.1736 - val_accuracy: 0.4732\n",
            "Epoch 342/350\n",
            "14/14 [==============================] - 0s 8ms/step - loss: 0.4484 - accuracy: 0.7735 - val_loss: 1.1268 - val_accuracy: 0.4683\n",
            "Epoch 343/350\n",
            "14/14 [==============================] - 0s 9ms/step - loss: 0.4699 - accuracy: 0.7604 - val_loss: 1.0293 - val_accuracy: 0.4732\n",
            "Epoch 344/350\n",
            "14/14 [==============================] - 0s 8ms/step - loss: 0.4412 - accuracy: 0.7735 - val_loss: 1.0590 - val_accuracy: 0.5049\n",
            "Epoch 345/350\n",
            "14/14 [==============================] - 0s 8ms/step - loss: 0.4240 - accuracy: 0.7723 - val_loss: 1.1569 - val_accuracy: 0.4878\n",
            "Epoch 346/350\n",
            "14/14 [==============================] - 0s 9ms/step - loss: 0.4251 - accuracy: 0.7700 - val_loss: 1.1723 - val_accuracy: 0.5122\n",
            "Epoch 347/350\n",
            "14/14 [==============================] - 0s 8ms/step - loss: 0.4018 - accuracy: 0.7783 - val_loss: 1.2568 - val_accuracy: 0.4878\n",
            "Epoch 348/350\n",
            "14/14 [==============================] - 0s 9ms/step - loss: 0.3895 - accuracy: 0.7938 - val_loss: 1.2144 - val_accuracy: 0.4902\n",
            "Epoch 349/350\n",
            "14/14 [==============================] - 0s 8ms/step - loss: 0.4010 - accuracy: 0.7831 - val_loss: 1.2378 - val_accuracy: 0.5049\n",
            "Epoch 350/350\n",
            "14/14 [==============================] - 0s 8ms/step - loss: 0.3951 - accuracy: 0.8045 - val_loss: 1.2810 - val_accuracy: 0.4878\n"
          ],
          "name": "stdout"
        }
      ]
    },
    {
      "cell_type": "markdown",
      "metadata": {
        "colab_type": "text",
        "id": "5axkFwDIhI36"
      },
      "source": [
        "# Evaluate LSTM Binary Classification Model for Decrease/Increase of Return"
      ]
    },
    {
      "cell_type": "code",
      "metadata": {
        "colab_type": "code",
        "outputId": "3e58d792-ef3d-4c38-ea2b-cfae13ba1fcf",
        "id": "W7ZWWXy2hI3_",
        "colab": {
          "base_uri": "https://localhost:8080/",
          "height": 313
        }
      },
      "source": [
        "# Plot the loss\n",
        "plt.plot(r.history['loss'][1:], label='loss')\n",
        "plt.plot(r.history['val_loss'], label='val_loss')\n",
        "plt.title(\"Loss and Validation Loss vs. Epoch\")\n",
        "plt.ylabel('Loss')\n",
        "plt.xlabel('Epoch')\n",
        "plt.legend()\n",
        "# It is overfitting"
      ],
      "execution_count": 239,
      "outputs": [
        {
          "output_type": "execute_result",
          "data": {
            "text/plain": [
              "<matplotlib.legend.Legend at 0x7fed5b53dd30>"
            ]
          },
          "metadata": {
            "tags": []
          },
          "execution_count": 239
        },
        {
          "output_type": "display_data",
          "data": {
            "image/png": "[encoded data removed]",
            "text/plain": [
              "<Figure size 432x288 with 1 Axes>"
            ]
          },
          "metadata": {
            "tags": [],
            "needs_background": "light"
          }
        }
      ]
    },
    {
      "cell_type": "code",
      "metadata": {
        "id": "xH6m8Encht0q",
        "colab_type": "code",
        "colab": {
          "base_uri": "https://localhost:8080/",
          "height": 313
        },
        "outputId": "b2c36f02-9790-4a96-ec3f-bd5db6146a51"
      },
      "source": [
        "# Plot the accuracy\n",
        "plt.plot(r.history['accuracy'][1:], label='accuracy')\n",
        "plt.plot(r.history['val_accuracy'], label='val_accuracy')\n",
        "plt.title(\"Loss and Validation Accuracy vs. Epoch\")\n",
        "plt.ylabel('Loss')\n",
        "plt.xlabel('Epoch')\n",
        "plt.legend()\n",
        "# Accuracy is close to 50% which is no better than random guessing, yet accuracy is increasing.\n",
        "# Therefore, the model is increasingly confident in its wrong predictions"
      ],
      "execution_count": 241,
      "outputs": [
        {
          "output_type": "execute_result",
          "data": {
            "text/plain": [
              "<matplotlib.legend.Legend at 0x7fed5b584cf8>"
            ]
          },
          "metadata": {
            "tags": []
          },
          "execution_count": 241
        },
        {
          "output_type": "display_data",
          "data": {
            "image/png": "[encoded data removed]",
            "text/plain": [
              "<Figure size 432x288 with 1 Axes>"
            ]
          },
          "metadata": {
            "tags": [],
            "needs_background": "light"
          }
        }
      ]
    },
    {
      "cell_type": "code",
      "metadata": {
        "id": "hzpwWzlhjzyw",
        "colab_type": "code",
        "colab": {}
      },
      "source": [
        ""
      ],
      "execution_count": 0,
      "outputs": []
    }
  ]
}