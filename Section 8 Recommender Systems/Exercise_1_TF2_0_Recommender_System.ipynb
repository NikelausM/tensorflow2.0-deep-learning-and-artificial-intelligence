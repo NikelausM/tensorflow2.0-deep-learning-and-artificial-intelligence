{
  "nbformat": 4,
  "nbformat_minor": 0,
  "metadata": {
    "colab": {
      "name": "Exercise_1_TF2.0_Recommender_System.ipynb",
      "provenance": [],
      "collapsed_sections": []
    },
    "kernelspec": {
      "name": "python3",
      "display_name": "Python 3"
    },
    "accelerator": "GPU"
  },
  "cells": [
    {
      "cell_type": "code",
      "metadata": {
        "id": "LR4nmbz6ViCe",
        "colab_type": "code",
        "colab": {
          "base_uri": "https://localhost:8080/",
          "height": 129
        },
        "outputId": "39eb9fee-44d0-4b5a-9b75-fe80fe6f5392"
      },
      "source": [
        "# Install TensorFlow\n",
        "# !pip install -q tensorflow\n",
        "\n",
        "try:\n",
        "  %tensorflow_version 2.x  # Colab only.\n",
        "except Exception:\n",
        "  pass\n",
        "\n",
        "import tensorflow as tf\n",
        "print(tf.__version__)"
      ],
      "execution_count": 1,
      "outputs": [
        {
          "output_type": "stream",
          "text": [
            "`%tensorflow_version` only switches the major version: 1.x or 2.x.\n",
            "You set: `2.x  # Colab only.`. This will be interpreted as: `2.x`.\n",
            "\n",
            "\n",
            "TensorFlow 2.x selected.\n",
            "2.2.0\n"
          ],
          "name": "stdout"
        }
      ]
    },
    {
      "cell_type": "code",
      "metadata": {
        "id": "cuhaqtS_Vvd2",
        "colab_type": "code",
        "colab": {}
      },
      "source": [
        "# More imports\n",
        "from tensorflow.keras.layers import Input, Dense, Embedding, Flatten, \\\n",
        "  Concatenate\n",
        "from tensorflow.keras.models import Model\n",
        "from tensorflow.keras.optimizers import SGD, Adam\n",
        "\n",
        "from sklearn.utils import shuffle\n",
        "from sklearn.model_selection import train_test_split\n",
        "from sklearn.preprocessing import StandardScaler\n",
        "\n",
        "import numpy as np\n",
        "import pandas as pd\n",
        "import matplotlib.pyplot as plt"
      ],
      "execution_count": 0,
      "outputs": []
    },
    {
      "cell_type": "markdown",
      "metadata": {
        "id": "er7ufZ56V2IX",
        "colab_type": "text"
      },
      "source": [
        "# Load Data"
      ]
    },
    {
      "cell_type": "code",
      "metadata": {
        "id": "Y5cYLZC2VwqF",
        "colab_type": "code",
        "colab": {
          "base_uri": "https://localhost:8080/",
          "height": 54
        },
        "outputId": "d5146fa2-f498-4c4e-b748-7190cc705340"
      },
      "source": [
        "# data is from: https://grouplens.org/datasets/movielens/\n",
        "# in case the link changes in the future\n",
        "\n",
        "!wget -nc http://files.grouplens.org/datasets/movielens/ml-20m.zip"
      ],
      "execution_count": 3,
      "outputs": [
        {
          "output_type": "stream",
          "text": [
            "File ‘ml-20m.zip’ already there; not retrieving.\n",
            "\n"
          ],
          "name": "stdout"
        }
      ]
    },
    {
      "cell_type": "code",
      "metadata": {
        "id": "_-CHcWsKVzdE",
        "colab_type": "code",
        "colab": {
          "base_uri": "https://localhost:8080/",
          "height": 36
        },
        "outputId": "a854772c-1d25-4f30-ec88-6e3b10940ab5"
      },
      "source": [
        "!unzip -n ml-20m.zip"
      ],
      "execution_count": 4,
      "outputs": [
        {
          "output_type": "stream",
          "text": [
            "Archive:  ml-20m.zip\n"
          ],
          "name": "stdout"
        }
      ]
    },
    {
      "cell_type": "code",
      "metadata": {
        "id": "lwib-H6bV1Bs",
        "colab_type": "code",
        "colab": {}
      },
      "source": [
        "df = pd.read_csv('ml-20m/ratings.csv')"
      ],
      "execution_count": 0,
      "outputs": []
    },
    {
      "cell_type": "code",
      "metadata": {
        "id": "BQy4rM19V6eV",
        "colab_type": "code",
        "colab": {
          "base_uri": "https://localhost:8080/",
          "height": 206
        },
        "outputId": "36f16874-c79c-4bf8-f56c-0b6d65474e8d"
      },
      "source": [
        "df.head()"
      ],
      "execution_count": 6,
      "outputs": [
        {
          "output_type": "execute_result",
          "data": {
            "text/html": [
              "<div>\n",
              "<style scoped>\n",
              "    .dataframe tbody tr th:only-of-type {\n",
              "        vertical-align: middle;\n",
              "    }\n",
              "\n",
              "    .dataframe tbody tr th {\n",
              "        vertical-align: top;\n",
              "    }\n",
              "\n",
              "    .dataframe thead th {\n",
              "        text-align: right;\n",
              "    }\n",
              "</style>\n",
              "<table border=\"1\" class=\"dataframe\">\n",
              "  <thead>\n",
              "    <tr style=\"text-align: right;\">\n",
              "      <th></th>\n",
              "      <th>userId</th>\n",
              "      <th>movieId</th>\n",
              "      <th>rating</th>\n",
              "      <th>timestamp</th>\n",
              "    </tr>\n",
              "  </thead>\n",
              "  <tbody>\n",
              "    <tr>\n",
              "      <th>0</th>\n",
              "      <td>1</td>\n",
              "      <td>2</td>\n",
              "      <td>3.5</td>\n",
              "      <td>1112486027</td>\n",
              "    </tr>\n",
              "    <tr>\n",
              "      <th>1</th>\n",
              "      <td>1</td>\n",
              "      <td>29</td>\n",
              "      <td>3.5</td>\n",
              "      <td>1112484676</td>\n",
              "    </tr>\n",
              "    <tr>\n",
              "      <th>2</th>\n",
              "      <td>1</td>\n",
              "      <td>32</td>\n",
              "      <td>3.5</td>\n",
              "      <td>1112484819</td>\n",
              "    </tr>\n",
              "    <tr>\n",
              "      <th>3</th>\n",
              "      <td>1</td>\n",
              "      <td>47</td>\n",
              "      <td>3.5</td>\n",
              "      <td>1112484727</td>\n",
              "    </tr>\n",
              "    <tr>\n",
              "      <th>4</th>\n",
              "      <td>1</td>\n",
              "      <td>50</td>\n",
              "      <td>3.5</td>\n",
              "      <td>1112484580</td>\n",
              "    </tr>\n",
              "  </tbody>\n",
              "</table>\n",
              "</div>"
            ],
            "text/plain": [
              "   userId  movieId  rating   timestamp\n",
              "0       1        2     3.5  1112486027\n",
              "1       1       29     3.5  1112484676\n",
              "2       1       32     3.5  1112484819\n",
              "3       1       47     3.5  1112484727\n",
              "4       1       50     3.5  1112484580"
            ]
          },
          "metadata": {
            "tags": []
          },
          "execution_count": 6
        }
      ]
    },
    {
      "cell_type": "code",
      "metadata": {
        "id": "bspYcMjjW3-H",
        "colab_type": "code",
        "colab": {
          "base_uri": "https://localhost:8080/",
          "height": 242
        },
        "outputId": "7d2da98f-cd03-44bc-da2c-e795083ac9f4"
      },
      "source": [
        "df.userId"
      ],
      "execution_count": 7,
      "outputs": [
        {
          "output_type": "execute_result",
          "data": {
            "text/plain": [
              "0                1\n",
              "1                1\n",
              "2                1\n",
              "3                1\n",
              "4                1\n",
              "             ...  \n",
              "20000258    138493\n",
              "20000259    138493\n",
              "20000260    138493\n",
              "20000261    138493\n",
              "20000262    138493\n",
              "Name: userId, Length: 20000263, dtype: int64"
            ]
          },
          "metadata": {
            "tags": []
          },
          "execution_count": 7
        }
      ]
    },
    {
      "cell_type": "markdown",
      "metadata": {
        "id": "AGjy6R7TXUDu",
        "colab_type": "text"
      },
      "source": [
        "# Data Preprocessing"
      ]
    },
    {
      "cell_type": "code",
      "metadata": {
        "id": "wGSW7zx6V7Tu",
        "colab_type": "code",
        "colab": {}
      },
      "source": [
        "# Create user ids from 0 to len(users)\n",
        "df.userId = pd.Categorical(df.userId) # Cast userId column into categorical - assigns integer encodings from 0 to each userId\n",
        "df['new_user_id'] = df.userId.cat.codes # Assign these codes to a new column"
      ],
      "execution_count": 0,
      "outputs": []
    },
    {
      "cell_type": "code",
      "metadata": {
        "id": "zVZttbDGXBR-",
        "colab_type": "code",
        "colab": {}
      },
      "source": [
        "# Create movie ids from 0 to len(movies)\n",
        "df.movieId = pd.Categorical(df.movieId)\n",
        "df['new_movie_id'] = df.movieId.cat.codes"
      ],
      "execution_count": 0,
      "outputs": []
    },
    {
      "cell_type": "code",
      "metadata": {
        "id": "bkbSq94vXmHL",
        "colab_type": "code",
        "colab": {}
      },
      "source": [
        "# Extract ids and ratings as arrays\n",
        "user_ids = df['new_user_id'].values\n",
        "movie_ids = df['new_movie_id'].values\n",
        "ratings = df['rating'].values"
      ],
      "execution_count": 0,
      "outputs": []
    },
    {
      "cell_type": "code",
      "metadata": {
        "id": "D7aAbZK5bKHE",
        "colab_type": "code",
        "colab": {}
      },
      "source": [
        "# Number of users and movies\n",
        "N = len(set(user_ids))\n",
        "M = len(set(movie_ids))\n",
        "\n",
        "# Embedding dimension\n",
        "K = 12"
      ],
      "execution_count": 0,
      "outputs": []
    },
    {
      "cell_type": "markdown",
      "metadata": {
        "id": "oAPCHX30e2C2",
        "colab_type": "text"
      },
      "source": [
        "# Train Test Split"
      ]
    },
    {
      "cell_type": "code",
      "metadata": {
        "id": "7Z1f2sKwg3Au",
        "colab_type": "code",
        "colab": {}
      },
      "source": [
        "#print(df.columns)\n",
        "X = np.array([user_ids, movie_ids]).T # Reshape data to be N x 2\n",
        "y = ratings"
      ],
      "execution_count": 0,
      "outputs": []
    },
    {
      "cell_type": "code",
      "metadata": {
        "id": "lRGfWk2EkhOV",
        "colab_type": "code",
        "colab": {}
      },
      "source": [
        "X_train, X_test, y_train, y_test = train_test_split(X, y, test_size=0.20, random_state=42) "
      ],
      "execution_count": 0,
      "outputs": []
    },
    {
      "cell_type": "markdown",
      "metadata": {
        "id": "FbxOD7Mqil7-",
        "colab_type": "text"
      },
      "source": [
        "## Normalize"
      ]
    },
    {
      "cell_type": "code",
      "metadata": {
        "id": "eoCMbxbpirDP",
        "colab_type": "code",
        "colab": {}
      },
      "source": [
        "scaler = StandardScaler(with_std=False)\n",
        "y_train_scaled = scaler.fit_transform(y_train.reshape(-1,1)) # Scaler needs N x 1 numpy array\n",
        "y_test_scaled = scaler.transform(y_test.reshape(-1,1)) # Scaler needs N x 1 numpy array"
      ],
      "execution_count": 0,
      "outputs": []
    },
    {
      "cell_type": "markdown",
      "metadata": {
        "id": "N2IjTsI59_zU",
        "colab_type": "text"
      },
      "source": [
        "## Reshape Data"
      ]
    },
    {
      "cell_type": "code",
      "metadata": {
        "id": "ixIp79oB-BcG",
        "colab_type": "code",
        "colab": {
          "base_uri": "https://localhost:8080/",
          "height": 54
        },
        "outputId": "080f098b-e0f5-4385-f53d-3ef9e59cc6df"
      },
      "source": [
        "# Reshape the data because we are passing in 2 different inputs\n",
        "#X_train_reshaped = list([X_train_user, X_train_movie])\n",
        "X_train_reshaped = list(X_train.T)\n",
        "print(X_train_reshaped)\n",
        "# X_test_reshaped = list([X_test_user, X_test_movie])\n",
        "X_test_reshaped = list(X_test.T)\n",
        "print(X_test_reshaped)"
      ],
      "execution_count": 15,
      "outputs": [
        {
          "output_type": "stream",
          "text": [
            "[array([ 50068,  97442,   3742, ...,  15190,  92010, 111372], dtype=int32), array([ 315, 1062,  765, ..., 2631, 1248, 2555], dtype=int32)]\n",
            "[array([122269,  49017,  89526, ...,  14150,  81452,  54738], dtype=int32), array([ 7761,    31, 22764, ...,    40,  2585,    16], dtype=int32)]\n"
          ],
          "name": "stdout"
        }
      ]
    },
    {
      "cell_type": "markdown",
      "metadata": {
        "id": "zO6KR3p2bc21",
        "colab_type": "text"
      },
      "source": [
        "# Build Model"
      ]
    },
    {
      "cell_type": "code",
      "metadata": {
        "id": "0UfhfDmQb21I",
        "colab_type": "code",
        "colab": {}
      },
      "source": [
        "u = Input(shape=(1,))\n",
        "\n",
        "m = Input(shape=(1,))\n",
        "\n",
        "u_emb = Embedding(N, K)(u) # Output Dimensions = num_samples x T x K = num_samples x 1 x K\n",
        "\n",
        "m_emb = Embedding(M, K)(m) # Output Dimensions = num_samples x T x K = num_samples x 1\n",
        "\n",
        "u_emb = Flatten()(u_emb) # Output Dimensions = num_samples x K\n",
        "\n",
        "m_emb = Flatten()(m_emb) # Output Dimensions = num_samples x K\n",
        "\n",
        "x = Concatenate()([u_emb, m_emb]) # Output Dimensions = num_samples x 2K\n",
        "\n",
        "x = Dense(512, activation='relu')(x)\n",
        "x = Dense(512, activation='relu')(x)\n",
        "x = Dense(1)(x)\n",
        "\n",
        "model = Model(inputs = [u, m], outputs=x)\n",
        "\n",
        "model.compile(optimizer=SGD(lr=0.1, momentum=0.9),\n",
        "              loss = 'mse',\n",
        "              metrics=['accuracy']\n",
        "              )"
      ],
      "execution_count": 0,
      "outputs": []
    },
    {
      "cell_type": "code",
      "metadata": {
        "id": "atsi1LcGoAhP",
        "colab_type": "code",
        "colab": {
          "base_uri": "https://localhost:8080/",
          "height": 579
        },
        "outputId": "1de86dbf-f929-4aa7-a186-7dbde869f935"
      },
      "source": [
        "print(model.summary())"
      ],
      "execution_count": 17,
      "outputs": [
        {
          "output_type": "stream",
          "text": [
            "Model: \"model\"\n",
            "__________________________________________________________________________________________________\n",
            "Layer (type)                    Output Shape         Param #     Connected to                     \n",
            "==================================================================================================\n",
            "input_1 (InputLayer)            [(None, 1)]          0                                            \n",
            "__________________________________________________________________________________________________\n",
            "input_2 (InputLayer)            [(None, 1)]          0                                            \n",
            "__________________________________________________________________________________________________\n",
            "embedding (Embedding)           (None, 1, 12)        1661916     input_1[0][0]                    \n",
            "__________________________________________________________________________________________________\n",
            "embedding_1 (Embedding)         (None, 1, 12)        320928      input_2[0][0]                    \n",
            "__________________________________________________________________________________________________\n",
            "flatten (Flatten)               (None, 12)           0           embedding[0][0]                  \n",
            "__________________________________________________________________________________________________\n",
            "flatten_1 (Flatten)             (None, 12)           0           embedding_1[0][0]                \n",
            "__________________________________________________________________________________________________\n",
            "concatenate (Concatenate)       (None, 24)           0           flatten[0][0]                    \n",
            "                                                                 flatten_1[0][0]                  \n",
            "__________________________________________________________________________________________________\n",
            "dense (Dense)                   (None, 512)          12800       concatenate[0][0]                \n",
            "__________________________________________________________________________________________________\n",
            "dense_1 (Dense)                 (None, 512)          262656      dense[0][0]                      \n",
            "__________________________________________________________________________________________________\n",
            "dense_2 (Dense)                 (None, 1)            513         dense_1[0][0]                    \n",
            "==================================================================================================\n",
            "Total params: 2,258,813\n",
            "Trainable params: 2,258,813\n",
            "Non-trainable params: 0\n",
            "__________________________________________________________________________________________________\n",
            "None\n"
          ],
          "name": "stdout"
        }
      ]
    },
    {
      "cell_type": "code",
      "metadata": {
        "id": "b5XYY6sqmlP_",
        "colab_type": "code",
        "colab": {
          "base_uri": "https://localhost:8080/",
          "height": 954
        },
        "outputId": "cf3b8532-e01a-4822-b099-8320b489020a"
      },
      "source": [
        "r = model.fit(x=X_train_reshaped, y=y_train_scaled,\n",
        "              validation_data = (X_test_reshaped, y_test_scaled),\n",
        "              epochs = 25,\n",
        "              batch_size = 1024,\n",
        "              verbose = 2)"
      ],
      "execution_count": 18,
      "outputs": [
        {
          "output_type": "stream",
          "text": [
            "Epoch 1/25\n",
            "15626/15626 - 83s - loss: 0.7736 - accuracy: 0.0000e+00 - val_loss: 0.7170 - val_accuracy: 0.0000e+00\n",
            "Epoch 2/25\n",
            "15626/15626 - 82s - loss: 0.6995 - accuracy: 0.0000e+00 - val_loss: 0.6968 - val_accuracy: 0.0000e+00\n",
            "Epoch 3/25\n",
            "15626/15626 - 81s - loss: 0.6760 - accuracy: 0.0000e+00 - val_loss: 0.6842 - val_accuracy: 0.0000e+00\n",
            "Epoch 4/25\n",
            "15626/15626 - 80s - loss: 0.6597 - accuracy: 0.0000e+00 - val_loss: 0.6815 - val_accuracy: 0.0000e+00\n",
            "Epoch 5/25\n",
            "15626/15626 - 80s - loss: 0.6457 - accuracy: 0.0000e+00 - val_loss: 0.6630 - val_accuracy: 0.0000e+00\n",
            "Epoch 6/25\n",
            "15626/15626 - 80s - loss: 0.6299 - accuracy: 0.0000e+00 - val_loss: 0.6525 - val_accuracy: 0.0000e+00\n",
            "Epoch 7/25\n",
            "15626/15626 - 80s - loss: 0.6134 - accuracy: 0.0000e+00 - val_loss: 0.6437 - val_accuracy: 0.0000e+00\n",
            "Epoch 8/25\n",
            "15626/15626 - 80s - loss: 0.6005 - accuracy: 0.0000e+00 - val_loss: 0.6406 - val_accuracy: 0.0000e+00\n",
            "Epoch 9/25\n",
            "15626/15626 - 80s - loss: 0.5893 - accuracy: 0.0000e+00 - val_loss: 0.6366 - val_accuracy: 0.0000e+00\n",
            "Epoch 10/25\n",
            "15626/15626 - 80s - loss: 0.5785 - accuracy: 0.0000e+00 - val_loss: 0.6343 - val_accuracy: 0.0000e+00\n",
            "Epoch 11/25\n",
            "15626/15626 - 80s - loss: 0.5682 - accuracy: 0.0000e+00 - val_loss: 0.6303 - val_accuracy: 0.0000e+00\n",
            "Epoch 12/25\n",
            "15626/15626 - 80s - loss: 0.5593 - accuracy: 0.0000e+00 - val_loss: 0.6306 - val_accuracy: 0.0000e+00\n",
            "Epoch 13/25\n",
            "15626/15626 - 79s - loss: 0.5514 - accuracy: 0.0000e+00 - val_loss: 0.6345 - val_accuracy: 0.0000e+00\n",
            "Epoch 14/25\n",
            "15626/15626 - 80s - loss: 0.5443 - accuracy: 0.0000e+00 - val_loss: 0.6310 - val_accuracy: 0.0000e+00\n",
            "Epoch 15/25\n",
            "15626/15626 - 79s - loss: 0.5378 - accuracy: 0.0000e+00 - val_loss: 0.6314 - val_accuracy: 0.0000e+00\n",
            "Epoch 16/25\n",
            "15626/15626 - 79s - loss: 0.5321 - accuracy: 0.0000e+00 - val_loss: 0.6316 - val_accuracy: 0.0000e+00\n",
            "Epoch 17/25\n",
            "15626/15626 - 79s - loss: 0.5274 - accuracy: 0.0000e+00 - val_loss: 0.6462 - val_accuracy: 0.0000e+00\n",
            "Epoch 18/25\n",
            "15626/15626 - 78s - loss: 0.5231 - accuracy: 0.0000e+00 - val_loss: 0.6363 - val_accuracy: 0.0000e+00\n",
            "Epoch 19/25\n",
            "15626/15626 - 79s - loss: 0.5195 - accuracy: 0.0000e+00 - val_loss: 0.6368 - val_accuracy: 0.0000e+00\n",
            "Epoch 20/25\n",
            "15626/15626 - 79s - loss: 0.5161 - accuracy: 0.0000e+00 - val_loss: 0.6392 - val_accuracy: 0.0000e+00\n",
            "Epoch 21/25\n",
            "15626/15626 - 78s - loss: 0.5129 - accuracy: 0.0000e+00 - val_loss: 0.6366 - val_accuracy: 0.0000e+00\n",
            "Epoch 22/25\n",
            "15626/15626 - 78s - loss: 0.5101 - accuracy: 0.0000e+00 - val_loss: 0.6442 - val_accuracy: 0.0000e+00\n",
            "Epoch 23/25\n",
            "15626/15626 - 78s - loss: 0.5076 - accuracy: 0.0000e+00 - val_loss: 0.6424 - val_accuracy: 0.0000e+00\n",
            "Epoch 24/25\n",
            "15626/15626 - 78s - loss: 0.5050 - accuracy: 0.0000e+00 - val_loss: 0.6420 - val_accuracy: 0.0000e+00\n",
            "Epoch 25/25\n",
            "15626/15626 - 78s - loss: 0.5028 - accuracy: 0.0000e+00 - val_loss: 0.6464 - val_accuracy: 0.0000e+00\n"
          ],
          "name": "stdout"
        }
      ]
    },
    {
      "cell_type": "code",
      "metadata": {
        "id": "5I620xSin9Nj",
        "colab_type": "code",
        "colab": {
          "base_uri": "https://localhost:8080/",
          "height": 314
        },
        "outputId": "d90bad57-7c08-40c1-9690-e605e1770e2b"
      },
      "source": [
        "# Plot the loss\n",
        "plt.plot(r.history['loss'], label='loss')\n",
        "plt.plot(r.history['val_loss'], label='val_loss')\n",
        "plt.title(\"Loss and Validation Loss vs. Epoch\")\n",
        "plt.ylabel('Loss')\n",
        "plt.xlabel('Epoch')\n",
        "plt.legend()"
      ],
      "execution_count": 19,
      "outputs": [
        {
          "output_type": "execute_result",
          "data": {
            "text/plain": [
              "<matplotlib.legend.Legend at 0x7f8647c1a208>"
            ]
          },
          "metadata": {
            "tags": []
          },
          "execution_count": 19
        },
        {
          "output_type": "display_data",
          "data": {
            "image/png": "[encoded data removed]",
            "text/plain": [
              "<Figure size 432x288 with 1 Axes>"
            ]
          },
          "metadata": {
            "tags": [],
            "needs_background": "light"
          }
        }
      ]
    },
    {
      "cell_type": "code",
      "metadata": {
        "id": "a5B5qbu2ICRI",
        "colab_type": "code",
        "colab": {
          "base_uri": "https://localhost:8080/",
          "height": 36
        },
        "outputId": "d9e15888-280f-4b7b-b0ce-cf80efb69b6b"
      },
      "source": [
        "# is this on par with other approaches?\n",
        "# https://datascience.stackexchange.com/questions/29740/benchmark-result-for-movielens-dataset\n",
        "np.sqrt(0.6259)"
      ],
      "execution_count": 20,
      "outputs": [
        {
          "output_type": "execute_result",
          "data": {
            "text/plain": [
              "0.7911384202527394"
            ]
          },
          "metadata": {
            "tags": []
          },
          "execution_count": 20
        }
      ]
    }
  ]
}