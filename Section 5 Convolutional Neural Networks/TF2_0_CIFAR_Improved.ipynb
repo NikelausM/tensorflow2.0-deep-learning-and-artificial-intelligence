{
  "nbformat": 4,
  "nbformat_minor": 0,
  "metadata": {
    "colab": {
      "name": "TF2.0 CIFAR Improved.ipynb",
      "provenance": [],
      "collapsed_sections": []
    },
    "kernelspec": {
      "name": "python3",
      "display_name": "Python 3"
    },
    "accelerator": "GPU"
  },
  "cells": [
    {
      "cell_type": "code",
      "metadata": {
        "id": "7G_hIn592S8X",
        "colab_type": "code",
        "outputId": "11e27ee0-dae9-4050-8e06-99cb6b9f3379",
        "colab": {
          "base_uri": "https://localhost:8080/",
          "height": 148
        }
      },
      "source": [
        "# Install TensorFlow\n",
        "#!pip install tensorflow\n",
        "\n",
        "try:\n",
        "  %tensorflow_version 2.x  # Colab only.\n",
        "except Exception:\n",
        "  pass\n",
        "\n",
        "import tensorflow as tf\n",
        "print(tf.__version__)\n",
        "\n"
      ],
      "execution_count": 5,
      "outputs": [
        {
          "output_type": "stream",
          "text": [
            "`%tensorflow_version` only switches the major version: 1.x or 2.x.\n",
            "You set: `2.x  # Colab only.`. This will be interpreted as: `2.x`.\n",
            "\n",
            "\n",
            "TensorFlow is already loaded. Please restart the runtime to change versions.\n",
            "2.2.0\n"
          ],
          "name": "stdout"
        }
      ]
    },
    {
      "cell_type": "code",
      "metadata": {
        "id": "j3tjj7pq2a_1",
        "colab_type": "code",
        "colab": {}
      },
      "source": [
        "# additional imports\n",
        "\n",
        "import os\n",
        "import numpy as np\n",
        "import matplotlib.pyplot as plt\n",
        "\n",
        "import tensorflow_datasets as tfds\n",
        "from tensorflow.keras.layers import Input, Conv2D, Dense, Flatten, BatchNormalization, MaxPooling2D, Dropout, GlobalMaxPooling2D\n",
        "from tensorflow.keras.models import Model\n",
        "from tensorflow.keras.callbacks import EarlyStopping\n"
      ],
      "execution_count": 0,
      "outputs": []
    },
    {
      "cell_type": "markdown",
      "metadata": {
        "id": "8NxxCzsv3KMg",
        "colab_type": "text"
      },
      "source": [
        "# Load Data"
      ]
    },
    {
      "cell_type": "code",
      "metadata": {
        "id": "nuZXlRxcsrU0",
        "colab_type": "code",
        "colab": {}
      },
      "source": [
        "# Load in the data\n",
        "cifar10 = tf.keras.datasets.cifar10"
      ],
      "execution_count": 0,
      "outputs": []
    },
    {
      "cell_type": "code",
      "metadata": {
        "id": "IQovB_eilt-u",
        "colab_type": "code",
        "outputId": "963b0f9b-3311-4cec-b9c1-aa8cd0768611",
        "colab": {
          "base_uri": "https://localhost:8080/",
          "height": 74
        }
      },
      "source": [
        "(x_train, y_train), (x_test, y_test) = cifar10.load_data()"
      ],
      "execution_count": 8,
      "outputs": [
        {
          "output_type": "stream",
          "text": [
            "Downloading data from https://www.cs.toronto.edu/~kriz/cifar-10-python.tar.gz\n",
            "170500096/170498071 [==============================] - 6s 0us/step\n"
          ],
          "name": "stdout"
        }
      ]
    },
    {
      "cell_type": "markdown",
      "metadata": {
        "id": "rawrbvgr3Ax6",
        "colab_type": "text"
      },
      "source": [
        "# Data Preprocessing"
      ]
    },
    {
      "cell_type": "code",
      "metadata": {
        "id": "VkbZWMOT3R0h",
        "colab_type": "code",
        "colab": {}
      },
      "source": [
        "# Normalize data\n",
        "x_train, x_test = x_train / 255, x_test / 255"
      ],
      "execution_count": 0,
      "outputs": []
    },
    {
      "cell_type": "code",
      "metadata": {
        "id": "wW7mIf9Sjojn",
        "colab_type": "code",
        "colab": {}
      },
      "source": [
        "# Reshape targets to be vectors\n",
        "y_train = y_train.flatten()\n",
        "y_test = y_test.flatten()\n",
        "\n",
        "# Get number of classes\n",
        "K = len(set(y_train))"
      ],
      "execution_count": 0,
      "outputs": []
    },
    {
      "cell_type": "markdown",
      "metadata": {
        "id": "FJWuT2fT4LIR",
        "colab_type": "text"
      },
      "source": [
        "# Build Model"
      ]
    },
    {
      "cell_type": "code",
      "metadata": {
        "id": "T2kTNiAD4L5E",
        "colab_type": "code",
        "colab": {}
      },
      "source": [
        "i = Input(shape=(32, 32, 3))\n",
        "x = Conv2D(32, (3, 3), activation='relu', padding='same')(i) # padding='same' keeps output image size the same\n",
        "x = BatchNormalization()(x)\n",
        "x = Conv2D(32, (3, 3), activation='relu', padding='same')(x)\n",
        "x = BatchNormalization()(x)\n",
        "x = MaxPooling2D((2, 2))(x) # halve image size\n",
        "x = Conv2D(64, (3, 3), activation='relu', padding='same')(x)\n",
        "x = BatchNormalization()(x)\n",
        "x = Conv2D(64, (3, 3), activation='relu', padding='same')(x)\n",
        "x = BatchNormalization()(x)\n",
        "x = MaxPooling2D((2, 2))(x) # halve image size\n",
        "x = Conv2D(128, (3, 3), activation='relu', padding='same')(x)\n",
        "x = BatchNormalization()(x)\n",
        "x = Conv2D(128, (3, 3), activation='relu', padding='same')(x)\n",
        "x = BatchNormalization()(x)\n",
        "x = MaxPooling2D((2, 2))(x) # halve image size\n",
        "\n",
        "x = Flatten()(x)\n",
        "x = Dropout(0.2)(x)\n",
        "x = Dense(1024, activation='relu')(x)\n",
        "x = Dropout(0.2)(x)\n",
        "x = Dense(10, activation='softmax')(x)\n",
        "\n",
        "model = Model(i, x)\n",
        "\n",
        "model.compile(optimizer='adam',\n",
        "              loss='sparse_categorical_crossentropy',\n",
        "              metrics=['accuracy'])\n",
        "\n",
        "# Early stopping\n",
        "#early_stop = EarlyStopping(monitor=\"val_loss\", mode=\"min\", verbose=1, patience=5)"
      ],
      "execution_count": 0,
      "outputs": []
    },
    {
      "cell_type": "code",
      "metadata": {
        "id": "0eBcV5eOUD0L",
        "colab_type": "code",
        "colab": {
          "base_uri": "https://localhost:8080/",
          "height": 959
        },
        "outputId": "6fd69383-77ec-4d66-9057-c0463efd2516"
      },
      "source": [
        "# Data augmentation\n",
        "batch_size = 64\n",
        "data_generator = tf.keras.preprocessing.image.ImageDataGenerator(width_shift_range=0.1, height_shift_range=0.1, horizontal_flip=True)\n",
        "train_generator = data_generator.flow(x_train, y_train, batch_size)\n",
        "steps_per_epoch = x_train.shape[0] // batch_size\n",
        "print(model.summary())"
      ],
      "execution_count": 12,
      "outputs": [
        {
          "output_type": "stream",
          "text": [
            "Model: \"model\"\n",
            "_________________________________________________________________\n",
            "Layer (type)                 Output Shape              Param #   \n",
            "=================================================================\n",
            "input_1 (InputLayer)         [(None, 32, 32, 3)]       0         \n",
            "_________________________________________________________________\n",
            "conv2d (Conv2D)              (None, 32, 32, 32)        896       \n",
            "_________________________________________________________________\n",
            "batch_normalization (BatchNo (None, 32, 32, 32)        128       \n",
            "_________________________________________________________________\n",
            "conv2d_1 (Conv2D)            (None, 32, 32, 32)        9248      \n",
            "_________________________________________________________________\n",
            "batch_normalization_1 (Batch (None, 32, 32, 32)        128       \n",
            "_________________________________________________________________\n",
            "max_pooling2d (MaxPooling2D) (None, 16, 16, 32)        0         \n",
            "_________________________________________________________________\n",
            "conv2d_2 (Conv2D)            (None, 16, 16, 64)        18496     \n",
            "_________________________________________________________________\n",
            "batch_normalization_2 (Batch (None, 16, 16, 64)        256       \n",
            "_________________________________________________________________\n",
            "conv2d_3 (Conv2D)            (None, 16, 16, 64)        36928     \n",
            "_________________________________________________________________\n",
            "batch_normalization_3 (Batch (None, 16, 16, 64)        256       \n",
            "_________________________________________________________________\n",
            "max_pooling2d_1 (MaxPooling2 (None, 8, 8, 64)          0         \n",
            "_________________________________________________________________\n",
            "conv2d_4 (Conv2D)            (None, 8, 8, 128)         73856     \n",
            "_________________________________________________________________\n",
            "batch_normalization_4 (Batch (None, 8, 8, 128)         512       \n",
            "_________________________________________________________________\n",
            "conv2d_5 (Conv2D)            (None, 8, 8, 128)         147584    \n",
            "_________________________________________________________________\n",
            "batch_normalization_5 (Batch (None, 8, 8, 128)         512       \n",
            "_________________________________________________________________\n",
            "max_pooling2d_2 (MaxPooling2 (None, 4, 4, 128)         0         \n",
            "_________________________________________________________________\n",
            "flatten (Flatten)            (None, 2048)              0         \n",
            "_________________________________________________________________\n",
            "dropout (Dropout)            (None, 2048)              0         \n",
            "_________________________________________________________________\n",
            "dense (Dense)                (None, 1024)              2098176   \n",
            "_________________________________________________________________\n",
            "dropout_1 (Dropout)          (None, 1024)              0         \n",
            "_________________________________________________________________\n",
            "dense_1 (Dense)              (None, 10)                10250     \n",
            "=================================================================\n",
            "Total params: 2,397,226\n",
            "Trainable params: 2,396,330\n",
            "Non-trainable params: 896\n",
            "_________________________________________________________________\n",
            "None\n"
          ],
          "name": "stdout"
        }
      ]
    },
    {
      "cell_type": "code",
      "metadata": {
        "id": "hPiw-JuQtIvV",
        "colab_type": "code",
        "outputId": "8f74818d-f256-4ec8-92c4-8300c335966a",
        "colab": {
          "base_uri": "https://localhost:8080/",
          "height": 1000
        }
      },
      "source": [
        "# Fit model\n",
        "r = model.fit(train_generator, \n",
        "              validation_data=(x_test, y_test), \n",
        "              steps_per_epoch=steps_per_epoch, \n",
        "              epochs=60)"
      ],
      "execution_count": 13,
      "outputs": [
        {
          "output_type": "stream",
          "text": [
            "Epoch 1/60\n",
            "781/781 [==============================] - 24s 31ms/step - loss: 1.4756 - accuracy: 0.4901 - val_loss: 1.2557 - val_accuracy: 0.5512\n",
            "Epoch 2/60\n",
            "781/781 [==============================] - 24s 31ms/step - loss: 0.9753 - accuracy: 0.6561 - val_loss: 0.9601 - val_accuracy: 0.6660\n",
            "Epoch 3/60\n",
            "781/781 [==============================] - 24s 31ms/step - loss: 0.8134 - accuracy: 0.7163 - val_loss: 0.8493 - val_accuracy: 0.7072\n",
            "Epoch 4/60\n",
            "781/781 [==============================] - 24s 31ms/step - loss: 0.7225 - accuracy: 0.7511 - val_loss: 0.8449 - val_accuracy: 0.7182\n",
            "Epoch 5/60\n",
            "781/781 [==============================] - 24s 31ms/step - loss: 0.6632 - accuracy: 0.7733 - val_loss: 0.6573 - val_accuracy: 0.7747\n",
            "Epoch 6/60\n",
            "781/781 [==============================] - 24s 31ms/step - loss: 0.6096 - accuracy: 0.7888 - val_loss: 0.7527 - val_accuracy: 0.7531\n",
            "Epoch 7/60\n",
            "781/781 [==============================] - 24s 31ms/step - loss: 0.5776 - accuracy: 0.8032 - val_loss: 0.7474 - val_accuracy: 0.7495\n",
            "Epoch 8/60\n",
            "781/781 [==============================] - 24s 31ms/step - loss: 0.5362 - accuracy: 0.8173 - val_loss: 0.5950 - val_accuracy: 0.8071\n",
            "Epoch 9/60\n",
            "781/781 [==============================] - 24s 31ms/step - loss: 0.5140 - accuracy: 0.8250 - val_loss: 0.5990 - val_accuracy: 0.8052\n",
            "Epoch 10/60\n",
            "781/781 [==============================] - 24s 31ms/step - loss: 0.4808 - accuracy: 0.8370 - val_loss: 0.5376 - val_accuracy: 0.8281\n",
            "Epoch 11/60\n",
            "781/781 [==============================] - 24s 31ms/step - loss: 0.4629 - accuracy: 0.8410 - val_loss: 0.5288 - val_accuracy: 0.8302\n",
            "Epoch 12/60\n",
            "781/781 [==============================] - 25s 32ms/step - loss: 0.4448 - accuracy: 0.8484 - val_loss: 0.4794 - val_accuracy: 0.8386\n",
            "Epoch 13/60\n",
            "781/781 [==============================] - 24s 31ms/step - loss: 0.4188 - accuracy: 0.8569 - val_loss: 0.5235 - val_accuracy: 0.8295\n",
            "Epoch 14/60\n",
            "781/781 [==============================] - 24s 31ms/step - loss: 0.4100 - accuracy: 0.8604 - val_loss: 0.4672 - val_accuracy: 0.8459\n",
            "Epoch 15/60\n",
            "781/781 [==============================] - 24s 31ms/step - loss: 0.3954 - accuracy: 0.8652 - val_loss: 0.5222 - val_accuracy: 0.8291\n",
            "Epoch 16/60\n",
            "781/781 [==============================] - 24s 31ms/step - loss: 0.3752 - accuracy: 0.8699 - val_loss: 0.5217 - val_accuracy: 0.8311\n",
            "Epoch 17/60\n",
            "781/781 [==============================] - 24s 31ms/step - loss: 0.3640 - accuracy: 0.8753 - val_loss: 0.5236 - val_accuracy: 0.8291\n",
            "Epoch 18/60\n",
            "781/781 [==============================] - 24s 31ms/step - loss: 0.3478 - accuracy: 0.8811 - val_loss: 0.4628 - val_accuracy: 0.8469\n",
            "Epoch 19/60\n",
            "781/781 [==============================] - 24s 31ms/step - loss: 0.3409 - accuracy: 0.8835 - val_loss: 0.4464 - val_accuracy: 0.8527\n",
            "Epoch 20/60\n",
            "781/781 [==============================] - 24s 31ms/step - loss: 0.3222 - accuracy: 0.8900 - val_loss: 0.4524 - val_accuracy: 0.8509\n",
            "Epoch 21/60\n",
            "781/781 [==============================] - 24s 31ms/step - loss: 0.3121 - accuracy: 0.8931 - val_loss: 0.4491 - val_accuracy: 0.8480\n",
            "Epoch 22/60\n",
            "781/781 [==============================] - 24s 31ms/step - loss: 0.3056 - accuracy: 0.8951 - val_loss: 0.4262 - val_accuracy: 0.8596\n",
            "Epoch 23/60\n",
            "781/781 [==============================] - 24s 31ms/step - loss: 0.2960 - accuracy: 0.8979 - val_loss: 0.4287 - val_accuracy: 0.8592\n",
            "Epoch 24/60\n",
            "781/781 [==============================] - 24s 31ms/step - loss: 0.2857 - accuracy: 0.9016 - val_loss: 0.4652 - val_accuracy: 0.8569\n",
            "Epoch 25/60\n",
            "781/781 [==============================] - 25s 32ms/step - loss: 0.2784 - accuracy: 0.9046 - val_loss: 0.4173 - val_accuracy: 0.8690\n",
            "Epoch 26/60\n",
            "781/781 [==============================] - 24s 31ms/step - loss: 0.2691 - accuracy: 0.9068 - val_loss: 0.4232 - val_accuracy: 0.8702\n",
            "Epoch 27/60\n",
            "781/781 [==============================] - 24s 31ms/step - loss: 0.2684 - accuracy: 0.9062 - val_loss: 0.4304 - val_accuracy: 0.8659\n",
            "Epoch 28/60\n",
            "781/781 [==============================] - 24s 31ms/step - loss: 0.2521 - accuracy: 0.9123 - val_loss: 0.4191 - val_accuracy: 0.8702\n",
            "Epoch 29/60\n",
            "781/781 [==============================] - 24s 31ms/step - loss: 0.2473 - accuracy: 0.9142 - val_loss: 0.5535 - val_accuracy: 0.8274\n",
            "Epoch 30/60\n",
            "781/781 [==============================] - 25s 31ms/step - loss: 0.2407 - accuracy: 0.9171 - val_loss: 0.4089 - val_accuracy: 0.8698\n",
            "Epoch 31/60\n",
            "781/781 [==============================] - 25s 32ms/step - loss: 0.2377 - accuracy: 0.9174 - val_loss: 0.4020 - val_accuracy: 0.8759\n",
            "Epoch 32/60\n",
            "781/781 [==============================] - 25s 31ms/step - loss: 0.2275 - accuracy: 0.9217 - val_loss: 0.4625 - val_accuracy: 0.8576\n",
            "Epoch 33/60\n",
            "781/781 [==============================] - 24s 31ms/step - loss: 0.2236 - accuracy: 0.9220 - val_loss: 0.4160 - val_accuracy: 0.8743\n",
            "Epoch 34/60\n",
            "781/781 [==============================] - 24s 31ms/step - loss: 0.2132 - accuracy: 0.9251 - val_loss: 0.4853 - val_accuracy: 0.8550\n",
            "Epoch 35/60\n",
            "781/781 [==============================] - 25s 32ms/step - loss: 0.2117 - accuracy: 0.9259 - val_loss: 0.4304 - val_accuracy: 0.8669\n",
            "Epoch 36/60\n",
            "781/781 [==============================] - 24s 31ms/step - loss: 0.2063 - accuracy: 0.9283 - val_loss: 0.4495 - val_accuracy: 0.8707\n",
            "Epoch 37/60\n",
            "781/781 [==============================] - 24s 31ms/step - loss: 0.2047 - accuracy: 0.9286 - val_loss: 0.3776 - val_accuracy: 0.8789\n",
            "Epoch 38/60\n",
            "781/781 [==============================] - 25s 31ms/step - loss: 0.1934 - accuracy: 0.9319 - val_loss: 0.3951 - val_accuracy: 0.8825\n",
            "Epoch 39/60\n",
            "781/781 [==============================] - 25s 32ms/step - loss: 0.1967 - accuracy: 0.9313 - val_loss: 0.4328 - val_accuracy: 0.8719\n",
            "Epoch 40/60\n",
            "781/781 [==============================] - 24s 31ms/step - loss: 0.1897 - accuracy: 0.9350 - val_loss: 0.3977 - val_accuracy: 0.8810\n",
            "Epoch 41/60\n",
            "781/781 [==============================] - 24s 31ms/step - loss: 0.1857 - accuracy: 0.9356 - val_loss: 0.4533 - val_accuracy: 0.8731\n",
            "Epoch 42/60\n",
            "781/781 [==============================] - 25s 31ms/step - loss: 0.1811 - accuracy: 0.9364 - val_loss: 0.4101 - val_accuracy: 0.8745\n",
            "Epoch 43/60\n",
            "781/781 [==============================] - 24s 31ms/step - loss: 0.1838 - accuracy: 0.9366 - val_loss: 0.4182 - val_accuracy: 0.8781\n",
            "Epoch 44/60\n",
            "781/781 [==============================] - 24s 31ms/step - loss: 0.1763 - accuracy: 0.9382 - val_loss: 0.4012 - val_accuracy: 0.8820\n",
            "Epoch 45/60\n",
            "781/781 [==============================] - 24s 31ms/step - loss: 0.1701 - accuracy: 0.9395 - val_loss: 0.4153 - val_accuracy: 0.8812\n",
            "Epoch 46/60\n",
            "781/781 [==============================] - 24s 31ms/step - loss: 0.1677 - accuracy: 0.9424 - val_loss: 0.4405 - val_accuracy: 0.8747\n",
            "Epoch 47/60\n",
            "781/781 [==============================] - 24s 31ms/step - loss: 0.1627 - accuracy: 0.9428 - val_loss: 0.5093 - val_accuracy: 0.8490\n",
            "Epoch 48/60\n",
            "781/781 [==============================] - 24s 31ms/step - loss: 0.1680 - accuracy: 0.9414 - val_loss: 0.3979 - val_accuracy: 0.8824\n",
            "Epoch 49/60\n",
            "781/781 [==============================] - 24s 31ms/step - loss: 0.1613 - accuracy: 0.9451 - val_loss: 0.4315 - val_accuracy: 0.8736\n",
            "Epoch 50/60\n",
            "781/781 [==============================] - 25s 32ms/step - loss: 0.1594 - accuracy: 0.9454 - val_loss: 0.4139 - val_accuracy: 0.8819\n",
            "Epoch 51/60\n",
            "781/781 [==============================] - 24s 31ms/step - loss: 0.1551 - accuracy: 0.9466 - val_loss: 0.4296 - val_accuracy: 0.8775\n",
            "Epoch 52/60\n",
            "781/781 [==============================] - 24s 31ms/step - loss: 0.1536 - accuracy: 0.9464 - val_loss: 0.4087 - val_accuracy: 0.8823\n",
            "Epoch 53/60\n",
            "781/781 [==============================] - 24s 31ms/step - loss: 0.1488 - accuracy: 0.9493 - val_loss: 0.4427 - val_accuracy: 0.8831\n",
            "Epoch 54/60\n",
            "781/781 [==============================] - 24s 31ms/step - loss: 0.1458 - accuracy: 0.9495 - val_loss: 0.3962 - val_accuracy: 0.8843\n",
            "Epoch 55/60\n",
            "781/781 [==============================] - 24s 31ms/step - loss: 0.1440 - accuracy: 0.9501 - val_loss: 0.4434 - val_accuracy: 0.8854\n",
            "Epoch 56/60\n",
            "781/781 [==============================] - 24s 30ms/step - loss: 0.1478 - accuracy: 0.9491 - val_loss: 0.4853 - val_accuracy: 0.8704\n",
            "Epoch 57/60\n",
            "781/781 [==============================] - 24s 31ms/step - loss: 0.1406 - accuracy: 0.9512 - val_loss: 0.4653 - val_accuracy: 0.8795\n",
            "Epoch 58/60\n",
            "781/781 [==============================] - 24s 31ms/step - loss: 0.1412 - accuracy: 0.9516 - val_loss: 0.4329 - val_accuracy: 0.8774\n",
            "Epoch 59/60\n",
            "781/781 [==============================] - 24s 31ms/step - loss: 0.1359 - accuracy: 0.9527 - val_loss: 0.3878 - val_accuracy: 0.8897\n",
            "Epoch 60/60\n",
            "781/781 [==============================] - 24s 31ms/step - loss: 0.1363 - accuracy: 0.9535 - val_loss: 0.4213 - val_accuracy: 0.8833\n"
          ],
          "name": "stdout"
        }
      ]
    },
    {
      "cell_type": "markdown",
      "metadata": {
        "id": "HMCDLgvC6a0m",
        "colab_type": "text"
      },
      "source": [
        "# Evaluate Model"
      ]
    },
    {
      "cell_type": "code",
      "metadata": {
        "id": "y1hTNs186tWA",
        "colab_type": "code",
        "outputId": "b5617c7b-09d3-4759-bae0-0234516481f6",
        "colab": {
          "base_uri": "https://localhost:8080/",
          "height": 313
        }
      },
      "source": [
        "# Plot the loss\n",
        "plt.plot(r.history['loss'], label='loss')\n",
        "plt.plot(r.history['val_loss'], label='val_lossss')\n",
        "plt.title(\"Loss and Validation Loss vs. Epoch\")\n",
        "plt.ylabel('Loss')\n",
        "plt.xlabel('Epoch')\n",
        "plt.legend()"
      ],
      "execution_count": 19,
      "outputs": [
        {
          "output_type": "execute_result",
          "data": {
            "text/plain": [
              "<matplotlib.legend.Legend at 0x7f112e31f748>"
            ]
          },
          "metadata": {
            "tags": []
          },
          "execution_count": 19
        },
        {
          "output_type": "display_data",
          "data": {
            "image/png": "[encoded data removed]",
            "text/plain": [
              "<Figure size 432x288 with 1 Axes>"
            ]
          },
          "metadata": {
            "tags": [],
            "needs_background": "light"
          }
        }
      ]
    },
    {
      "cell_type": "code",
      "metadata": {
        "id": "kVpGoy3J6ve-",
        "colab_type": "code",
        "outputId": "88c9d881-19e0-4a50-9cb6-9656a264371c",
        "colab": {
          "base_uri": "https://localhost:8080/",
          "height": 313
        }
      },
      "source": [
        "# Plot the accuracy\n",
        "plt.plot(r.history['accuracy'], label='accuracy')\n",
        "plt.plot(r.history['val_accuracy'], label='val_accuracy')\n",
        "plt.title(\"Accuracy and Validation Accuracy vs. Epoch\")\n",
        "plt.ylabel('Accuracy')\n",
        "plt.xlabel('Epoch')\n",
        "plt.legend()"
      ],
      "execution_count": 20,
      "outputs": [
        {
          "output_type": "execute_result",
          "data": {
            "text/plain": [
              "<matplotlib.legend.Legend at 0x7f112e2a1b70>"
            ]
          },
          "metadata": {
            "tags": []
          },
          "execution_count": 20
        },
        {
          "output_type": "display_data",
          "data": {
            "image/png": "[encoded data removed]",
            "text/plain": [
              "<Figure size 432x288 with 1 Axes>"
            ]
          },
          "metadata": {
            "tags": [],
            "needs_background": "light"
          }
        }
      ]
    },
    {
      "cell_type": "code",
      "metadata": {
        "id": "lfF450Un64K3",
        "colab_type": "code",
        "outputId": "5fab857a-4bff-479a-8b05-88dcec849ad5",
        "colab": {
          "base_uri": "https://localhost:8080/",
          "height": 370
        }
      },
      "source": [
        "# Plot confusion matrix\n",
        "from sklearn.metrics import confusion_matrix\n",
        "\n",
        "predictions = model.predict(x_test).argmax(axis=1) # Need to take argmax to get class number with highest probability for each sample\n",
        "colormap = confusion_matrix(y_test, predictions)\n",
        "import seaborn as sns\n",
        "ax = sns.heatmap(colormap, annot=True, fmt='d', cmap='Greens')\n",
        "ax.set_title(\"Unnormalized Confusion Matrix\")\n",
        "ax.set_xlabel(\"Predicted Label\")\n",
        "ax.set_ylabel(\"True Label\")"
      ],
      "execution_count": 16,
      "outputs": [
        {
          "output_type": "stream",
          "text": [
            "/usr/local/lib/python3.6/dist-packages/statsmodels/tools/_testing.py:19: FutureWarning: pandas.util.testing is deprecated. Use the functions in the public API at pandas.testing instead.\n",
            "  import pandas.util.testing as tm\n"
          ],
          "name": "stderr"
        },
        {
          "output_type": "execute_result",
          "data": {
            "text/plain": [
              "Text(33.0, 0.5, 'True Label')"
            ]
          },
          "metadata": {
            "tags": []
          },
          "execution_count": 16
        },
        {
          "output_type": "display_data",
          "data": {
            "image/png": "[encoded data removed]",
            "text/plain": [
              "<Figure size 432x288 with 2 Axes>"
            ]
          },
          "metadata": {
            "tags": [],
            "needs_background": "light"
          }
        }
      ]
    },
    {
      "cell_type": "code",
      "metadata": {
        "id": "uBWNN7GX659X",
        "colab_type": "code",
        "colab": {}
      },
      "source": [
        "# label mapping\n",
        "labels = '''airplane\n",
        "automobile\n",
        "bird\n",
        "cat\n",
        "deer\n",
        "dog\n",
        "frog\n",
        "horse\n",
        "ship\n",
        "truck'''.split()"
      ],
      "execution_count": 0,
      "outputs": []
    },
    {
      "cell_type": "code",
      "metadata": {
        "id": "fv2go5qs7wWJ",
        "colab_type": "code",
        "outputId": "3908145c-a1a5-47f5-b1fa-2447a071d8c0",
        "colab": {
          "base_uri": "https://localhost:8080/",
          "height": 281
        }
      },
      "source": [
        "# Show some misclassified examples\n",
        "misclassified_idx = np.where(predictions != y_test)[0]\n",
        "i = np.random.choice(misclassified_idx)\n",
        "plt.imshow(x_test[i], cmap='gray')\n",
        "plt.title(\"True label: %s Predicted: %s\" % (labels[y_test[i]], labels[predictions[i]]));"
      ],
      "execution_count": 18,
      "outputs": [
        {
          "output_type": "display_data",
          "data": {
            "image/png": "[encoded data removed]",
            "text/plain": [
              "<Figure size 432x288 with 1 Axes>"
            ]
          },
          "metadata": {
            "tags": [],
            "needs_background": "light"
          }
        }
      ]
    },
    {
      "cell_type": "code",
      "metadata": {
        "id": "zWv2hEqZ7zj1",
        "colab_type": "code",
        "colab": {}
      },
      "source": [
        ""
      ],
      "execution_count": 0,
      "outputs": []
    }
  ]
}