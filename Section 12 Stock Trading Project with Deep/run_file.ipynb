{
  "nbformat": 4,
  "nbformat_minor": 0,
  "metadata": {
    "colab": {
      "name": "run_file.ipynb",
      "provenance": [],
      "collapsed_sections": [],
      "toc_visible": true
    },
    "kernelspec": {
      "name": "python3",
      "display_name": "Python 3"
    }
  },
  "cells": [
    {
      "cell_type": "markdown",
      "metadata": {
        "id": "BsE_7Ms6BcaU",
        "colab_type": "text"
      },
      "source": [
        "# Command to run the Deep Reinforcement Learning trader"
      ]
    },
    {
      "cell_type": "code",
      "metadata": {
        "id": "2aOUiuGhBlkt",
        "colab_type": "code",
        "outputId": "bd04208e-a4f2-45fe-c6ff-dda0e0410f75",
        "colab": {
          "base_uri": "https://localhost:8080/",
          "height": 1000
        }
      },
      "source": [
        "!python rl_trader.py -m train && python plot_rl_rewards.py -m train"
      ],
      "execution_count": 0,
      "outputs": [
        {
          "output_type": "stream",
          "text": [
            "2020-05-17 22:57:49.426096: I tensorflow/stream_executor/platform/default/dso_loader.cc:44] Successfully opened dynamic library libcudart.so.10.1\n",
            "2020-05-17 22:57:51.459457: I tensorflow/stream_executor/platform/default/dso_loader.cc:44] Successfully opened dynamic library libcuda.so.1\n",
            "2020-05-17 22:57:51.517969: E tensorflow/stream_executor/cuda/cuda_driver.cc:313] failed call to cuInit: CUDA_ERROR_NO_DEVICE: no CUDA-capable device is detected\n",
            "2020-05-17 22:57:51.518057: I tensorflow/stream_executor/cuda/cuda_diagnostics.cc:156] kernel driver does not appear to be running on this host (fb3d62a82703): /proc/driver/nvidia/version does not exist\n",
            "2020-05-17 22:57:51.538156: I tensorflow/core/platform/profile_utils/cpu_utils.cc:102] CPU Frequency: 2300000000 Hz\n",
            "2020-05-17 22:57:51.538414: I tensorflow/compiler/xla/service/service.cc:168] XLA service 0x1eb1100 initialized for platform Host (this does not guarantee that XLA will be used). Devices:\n",
            "2020-05-17 22:57:51.538450: I tensorflow/compiler/xla/service/service.cc:176]   StreamExecutor device (0): Host, Default Version\n",
            "Model: \"model\"\n",
            "_________________________________________________________________\n",
            "Layer (type)                 Output Shape              Param #   \n",
            "=================================================================\n",
            "input_1 (InputLayer)         [(None, 7)]               0         \n",
            "_________________________________________________________________\n",
            "dense_1 (Dense)              (None, 27)                216       \n",
            "=================================================================\n",
            "Total params: 216\n",
            "Trainable params: 216\n",
            "Non-trainable params: 0\n",
            "_________________________________________________________________\n",
            "None\n",
            "episode: 1/2000, episode end value: 34381.27, duration: 0:00:44.837210\n",
            "episode: 2/2000, episode end value: 29867.96, duration: 0:00:51.742355\n",
            "episode: 3/2000, episode end value: 31068.41, duration: 0:00:52.087918\n",
            "episode: 4/2000, episode end value: 19951.78, duration: 0:00:48.791196\n",
            "episode: 5/2000, episode end value: 31798.55, duration: 0:00:51.038086\n",
            "episode: 6/2000, episode end value: 34554.48, duration: 0:00:50.917028\n",
            "episode: 7/2000, episode end value: 33692.08, duration: 0:00:47.557032\n",
            "episode: 8/2000, episode end value: 40406.00, duration: 0:00:48.667782\n",
            "episode: 9/2000, episode end value: 40578.84, duration: 0:00:48.170737\n",
            "episode: 10/2000, episode end value: 40740.56, duration: 0:00:48.086316\n",
            "episode: 11/2000, episode end value: 38484.08, duration: 0:00:48.342962\n",
            "episode: 12/2000, episode end value: 45598.10, duration: 0:00:50.172882\n",
            "episode: 13/2000, episode end value: 40804.76, duration: 0:00:52.742401\n",
            "episode: 14/2000, episode end value: 41387.43, duration: 0:00:50.341825\n",
            "episode: 15/2000, episode end value: 42005.69, duration: 0:00:47.811796\n",
            "episode: 16/2000, episode end value: 40797.81, duration: 0:00:47.499632\n",
            "episode: 17/2000, episode end value: 37835.52, duration: 0:00:47.459060\n",
            "episode: 18/2000, episode end value: 37273.35, duration: 0:00:46.991598\n",
            "episode: 19/2000, episode end value: 40353.39, duration: 0:00:49.470902\n",
            "episode: 20/2000, episode end value: 38078.24, duration: 0:00:46.071713\n",
            "episode: 21/2000, episode end value: 49581.44, duration: 0:00:50.248107\n",
            "episode: 22/2000, episode end value: 41089.78, duration: 0:00:48.374100\n",
            "episode: 23/2000, episode end value: 29438.76, duration: 0:00:46.989227\n",
            "episode: 24/2000, episode end value: 40070.04, duration: 0:00:49.480187\n",
            "episode: 25/2000, episode end value: 40708.07, duration: 0:00:50.722691\n",
            "episode: 26/2000, episode end value: 38462.28, duration: 0:00:49.925341\n",
            "episode: 27/2000, episode end value: 36452.28, duration: 0:00:48.650111\n",
            "episode: 28/2000, episode end value: 38874.81, duration: 0:00:48.442444\n",
            "episode: 29/2000, episode end value: 31504.86, duration: 0:00:46.703850\n",
            "episode: 30/2000, episode end value: 42464.05, duration: 0:00:47.583328\n",
            "Traceback (most recent call last):\n",
            "  File \"rl_trader.py\", line 597, in <module>\n",
            "    val = play_one_episode(agent, env, args.mode)\n",
            "  File \"rl_trader.py\", line 506, in play_one_episode\n",
            "    action = agent.act(state)\n",
            "  File \"rl_trader.py\", line 434, in act\n",
            "    act_vals = self.model.predict(state)\n",
            "  File \"/usr/local/lib/python3.6/dist-packages/tensorflow/python/keras/engine/training.py\", line 88, in _method_wrapper\n",
            "    return method(self, *args, **kwargs)\n",
            "  File \"/usr/local/lib/python3.6/dist-packages/tensorflow/python/keras/engine/training.py\", line 1268, in predict\n",
            "    tmp_batch_outputs = predict_function(iterator)\n",
            "  File \"/usr/local/lib/python3.6/dist-packages/tensorflow/python/eager/def_function.py\", line 580, in __call__\n",
            "    result = self._call(*args, **kwds)\n",
            "  File \"/usr/local/lib/python3.6/dist-packages/tensorflow/python/eager/def_function.py\", line 618, in _call\n",
            "    results = self._stateful_fn(*args, **kwds)\n",
            "  File \"/usr/local/lib/python3.6/dist-packages/tensorflow/python/eager/function.py\", line 2420, in __call__\n",
            "    return graph_function._filtered_call(args, kwargs)  # pylint: disable=protected-access\n",
            "  File \"/usr/local/lib/python3.6/dist-packages/tensorflow/python/eager/function.py\", line 1665, in _filtered_call\n",
            "    self.captured_inputs)\n",
            "  File \"/usr/local/lib/python3.6/dist-packages/tensorflow/python/eager/function.py\", line 1746, in _call_flat\n",
            "    ctx, args, cancellation_manager=cancellation_manager))\n",
            "  File \"/usr/local/lib/python3.6/dist-packages/tensorflow/python/eager/function.py\", line 598, in call\n",
            "    ctx=ctx)\n",
            "  File \"/usr/local/lib/python3.6/dist-packages/tensorflow/python/eager/execute.py\", line 60, in quick_execute\n",
            "    inputs, attrs, num_outputs)\n",
            "KeyboardInterrupt\n"
          ],
          "name": "stdout"
        }
      ]
    },
    {
      "cell_type": "code",
      "metadata": {
        "id": "ID7hsGwTBxGb",
        "colab_type": "code",
        "colab": {}
      },
      "source": [
        ""
      ],
      "execution_count": 0,
      "outputs": []
    }
  ]
}