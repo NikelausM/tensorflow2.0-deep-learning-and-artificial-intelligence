{
  "nbformat": 4,
  "nbformat_minor": 0,
  "metadata": {
    "colab": {
      "name": "Exercise_2_TF2.0_Spam_Detection_RNN.ipynb",
      "provenance": [],
      "collapsed_sections": []
    },
    "kernelspec": {
      "name": "python3",
      "display_name": "Python 3"
    },
    "accelerator": "GPU"
  },
  "cells": [
    {
      "cell_type": "code",
      "metadata": {
        "id": "oJXs644dp9Vo",
        "colab_type": "code",
        "outputId": "dc3208ce-4567-4204-bfbb-62b84221ccf8",
        "colab": {
          "base_uri": "https://localhost:8080/",
          "height": 148
        }
      },
      "source": [
        "# Install TensorFlow\n",
        "# !pip install -q tensorflow\n",
        "\n",
        "try:\n",
        "  %tensorflow_version 2.x  # Colab only.\n",
        "except Exception:\n",
        "  pass\n",
        "\n",
        "import tensorflow as tf\n",
        "print(tf.__version__)"
      ],
      "execution_count": 18,
      "outputs": [
        {
          "output_type": "stream",
          "text": [
            "`%tensorflow_version` only switches the major version: 1.x or 2.x.\n",
            "You set: `2.x  # Colab only.`. This will be interpreted as: `2.x`.\n",
            "\n",
            "\n",
            "TensorFlow is already loaded. Please restart the runtime to change versions.\n",
            "2.2.0\n"
          ],
          "name": "stdout"
        }
      ]
    },
    {
      "cell_type": "code",
      "metadata": {
        "id": "VdGaaOULqb4w",
        "colab_type": "code",
        "colab": {}
      },
      "source": [
        "import numpy as np\n",
        "import pandas as pd\n",
        "import matplotlib.pyplot as plt\n",
        "from sklearn.model_selection import train_test_split\n",
        "\n",
        "from tensorflow.keras.preprocessing.text import Tokenizer\n",
        "from tensorflow.keras.preprocessing.sequence import pad_sequences\n",
        "from tensorflow.keras.layers import Dense, Input, GlobalMaxPooling1D\n",
        "from tensorflow.keras.layers import LSTM, Embedding\n",
        "from tensorflow.keras.models import Model\n",
        "from tensorflow.keras.optimizers import Adam"
      ],
      "execution_count": 0,
      "outputs": []
    },
    {
      "cell_type": "markdown",
      "metadata": {
        "id": "mcJ3xTpcqc90",
        "colab_type": "text"
      },
      "source": [
        "# Load Data"
      ]
    },
    {
      "cell_type": "code",
      "metadata": {
        "id": "ON_SB28Mqip0",
        "colab_type": "code",
        "outputId": "4acf0493-e318-47c2-c0fb-b1168ae160bd",
        "colab": {
          "base_uri": "https://localhost:8080/",
          "height": 54
        }
      },
      "source": [
        "!wget -nc https://lazyprogrammer.me/course_files/spam.csv"
      ],
      "execution_count": 20,
      "outputs": [
        {
          "output_type": "stream",
          "text": [
            "File ‘spam.csv’ already there; not retrieving.\n",
            "\n"
          ],
          "name": "stdout"
        }
      ]
    },
    {
      "cell_type": "code",
      "metadata": {
        "id": "J1PEXnUSqmak",
        "colab_type": "code",
        "colab": {}
      },
      "source": [
        "df = pd.read_csv('spam.csv', encoding='ISO-8859-1')"
      ],
      "execution_count": 0,
      "outputs": []
    },
    {
      "cell_type": "code",
      "metadata": {
        "id": "xLNDID0sqpnw",
        "colab_type": "code",
        "outputId": "0321344c-eda2-49a6-a443-643660e3cb94",
        "colab": {
          "base_uri": "https://localhost:8080/",
          "height": 293
        }
      },
      "source": [
        "df.head()"
      ],
      "execution_count": 22,
      "outputs": [
        {
          "output_type": "execute_result",
          "data": {
            "text/html": [
              "<div>\n",
              "<style scoped>\n",
              "    .dataframe tbody tr th:only-of-type {\n",
              "        vertical-align: middle;\n",
              "    }\n",
              "\n",
              "    .dataframe tbody tr th {\n",
              "        vertical-align: top;\n",
              "    }\n",
              "\n",
              "    .dataframe thead th {\n",
              "        text-align: right;\n",
              "    }\n",
              "</style>\n",
              "<table border=\"1\" class=\"dataframe\">\n",
              "  <thead>\n",
              "    <tr style=\"text-align: right;\">\n",
              "      <th></th>\n",
              "      <th>v1</th>\n",
              "      <th>v2</th>\n",
              "      <th>Unnamed: 2</th>\n",
              "      <th>Unnamed: 3</th>\n",
              "      <th>Unnamed: 4</th>\n",
              "    </tr>\n",
              "  </thead>\n",
              "  <tbody>\n",
              "    <tr>\n",
              "      <th>0</th>\n",
              "      <td>ham</td>\n",
              "      <td>Go until jurong point, crazy.. Available only ...</td>\n",
              "      <td>NaN</td>\n",
              "      <td>NaN</td>\n",
              "      <td>NaN</td>\n",
              "    </tr>\n",
              "    <tr>\n",
              "      <th>1</th>\n",
              "      <td>ham</td>\n",
              "      <td>Ok lar... Joking wif u oni...</td>\n",
              "      <td>NaN</td>\n",
              "      <td>NaN</td>\n",
              "      <td>NaN</td>\n",
              "    </tr>\n",
              "    <tr>\n",
              "      <th>2</th>\n",
              "      <td>spam</td>\n",
              "      <td>Free entry in 2 a wkly comp to win FA Cup fina...</td>\n",
              "      <td>NaN</td>\n",
              "      <td>NaN</td>\n",
              "      <td>NaN</td>\n",
              "    </tr>\n",
              "    <tr>\n",
              "      <th>3</th>\n",
              "      <td>ham</td>\n",
              "      <td>U dun say so early hor... U c already then say...</td>\n",
              "      <td>NaN</td>\n",
              "      <td>NaN</td>\n",
              "      <td>NaN</td>\n",
              "    </tr>\n",
              "    <tr>\n",
              "      <th>4</th>\n",
              "      <td>ham</td>\n",
              "      <td>Nah I don't think he goes to usf, he lives aro...</td>\n",
              "      <td>NaN</td>\n",
              "      <td>NaN</td>\n",
              "      <td>NaN</td>\n",
              "    </tr>\n",
              "  </tbody>\n",
              "</table>\n",
              "</div>"
            ],
            "text/plain": [
              "     v1  ... Unnamed: 4\n",
              "0   ham  ...        NaN\n",
              "1   ham  ...        NaN\n",
              "2  spam  ...        NaN\n",
              "3   ham  ...        NaN\n",
              "4   ham  ...        NaN\n",
              "\n",
              "[5 rows x 5 columns]"
            ]
          },
          "metadata": {
            "tags": []
          },
          "execution_count": 22
        }
      ]
    },
    {
      "cell_type": "markdown",
      "metadata": {
        "id": "ifWpKIQRrFln",
        "colab_type": "text"
      },
      "source": [
        "# Data Preprocessing"
      ]
    },
    {
      "cell_type": "code",
      "metadata": {
        "id": "80axBBgeqrkT",
        "colab_type": "code",
        "colab": {}
      },
      "source": [
        "df.drop([\"Unnamed: 2\", \"Unnamed: 3\", \"Unnamed: 4\"], axis=1, inplace=True)"
      ],
      "execution_count": 0,
      "outputs": []
    },
    {
      "cell_type": "code",
      "metadata": {
        "id": "8FVRcaxKqxwM",
        "colab_type": "code",
        "outputId": "cdb5940a-b631-482c-876f-bed2a1f594f3",
        "colab": {
          "base_uri": "https://localhost:8080/",
          "height": 206
        }
      },
      "source": [
        "df.head()"
      ],
      "execution_count": 24,
      "outputs": [
        {
          "output_type": "execute_result",
          "data": {
            "text/html": [
              "<div>\n",
              "<style scoped>\n",
              "    .dataframe tbody tr th:only-of-type {\n",
              "        vertical-align: middle;\n",
              "    }\n",
              "\n",
              "    .dataframe tbody tr th {\n",
              "        vertical-align: top;\n",
              "    }\n",
              "\n",
              "    .dataframe thead th {\n",
              "        text-align: right;\n",
              "    }\n",
              "</style>\n",
              "<table border=\"1\" class=\"dataframe\">\n",
              "  <thead>\n",
              "    <tr style=\"text-align: right;\">\n",
              "      <th></th>\n",
              "      <th>v1</th>\n",
              "      <th>v2</th>\n",
              "    </tr>\n",
              "  </thead>\n",
              "  <tbody>\n",
              "    <tr>\n",
              "      <th>0</th>\n",
              "      <td>ham</td>\n",
              "      <td>Go until jurong point, crazy.. Available only ...</td>\n",
              "    </tr>\n",
              "    <tr>\n",
              "      <th>1</th>\n",
              "      <td>ham</td>\n",
              "      <td>Ok lar... Joking wif u oni...</td>\n",
              "    </tr>\n",
              "    <tr>\n",
              "      <th>2</th>\n",
              "      <td>spam</td>\n",
              "      <td>Free entry in 2 a wkly comp to win FA Cup fina...</td>\n",
              "    </tr>\n",
              "    <tr>\n",
              "      <th>3</th>\n",
              "      <td>ham</td>\n",
              "      <td>U dun say so early hor... U c already then say...</td>\n",
              "    </tr>\n",
              "    <tr>\n",
              "      <th>4</th>\n",
              "      <td>ham</td>\n",
              "      <td>Nah I don't think he goes to usf, he lives aro...</td>\n",
              "    </tr>\n",
              "  </tbody>\n",
              "</table>\n",
              "</div>"
            ],
            "text/plain": [
              "     v1                                                 v2\n",
              "0   ham  Go until jurong point, crazy.. Available only ...\n",
              "1   ham                      Ok lar... Joking wif u oni...\n",
              "2  spam  Free entry in 2 a wkly comp to win FA Cup fina...\n",
              "3   ham  U dun say so early hor... U c already then say...\n",
              "4   ham  Nah I don't think he goes to usf, he lives aro..."
            ]
          },
          "metadata": {
            "tags": []
          },
          "execution_count": 24
        }
      ]
    },
    {
      "cell_type": "code",
      "metadata": {
        "id": "jrsYj5MbqyjF",
        "colab_type": "code",
        "colab": {}
      },
      "source": [
        "df.columns = ['labels', 'data']"
      ],
      "execution_count": 0,
      "outputs": []
    },
    {
      "cell_type": "code",
      "metadata": {
        "id": "sq2xgHn_q505",
        "colab_type": "code",
        "outputId": "4aad0b6d-d36c-427b-ce48-5e1fdba1740c",
        "colab": {
          "base_uri": "https://localhost:8080/",
          "height": 206
        }
      },
      "source": [
        "df.head()"
      ],
      "execution_count": 26,
      "outputs": [
        {
          "output_type": "execute_result",
          "data": {
            "text/html": [
              "<div>\n",
              "<style scoped>\n",
              "    .dataframe tbody tr th:only-of-type {\n",
              "        vertical-align: middle;\n",
              "    }\n",
              "\n",
              "    .dataframe tbody tr th {\n",
              "        vertical-align: top;\n",
              "    }\n",
              "\n",
              "    .dataframe thead th {\n",
              "        text-align: right;\n",
              "    }\n",
              "</style>\n",
              "<table border=\"1\" class=\"dataframe\">\n",
              "  <thead>\n",
              "    <tr style=\"text-align: right;\">\n",
              "      <th></th>\n",
              "      <th>labels</th>\n",
              "      <th>data</th>\n",
              "    </tr>\n",
              "  </thead>\n",
              "  <tbody>\n",
              "    <tr>\n",
              "      <th>0</th>\n",
              "      <td>ham</td>\n",
              "      <td>Go until jurong point, crazy.. Available only ...</td>\n",
              "    </tr>\n",
              "    <tr>\n",
              "      <th>1</th>\n",
              "      <td>ham</td>\n",
              "      <td>Ok lar... Joking wif u oni...</td>\n",
              "    </tr>\n",
              "    <tr>\n",
              "      <th>2</th>\n",
              "      <td>spam</td>\n",
              "      <td>Free entry in 2 a wkly comp to win FA Cup fina...</td>\n",
              "    </tr>\n",
              "    <tr>\n",
              "      <th>3</th>\n",
              "      <td>ham</td>\n",
              "      <td>U dun say so early hor... U c already then say...</td>\n",
              "    </tr>\n",
              "    <tr>\n",
              "      <th>4</th>\n",
              "      <td>ham</td>\n",
              "      <td>Nah I don't think he goes to usf, he lives aro...</td>\n",
              "    </tr>\n",
              "  </tbody>\n",
              "</table>\n",
              "</div>"
            ],
            "text/plain": [
              "  labels                                               data\n",
              "0    ham  Go until jurong point, crazy.. Available only ...\n",
              "1    ham                      Ok lar... Joking wif u oni...\n",
              "2   spam  Free entry in 2 a wkly comp to win FA Cup fina...\n",
              "3    ham  U dun say so early hor... U c already then say...\n",
              "4    ham  Nah I don't think he goes to usf, he lives aro..."
            ]
          },
          "metadata": {
            "tags": []
          },
          "execution_count": 26
        }
      ]
    },
    {
      "cell_type": "markdown",
      "metadata": {
        "id": "_jvqX_OOr2xA",
        "colab_type": "text"
      },
      "source": [
        "## Create Binary Labels"
      ]
    },
    {
      "cell_type": "code",
      "metadata": {
        "id": "4mDx6lLqr6yv",
        "colab_type": "code",
        "outputId": "69f5b7d8-24c5-404f-b0cd-589e5129e69a",
        "colab": {
          "base_uri": "https://localhost:8080/",
          "height": 257
        }
      },
      "source": [
        "X = df['data']\n",
        "df['b_labels'] = df['labels'].map({'ham' : 0, 'spam' : 1})\n",
        "y = df['b_labels'].values\n",
        "print(df['data'])\n",
        "print(y)"
      ],
      "execution_count": 27,
      "outputs": [
        {
          "output_type": "stream",
          "text": [
            "0       Go until jurong point, crazy.. Available only ...\n",
            "1                           Ok lar... Joking wif u oni...\n",
            "2       Free entry in 2 a wkly comp to win FA Cup fina...\n",
            "3       U dun say so early hor... U c already then say...\n",
            "4       Nah I don't think he goes to usf, he lives aro...\n",
            "                              ...                        \n",
            "5567    This is the 2nd time we have tried 2 contact u...\n",
            "5568                Will Ì_ b going to esplanade fr home?\n",
            "5569    Pity, * was in mood for that. So...any other s...\n",
            "5570    The guy did some bitching but I acted like i'd...\n",
            "5571                           Rofl. Its true to its name\n",
            "Name: data, Length: 5572, dtype: object\n",
            "[0 0 1 ... 0 0 0]\n"
          ],
          "name": "stdout"
        }
      ]
    },
    {
      "cell_type": "markdown",
      "metadata": {
        "id": "omxMFH6DrWQo",
        "colab_type": "text"
      },
      "source": [
        "## Train Test Split"
      ]
    },
    {
      "cell_type": "code",
      "metadata": {
        "id": "9K0wJShfrXSM",
        "colab_type": "code",
        "colab": {}
      },
      "source": [
        "df_train, df_test, y_train, y_test = train_test_split(df['data'], y, test_size=0.33) "
      ],
      "execution_count": 0,
      "outputs": []
    },
    {
      "cell_type": "markdown",
      "metadata": {
        "id": "xixeJ5exrkee",
        "colab_type": "text"
      },
      "source": [
        "## Preprocessing for Embedding"
      ]
    },
    {
      "cell_type": "code",
      "metadata": {
        "id": "YHKMc0P_sdLg",
        "colab_type": "code",
        "colab": {}
      },
      "source": [
        "# Convert sentences to sequences\n",
        "MAX_VOCAB_SIZE = 20000\n",
        "tokenizer = Tokenizer(num_words=MAX_VOCAB_SIZE)\n",
        "tokenizer.fit_on_texts(df_train)\n",
        "\n",
        "# Get sequences of integers for each sentence\n",
        "sequences_train = tokenizer.texts_to_sequences(df_train) \n",
        "sequences_test = tokenizer.texts_to_sequences(df_test)"
      ],
      "execution_count": 0,
      "outputs": []
    },
    {
      "cell_type": "code",
      "metadata": {
        "id": "TR8vB4IZskjy",
        "colab_type": "code",
        "colab": {
          "base_uri": "https://localhost:8080/",
          "height": 35
        },
        "outputId": "34b9c6b3-00ea-432d-e449-a6680704f934"
      },
      "source": [
        "# word integer mapping\n",
        "word2idx = tokenizer.word_index # word integer pairs\n",
        "V = len(word2idx)\n",
        "print(\"Tokens found: \", V)"
      ],
      "execution_count": 30,
      "outputs": [
        {
          "output_type": "stream",
          "text": [
            "Tokens found:  7329\n"
          ],
          "name": "stdout"
        }
      ]
    },
    {
      "cell_type": "markdown",
      "metadata": {
        "id": "xKgBOF8ttE18",
        "colab_type": "text"
      },
      "source": [
        "## Reshape Data for NN"
      ]
    },
    {
      "cell_type": "code",
      "metadata": {
        "id": "p_HDgervtY9Z",
        "colab_type": "code",
        "colab": {
          "base_uri": "https://localhost:8080/",
          "height": 72
        },
        "outputId": "3e1a39ad-3692-4721-a4bf-db30085a5508"
      },
      "source": [
        "# Need N x T matrix (can substitute D for T)\n",
        "X_train = pad_sequences(sequences_train) # Pad sequences to make them of equal length\n",
        "print(\"Train Sensor shape: \", X_train.shape)\n",
        "\n",
        "T = X_train.shape[1]\n",
        "print(\"Sequence length: \", T)\n",
        "\n",
        "X_test = pad_sequences(sequences_test, maxlen=T)\n",
        "print(\"Test Sensor shape: \", X_test.shape)"
      ],
      "execution_count": 31,
      "outputs": [
        {
          "output_type": "stream",
          "text": [
            "Train Sensor shape:  (3733, 115)\n",
            "Sequence length:  115\n",
            "Test Sensor shape:  (1839, 115)\n"
          ],
          "name": "stdout"
        }
      ]
    },
    {
      "cell_type": "markdown",
      "metadata": {
        "id": "3oyAzMmz08b-",
        "colab_type": "text"
      },
      "source": [
        "# Build Model"
      ]
    },
    {
      "cell_type": "code",
      "metadata": {
        "id": "j-tv6YaD1A4T",
        "colab_type": "code",
        "colab": {}
      },
      "source": [
        "N = df.shape[0] # Number of sequences\n",
        "# T, the sequence length has been defined\n",
        "D = 25 # Embedding dimensionality is a hyperparameter, because you get to choose any word vector sizez you want\n",
        "M = 30 # Number of neurons per hidden layer\n",
        "\n",
        "i = Input(shape=(T,))\n",
        "x = Embedding(V + 1, D)(i) # output dimensions are (V + 1, D) because embedding index starts at 1\n",
        "x = LSTM(M, return_sequences=True)(x)\n",
        "x = GlobalMaxPooling1D()(x)\n",
        "x = Dense(1, activation='sigmoid')(x)\n",
        "\n",
        "model = Model(i, x)\n",
        "\n",
        "model.compile(optimizer=Adam(lr=0.001),\n",
        "              loss='binary_crossentropy',\n",
        "              metrics=['accuracy'])"
      ],
      "execution_count": 0,
      "outputs": []
    },
    {
      "cell_type": "code",
      "metadata": {
        "id": "m4nM8rfX1IXm",
        "colab_type": "code",
        "colab": {
          "base_uri": "https://localhost:8080/",
          "height": 776
        },
        "outputId": "60d96de0-b525-4e30-8cc3-55bc5523041c"
      },
      "source": [
        "r = model.fit(X_train, y_train,\n",
        "              validation_data = (X_test, y_test),\n",
        "              epochs = 20)"
      ],
      "execution_count": 37,
      "outputs": [
        {
          "output_type": "stream",
          "text": [
            "Epoch 1/20\n",
            "117/117 [==============================] - 2s 20ms/step - loss: 0.4559 - accuracy: 0.8492 - val_loss: 0.3524 - val_accuracy: 0.8679\n",
            "Epoch 2/20\n",
            "117/117 [==============================] - 2s 15ms/step - loss: 0.3312 - accuracy: 0.8650 - val_loss: 0.3007 - val_accuracy: 0.8679\n",
            "Epoch 3/20\n",
            "117/117 [==============================] - 2s 15ms/step - loss: 0.2784 - accuracy: 0.8650 - val_loss: 0.2529 - val_accuracy: 0.8679\n",
            "Epoch 4/20\n",
            "117/117 [==============================] - 2s 15ms/step - loss: 0.2162 - accuracy: 0.8650 - val_loss: 0.1844 - val_accuracy: 0.8679\n",
            "Epoch 5/20\n",
            "117/117 [==============================] - 2s 15ms/step - loss: 0.1424 - accuracy: 0.9735 - val_loss: 0.1289 - val_accuracy: 0.9799\n",
            "Epoch 6/20\n",
            "117/117 [==============================] - 2s 14ms/step - loss: 0.0920 - accuracy: 0.9930 - val_loss: 0.0925 - val_accuracy: 0.9891\n",
            "Epoch 7/20\n",
            "117/117 [==============================] - 2s 14ms/step - loss: 0.0601 - accuracy: 0.9957 - val_loss: 0.0730 - val_accuracy: 0.9880\n",
            "Epoch 8/20\n",
            "117/117 [==============================] - 2s 14ms/step - loss: 0.0402 - accuracy: 0.9976 - val_loss: 0.0585 - val_accuracy: 0.9891\n",
            "Epoch 9/20\n",
            "117/117 [==============================] - 2s 14ms/step - loss: 0.0287 - accuracy: 0.9979 - val_loss: 0.0513 - val_accuracy: 0.9897\n",
            "Epoch 10/20\n",
            "117/117 [==============================] - 2s 14ms/step - loss: 0.0216 - accuracy: 0.9979 - val_loss: 0.0490 - val_accuracy: 0.9897\n",
            "Epoch 11/20\n",
            "117/117 [==============================] - 2s 14ms/step - loss: 0.0171 - accuracy: 0.9984 - val_loss: 0.0482 - val_accuracy: 0.9902\n",
            "Epoch 12/20\n",
            "117/117 [==============================] - 2s 14ms/step - loss: 0.0137 - accuracy: 0.9984 - val_loss: 0.0464 - val_accuracy: 0.9886\n",
            "Epoch 13/20\n",
            "117/117 [==============================] - 2s 14ms/step - loss: 0.0114 - accuracy: 0.9987 - val_loss: 0.0475 - val_accuracy: 0.9864\n",
            "Epoch 14/20\n",
            "117/117 [==============================] - 2s 14ms/step - loss: 0.0095 - accuracy: 0.9992 - val_loss: 0.0494 - val_accuracy: 0.9880\n",
            "Epoch 15/20\n",
            "117/117 [==============================] - 2s 14ms/step - loss: 0.0082 - accuracy: 0.9989 - val_loss: 0.0492 - val_accuracy: 0.9864\n",
            "Epoch 16/20\n",
            "117/117 [==============================] - 2s 14ms/step - loss: 0.0070 - accuracy: 0.9989 - val_loss: 0.0516 - val_accuracy: 0.9864\n",
            "Epoch 17/20\n",
            "117/117 [==============================] - 2s 14ms/step - loss: 0.0061 - accuracy: 0.9989 - val_loss: 0.0538 - val_accuracy: 0.9853\n",
            "Epoch 18/20\n",
            "117/117 [==============================] - 2s 15ms/step - loss: 0.0054 - accuracy: 0.9989 - val_loss: 0.0539 - val_accuracy: 0.9848\n",
            "Epoch 19/20\n",
            "117/117 [==============================] - 2s 15ms/step - loss: 0.0081 - accuracy: 0.9989 - val_loss: 0.0520 - val_accuracy: 0.9853\n",
            "Epoch 20/20\n",
            "117/117 [==============================] - 2s 15ms/step - loss: 0.0047 - accuracy: 0.9997 - val_loss: 0.0550 - val_accuracy: 0.9842\n"
          ],
          "name": "stdout"
        }
      ]
    },
    {
      "cell_type": "markdown",
      "metadata": {
        "id": "Ns1eHWjOoFpA",
        "colab_type": "text"
      },
      "source": [
        "# Evaluate Model"
      ]
    },
    {
      "cell_type": "markdown",
      "metadata": {
        "id": "1SwZDlXd6Mib",
        "colab_type": "text"
      },
      "source": [
        ""
      ]
    },
    {
      "cell_type": "code",
      "metadata": {
        "id": "1a17WMeMoHWc",
        "colab_type": "code",
        "outputId": "a37e3126-6ea3-4ac3-e72e-2fe0fea7a9e5",
        "colab": {
          "base_uri": "https://localhost:8080/",
          "height": 313
        }
      },
      "source": [
        "# Plot the loss\n",
        "plt.plot(r.history['loss'], label='loss')\n",
        "plt.plot(r.history['val_loss'], label='val_loss')\n",
        "plt.title(\"Loss and Validation Loss vs. Epoch\")\n",
        "plt.ylabel('Loss')\n",
        "plt.xlabel('Epoch')\n",
        "plt.legend()"
      ],
      "execution_count": 38,
      "outputs": [
        {
          "output_type": "execute_result",
          "data": {
            "text/plain": [
              "<matplotlib.legend.Legend at 0x7ff3ab9420b8>"
            ]
          },
          "metadata": {
            "tags": []
          },
          "execution_count": 38
        },
        {
          "output_type": "display_data",
          "data": {
            "image/png": "[encoded data removed]",
            "text/plain": [
              "<Figure size 432x288 with 1 Axes>"
            ]
          },
          "metadata": {
            "tags": [],
            "needs_background": "light"
          }
        }
      ]
    },
    {
      "cell_type": "code",
      "metadata": {
        "id": "xbBrirch5fQC",
        "colab_type": "code",
        "colab": {
          "base_uri": "https://localhost:8080/",
          "height": 313
        },
        "outputId": "2787f155-88cb-44a1-bddb-173aa29b369b"
      },
      "source": [
        "# Plot the loss\n",
        "plt.plot(r.history['accuracy'], label='accuracy')\n",
        "plt.plot(r.history['val_accuracy'], label='val_accuracy')\n",
        "plt.title(\"Loss and Validation Accuracy vs. Epoch\")\n",
        "plt.ylabel('Accuracy')\n",
        "plt.xlabel('Epoch')\n",
        "plt.legend()"
      ],
      "execution_count": 39,
      "outputs": [
        {
          "output_type": "execute_result",
          "data": {
            "text/plain": [
              "<matplotlib.legend.Legend at 0x7ff3ab971668>"
            ]
          },
          "metadata": {
            "tags": []
          },
          "execution_count": 39
        },
        {
          "output_type": "display_data",
          "data": {
            "image/png": "[encoded data removed]",
            "text/plain": [
              "<Figure size 432x288 with 1 Axes>"
            ]
          },
          "metadata": {
            "tags": [],
            "needs_background": "light"
          }
        }
      ]
    },
    {
      "cell_type": "code",
      "metadata": {
        "id": "1MgHEexX5_US",
        "colab_type": "code",
        "colab": {}
      },
      "source": [
        ""
      ],
      "execution_count": 0,
      "outputs": []
    }
  ]
}